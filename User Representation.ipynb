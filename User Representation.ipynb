{
 "cells": [
  {
   "cell_type": "markdown",
   "id": "71869675",
   "metadata": {},
   "source": [
    "## User Representation"
   ]
  },
  {
   "cell_type": "code",
   "execution_count": 19,
   "id": "e178be2b",
   "metadata": {},
   "outputs": [],
   "source": [
    "def calculate_expense_ratio(investment_budget):\n",
    "    # Define expense ratio range for the Indian market (0.01 to 0.05)\n",
    "    min_expense_ratio = 0.01\n",
    "    max_expense_ratio = 0.05\n",
    "    \n",
    "    # Normalize investment budget between 0 and 1\n",
    "    normalized_budget = investment_budget / 10000  # Assuming maximum investment budget is 500000 INR\n",
    "    \n",
    "    # Calculate normalized expense ratio within the range\n",
    "    normalized_expense_ratio = min_expense_ratio + (max_expense_ratio - min_expense_ratio) * normalized_budget\n",
    "    \n",
    "    # Apply bias to expense ratio\n",
    "    biased_expense_ratio = normalized_expense_ratio\n",
    "    \n",
    "    # If expense ratio is greater than 0.5, set it to 0.5\n",
    "    if biased_expense_ratio > 0.5:\n",
    "        biased_expense_ratio = 0.5\n",
    "    \n",
    "    return biased_expense_ratio"
   ]
  },
  {
   "cell_type": "code",
   "execution_count": 22,
   "id": "36ef067a",
   "metadata": {},
   "outputs": [
    {
     "data": {
      "text/plain": [
       "0.21000000000000002"
      ]
     },
     "execution_count": 22,
     "metadata": {},
     "output_type": "execute_result"
    }
   ],
   "source": [
    "expense_ratio = calculate_expense_ratio(50000)\n",
    "expense_ratio"
   ]
  },
  {
   "cell_type": "code",
   "execution_count": 54,
   "id": "fb74fa9a",
   "metadata": {},
   "outputs": [],
   "source": [
    "# Works only on yearly income\n",
    "def calculate_risk(age, income):\n",
    "    if age <= 30:\n",
    "        if income >= 1000000:\n",
    "            return 6\n",
    "        elif income >= 700000:\n",
    "            return 5\n",
    "        elif income >= 500000:\n",
    "            return 4\n",
    "        else:\n",
    "            return 3\n",
    "    elif age <= 40:\n",
    "        if income >= 1200000:\n",
    "            return 5\n",
    "        elif income >= 800000:\n",
    "            return 4\n",
    "        elif income >= 600000:\n",
    "            return 3\n",
    "        else:\n",
    "            return 2\n",
    "    elif age <= 50:\n",
    "        if income >= 1500000:\n",
    "            return 4\n",
    "        elif income >= 1000000:\n",
    "            return 3\n",
    "        elif income >= 800000:\n",
    "            return 2\n",
    "        else:\n",
    "            return 1\n",
    "    else:\n",
    "        if income >= 2000000:\n",
    "            return 3\n",
    "        elif income >= 1500000:\n",
    "            return 2\n",
    "        elif income >= 1000000:\n",
    "            return 1\n",
    "        else:\n",
    "            return 0\n",
    "\n"
   ]
  },
  {
   "cell_type": "code",
   "execution_count": 69,
   "id": "36085180",
   "metadata": {},
   "outputs": [],
   "source": [
    "def normalize_risk(risk):\n",
    "    # Normalize risk value between 0 and 1\n",
    "    normalized_risk = risk / 6.0  # Dividing by the maximum possible value\n",
    "    \n",
    "    # Apply bias to expense ratio\n",
    "    biased_normalized_risk = normalized_risk\n",
    "    \n",
    "    # If expense ratio is greater than 0.5, set it to 0.5\n",
    "    if biased_normalized_risk > 0.5:\n",
    "        biased_normalized_risk = 0.5\n",
    "    \n",
    "    return biased_normalized_risk\n",
    "    \n",
    "    "
   ]
  },
  {
   "cell_type": "code",
   "execution_count": 62,
   "id": "d62d44be",
   "metadata": {},
   "outputs": [
    {
     "name": "stdout",
     "output_type": "stream",
     "text": [
      "Risk level: 0.3333333333333333\n"
     ]
    }
   ],
   "source": [
    "risk = calculate_risk(50, 800000)\n",
    "normalised_risk = normalize_risk(risk)\n",
    "print(\"Risk level:\", normalised_risk)\n"
   ]
  },
  {
   "cell_type": "code",
   "execution_count": 64,
   "id": "707c3ecc",
   "metadata": {},
   "outputs": [
    {
     "name": "stdout",
     "output_type": "stream",
     "text": [
      "Enter your age: 24\n",
      "Enter your income: 800000\n",
      "Enter your investment budget: 100000\n",
      "Enter a subcategory (or type 'done' to finish): 32\n",
      "Enter a subcategory (or type 'done' to finish): 1\n",
      "Enter a subcategory (or type 'done' to finish): 2\n",
      "Enter a subcategory (or type 'done' to finish): 34\n",
      "Enter a subcategory (or type 'done' to finish): 6\n",
      "Enter a subcategory (or type 'done' to finish): done\n",
      "Enter the investment term (short term, midterm, or high term): midterm\n",
      "Age: 24\n",
      "Income: 800000.0\n",
      "Investment Budget: 100000.0\n",
      "Subcategories: ['32', '1', '2', '34', '6']\n",
      "Investment Term: midterm\n"
     ]
    }
   ],
   "source": [
    "def get_user_inputs():\n",
    "    age = int(input(\"Enter your age: \"))\n",
    "    income = float(input(\"Enter your income: \"))\n",
    "    investment_budget = float(input(\"Enter your investment budget: \"))\n",
    "    \n",
    "    subcategories = []\n",
    "    while True:\n",
    "        subcategory = input(\"Enter a subcategory (or type 'done' to finish): \")\n",
    "        if subcategory.lower() == 'done':\n",
    "            break\n",
    "        subcategories.append(subcategory)\n",
    "    \n",
    "    investment_term = input(\"Enter the investment term (short term, midterm, or high term): \")\n",
    "    \n",
    "    return age, income, investment_budget, subcategories, investment_term\n",
    "\n",
    "# Example usage:\n",
    "age, income, investment_budget, subcategories, investment_term = get_user_inputs()\n",
    "print(\"Age:\", age)\n",
    "print(\"Income:\", income)\n",
    "print(\"Investment Budget:\", investment_budget)\n",
    "print(\"Subcategories:\", subcategories)\n",
    "print(\"Investment Term:\", investment_term)\n"
   ]
  },
  {
   "cell_type": "code",
   "execution_count": 66,
   "id": "66836aab",
   "metadata": {},
   "outputs": [],
   "source": [
    "def calculate_user_vector(age, income, investment_budget):\n",
    "    expense_ratio = calculate_expense_ratio(investment_budget)\n",
    "    risk = calculate_risk(age, income)\n",
    "    normalised_risk = normalize_risk(risk)\n",
    "    return [expense_ratio, normalised_risk]"
   ]
  },
  {
   "cell_type": "code",
   "execution_count": 67,
   "id": "66b063e6",
   "metadata": {},
   "outputs": [
    {
     "name": "stdout",
     "output_type": "stream",
     "text": [
      "Vector: [0.41000000000000003, 5]\n"
     ]
    }
   ],
   "source": [
    "vector = calculate_vector(age, income, investment_budget)\n",
    "print(\"Vector:\", vector)"
   ]
  }
 ],
 "metadata": {
  "kernelspec": {
   "display_name": "Python 3 (ipykernel)",
   "language": "python",
   "name": "python3"
  },
  "language_info": {
   "codemirror_mode": {
    "name": "ipython",
    "version": 3
   },
   "file_extension": ".py",
   "mimetype": "text/x-python",
   "name": "python",
   "nbconvert_exporter": "python",
   "pygments_lexer": "ipython3",
   "version": "3.10.13"
  }
 },
 "nbformat": 4,
 "nbformat_minor": 5
}
