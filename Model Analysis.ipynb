{
 "cells": [
  {
   "cell_type": "markdown",
   "id": "11f1ca60",
   "metadata": {},
   "source": [
    "# Model Analysis"
   ]
  },
  {
   "cell_type": "code",
   "execution_count": 1,
   "id": "9cb78ab2",
   "metadata": {
    "scrolled": true
   },
   "outputs": [
    {
     "name": "stderr",
     "output_type": "stream",
     "text": [
      "C:\\Users\\acer\\anaconda3\\lib\\site-packages\\tqdm\\auto.py:21: TqdmWarning: IProgress not found. Please update jupyter and ipywidgets. See https://ipywidgets.readthedocs.io/en/stable/user_install.html\n",
      "  from .autonotebook import tqdm as notebook_tqdm\n"
     ]
    }
   ],
   "source": [
    "#importing libraries\n",
    "import pandas as pd\n",
    "import matplotlib.pyplot as plt\n",
    "from sklearn.model_selection import train_test_split\n",
    "import numpy as np\n",
    "from sklearn.metrics import mean_absolute_error, mean_squared_error\n",
    "from statsmodels.tsa.statespace.sarimax import SARIMAX\n",
    "from statsmodels.tsa.holtwinters import ExponentialSmoothing\n",
    "from prophet import Prophet\n",
    "from sklearn.ensemble import GradientBoostingRegressor\n",
    "from sklearn.preprocessing import MinMaxScaler\n",
    "from tensorflow.keras.models import Sequential\n",
    "from tensorflow.keras.layers import LSTM, Dense\n",
    "import time\n",
    "from datetime import datetime"
   ]
  },
  {
   "cell_type": "code",
   "execution_count": 2,
   "id": "0897a7db",
   "metadata": {},
   "outputs": [
    {
     "data": {
      "text/html": [
       "<div>\n",
       "<style scoped>\n",
       "    .dataframe tbody tr th:only-of-type {\n",
       "        vertical-align: middle;\n",
       "    }\n",
       "\n",
       "    .dataframe tbody tr th {\n",
       "        vertical-align: top;\n",
       "    }\n",
       "\n",
       "    .dataframe thead th {\n",
       "        text-align: right;\n",
       "    }\n",
       "</style>\n",
       "<table border=\"1\" class=\"dataframe\">\n",
       "  <thead>\n",
       "    <tr style=\"text-align: right;\">\n",
       "      <th></th>\n",
       "      <th>date</th>\n",
       "      <th>nav</th>\n",
       "    </tr>\n",
       "  </thead>\n",
       "  <tbody>\n",
       "    <tr>\n",
       "      <th>3890</th>\n",
       "      <td>01-01-2012</td>\n",
       "      <td>275.7253</td>\n",
       "    </tr>\n",
       "    <tr>\n",
       "      <th>3889</th>\n",
       "      <td>02-01-2012</td>\n",
       "      <td>275.7907</td>\n",
       "    </tr>\n",
       "    <tr>\n",
       "      <th>3888</th>\n",
       "      <td>03-01-2012</td>\n",
       "      <td>275.8576</td>\n",
       "    </tr>\n",
       "    <tr>\n",
       "      <th>3887</th>\n",
       "      <td>04-01-2012</td>\n",
       "      <td>275.9239</td>\n",
       "    </tr>\n",
       "    <tr>\n",
       "      <th>3886</th>\n",
       "      <td>05-01-2012</td>\n",
       "      <td>275.9909</td>\n",
       "    </tr>\n",
       "    <tr>\n",
       "      <th>...</th>\n",
       "      <td>...</td>\n",
       "      <td>...</td>\n",
       "    </tr>\n",
       "    <tr>\n",
       "      <th>4</th>\n",
       "      <td>15-04-2024</td>\n",
       "      <td>628.0995</td>\n",
       "    </tr>\n",
       "    <tr>\n",
       "      <th>3</th>\n",
       "      <td>16-04-2024</td>\n",
       "      <td>628.2255</td>\n",
       "    </tr>\n",
       "    <tr>\n",
       "      <th>2</th>\n",
       "      <td>17-04-2024</td>\n",
       "      <td>628.3417</td>\n",
       "    </tr>\n",
       "    <tr>\n",
       "      <th>1</th>\n",
       "      <td>18-04-2024</td>\n",
       "      <td>628.4563</td>\n",
       "    </tr>\n",
       "    <tr>\n",
       "      <th>0</th>\n",
       "      <td>19-04-2024</td>\n",
       "      <td>628.5548</td>\n",
       "    </tr>\n",
       "  </tbody>\n",
       "</table>\n",
       "<p>3891 rows × 2 columns</p>\n",
       "</div>"
      ],
      "text/plain": [
       "            date       nav\n",
       "3890  01-01-2012  275.7253\n",
       "3889  02-01-2012  275.7907\n",
       "3888  03-01-2012  275.8576\n",
       "3887  04-01-2012  275.9239\n",
       "3886  05-01-2012  275.9909\n",
       "...          ...       ...\n",
       "4     15-04-2024  628.0995\n",
       "3     16-04-2024  628.2255\n",
       "2     17-04-2024  628.3417\n",
       "1     18-04-2024  628.4563\n",
       "0     19-04-2024  628.5548\n",
       "\n",
       "[3891 rows x 2 columns]"
      ]
     },
     "execution_count": 2,
     "metadata": {},
     "output_type": "execute_result"
    }
   ],
   "source": [
    "# Data load from Excel\n",
    "file_path = 'Aditya Birla Sun Life Liquid Fund-Retail (Growth).xlsx'  \n",
    "df = pd.read_excel(file_path)\n",
    "# Reverse the DataFrame - to make it from old to new\n",
    "df = df[::-1]\n",
    "df"
   ]
  },
  {
   "cell_type": "markdown",
   "id": "7039f214",
   "metadata": {},
   "source": [
    "### Visualising"
   ]
  },
  {
   "cell_type": "code",
   "execution_count": 3,
   "id": "1309496e",
   "metadata": {},
   "outputs": [
    {
     "data": {
      "image/png": "[encoded data removed]",
      "text/plain": [
       "<Figure size 1000x600 with 1 Axes>"
      ]
     },
     "metadata": {},
     "output_type": "display_data"
    }
   ],
   "source": [
    "# Extract year from date\n",
    "df['year'] = pd.to_datetime(df['date'], format='%d-%m-%Y').dt.year\n",
    "\n",
    "# Plotting\n",
    "plt.figure(figsize=(10, 6))\n",
    "plt.plot(df['date'], df['nav'], color='blue', linestyle='-')\n",
    "plt.title('NAV of Aditya Birla Sun Life Liquid Fund-Retail (Growth)')\n",
    "plt.xlabel('Date')\n",
    "plt.ylabel('NAV')\n",
    "plt.xticks(df['date'][::250], df['year'][::250], rotation=45, ha='right')  # Show year labels every 250th data point\n",
    "plt.tight_layout()  # Adjust layout to prevent clipping of labels\n",
    "plt.grid(True)\n",
    "plt.show()"
   ]
  },
  {
   "cell_type": "markdown",
   "id": "bd605422",
   "metadata": {},
   "source": [
    "Time series data in the context of mutual funds' NAV (Net Asset Value) values refers to the historical record of NAV values over time. Each NAV value, recorded at successive points in time, establishes a chronological order. Trends in NAV values indicate the fund's overall movement—whether it's increasing, decreasing, or staying stable. While mutual funds' NAV values may not exhibit traditional seasonal patterns, they can still show periodic fluctuations influenced by market cycles or economic conditions. Additionally, cyclic patterns may arise from broader economic cycles or sector-specific dynamics. Random variations in NAV values reflect day-to-day fluctuations driven by market volatility or investor sentiment. Understanding NAV time series data is crucial for investors, fund managers, and analysts to assess performance, make investment decisions, and develop forecasting models."
   ]
  },
  {
   "cell_type": "markdown",
   "id": "37a4b485",
   "metadata": {},
   "source": [
    "#### Train test split creation"
   ]
  },
  {
   "cell_type": "code",
   "execution_count": 4,
   "id": "834341bf",
   "metadata": {},
   "outputs": [
    {
     "name": "stdout",
     "output_type": "stream",
     "text": [
      "Training set shape: (3112, 2) (3112,)\n",
      "Testing set shape: (779, 2) (779,)\n"
     ]
    }
   ],
   "source": [
    "# Split the data into features (X) and target variable (y)\n",
    "X = df.drop(columns=['nav'])  # Since 'date' is the only feature\n",
    "y = df['nav']\n",
    "\n",
    "# Split the data into training and testing sets\n",
    "X_train, X_test, y_train, y_test = train_test_split(X, y, test_size=0.2, shuffle=False)  # Adjust test_size as needed\n",
    "\n",
    "# Optionally, you can print the shapes of the resulting datasets\n",
    "print(\"Training set shape:\", X_train.shape, y_train.shape)\n",
    "print(\"Testing set shape:\", X_test.shape, y_test.shape)"
   ]
  },
  {
   "cell_type": "markdown",
   "id": "bbcc2291",
   "metadata": {},
   "source": [
    "## Model Analysis"
   ]
  },
  {
   "cell_type": "code",
   "execution_count": 5,
   "id": "6a184a10",
   "metadata": {},
   "outputs": [],
   "source": [
    "# Function to calculate evaluation metrics\n",
    "def evaluate(y_true, y_pred):\n",
    "    mae = mean_absolute_error(y_true, y_pred)\n",
    "    mse = mean_squared_error(y_true, y_pred)\n",
    "    rmse = np.sqrt(mse)\n",
    "    return mae, mse, rmse\n"
   ]
  },
  {
   "cell_type": "markdown",
   "id": "0679fd7e",
   "metadata": {},
   "source": [
    "### ARIMA"
   ]
  },
  {
   "cell_type": "markdown",
   "id": "ce3435af",
   "metadata": {},
   "source": [
    "ARIMA stands for Autoregressive Integrated Moving Average. It's a popular method for time series forecasting. ARIMA combines three elements:\n",
    "\n",
    "Autoregressive (AR): It looks at the relationship between current and past observations.\n",
    "Integrated (I): It makes the time series stationary by differencing.\n",
    "Moving Average (MA): It considers the relationship between an observation and a residual error from a moving average model.\n",
    "\n",
    "ARIMA models are defined by three parameters: p, d, and q, which represent the order of AR, differencing, and MA respectively. They're used in various fields to forecast future values based on past data patterns."
   ]
  },
  {
   "cell_type": "code",
   "execution_count": 6,
   "id": "f4241330",
   "metadata": {},
   "outputs": [],
   "source": [
    "# Function to fit and evaluate ARIMA model\n",
    "def fit_arima(X_train, y_train, X_test):\n",
    "    model = SARIMAX(y_train, order=(1, 1, 1), seasonal_order=(1, 1, 1, 12))\n",
    "    start_time = time.time()\n",
    "    model_fit = model.fit()\n",
    "    end_time = time.time()\n",
    "    y_pred = model_fit.forecast(steps=len(X_test))\n",
    "    return y_pred, end_time - start_time"
   ]
  },
  {
   "cell_type": "markdown",
   "id": "ee436dc6",
   "metadata": {},
   "source": [
    "### SARIMA"
   ]
  },
  {
   "cell_type": "markdown",
   "id": "6cb9a2ad",
   "metadata": {},
   "source": [
    "SARIMA, or Seasonal Autoregressive Integrated Moving Average, is an extension of the ARIMA model that takes into account seasonal patterns in time series data. It combines the core ARIMA components with seasonal elements.\n",
    "\n",
    "Seasonal Autoregressive (SAR): Like the AR term in ARIMA, SARIMA includes a seasonal autoregressive component that captures the relationship between the current observation and past observations at the same seasonality lag.\n",
    "\n",
    "Integrated (I): Similar to ARIMA, SARIMA includes differencing to make the time series stationary.\n",
    "\n",
    "Seasonal Moving Average (SMA): This component captures the relationship between an observation and a residual error from a moving average model applied to past seasonal observations.\n",
    "\n",
    "SARIMA models are specified by additional parameters: P, D, Q, and m, representing the seasonal order of autoregression, differencing, moving average, and the length of the seasonal cycle respectively. These models are useful for forecasting time series data that exhibit seasonal patterns or fluctuations."
   ]
  },
  {
   "cell_type": "code",
   "execution_count": 7,
   "id": "d8d38e98",
   "metadata": {},
   "outputs": [],
   "source": [
    "# Function to fit and evaluate SARIMA model\n",
    "def fit_sarima(X_train, y_train, X_test):\n",
    "    model = SARIMAX(y_train, order=(1, 1, 1), seasonal_order=(1, 1, 1, 12))\n",
    "    start_time = time.time()\n",
    "    model_fit = model.fit()\n",
    "    end_time = time.time()\n",
    "    y_pred = model_fit.forecast(steps=len(X_test))\n",
    "    return y_pred, end_time - start_time"
   ]
  },
  {
   "cell_type": "markdown",
   "id": "5f94c3dc",
   "metadata": {},
   "source": [
    "### ETS"
   ]
  },
  {
   "cell_type": "markdown",
   "id": "74ce1dca",
   "metadata": {},
   "source": [
    "The ETS (Error, Trend, Seasonality) model, also known as the Exponential Smoothing State Space model, is a class of forecasting methods that captures the underlying structure of time series data by decomposing it into three main components:\n",
    "\n",
    "Error (E): Represents the random noise or irregular component of the time series, which is assumed to be a random variable with mean zero.\n",
    "\n",
    "Trend (T): Captures the long-term movement or directionality in the time series data. It can be additive, where changes over time occur at a constant rate, or multiplicative, where changes over time occur at a varying rate.\n",
    "\n",
    "Seasonality (S): Accounts for repeating patterns or fluctuations that occur at fixed intervals within the time series data, such as daily, weekly, or monthly cycles.\n",
    "\n",
    "The ETS model uses exponential smoothing to estimate the current value of the time series based on its historical values and the estimated values of the error, trend, and seasonality components. It is characterized by parameters that control the smoothing process for each component, such as alpha (α) for the level (error), beta (β) for the trend, and gamma (γ) for the seasonality.\n",
    "\n",
    "ETS models are particularly useful for short-term forecasting and are commonly applied in business forecasting scenarios where time series data exhibit trend and seasonal patterns. They provide a flexible framework for capturing various types of time series behavior while requiring minimal computational resources"
   ]
  },
  {
   "cell_type": "code",
   "execution_count": 8,
   "id": "b3d15cd1",
   "metadata": {},
   "outputs": [],
   "source": [
    "# Function to fit and evaluate ETS model\n",
    "def fit_ets(X_train, y_train, X_test):\n",
    "    model = ExponentialSmoothing(y_train)\n",
    "    start_time = time.time()\n",
    "    model_fit = model.fit()\n",
    "    end_time = time.time()\n",
    "    y_pred = model_fit.forecast(steps=len(X_test))\n",
    "    return y_pred, end_time - start_time"
   ]
  },
  {
   "cell_type": "markdown",
   "id": "da7dd108",
   "metadata": {},
   "source": [
    "### LSTM (Long Short-Term Memory)"
   ]
  },
  {
   "cell_type": "markdown",
   "id": "9c00180a",
   "metadata": {},
   "source": [
    "LSTM (Long Short-Term Memory) is a type of neural network designed to process and predict sequences of data while retaining information over long periods. It addresses the vanishing gradient problem of traditional RNNs, making it effective for tasks like language translation, speech recognition, and time series forecasting. Its architecture includes memory cells with gates that control the flow of information, allowing it to capture long-term dependencies in sequential data."
   ]
  },
  {
   "cell_type": "code",
   "execution_count": 9,
   "id": "e0dfbb6a",
   "metadata": {},
   "outputs": [],
   "source": [
    "def fit_lstm(X_train, y_train, X_test):\n",
    "    # Convert date strings to timestamps\n",
    "    reference_date = datetime(1970, 1, 1)  # Reference date for Unix epoch\n",
    "    \n",
    "    X_train_timestamps = X_train['date'].apply(lambda x: (datetime.strptime(x, '%d-%m-%Y') - reference_date).total_seconds())\n",
    "    X_train_reshaped = np.array(X_train_timestamps).reshape(-1, 1, 1)\n",
    "    \n",
    "    X_test_timestamps = X_test['date'].apply(lambda x: (datetime.strptime(x, '%d-%m-%Y') - reference_date).total_seconds())\n",
    "    X_test_reshaped = np.array(X_test_timestamps).reshape(-1, 1, 1)\n",
    "    \n",
    "    # Normalize the data\n",
    "    scaler = MinMaxScaler(feature_range=(0, 1))\n",
    "    y_train_scaled = scaler.fit_transform(np.array(y_train).reshape(-1, 1))\n",
    "    \n",
    "    # Define the LSTM model\n",
    "    model = Sequential()\n",
    "    model.add(LSTM(units=50, activation='relu', input_shape=(1, 1)))\n",
    "    model.add(Dense(units=1))\n",
    "    model.compile(optimizer='adam', loss='mean_squared_error')\n",
    "    \n",
    "    # Fit the LSTM model\n",
    "    start_time = time.time()\n",
    "    model.fit(X_train_reshaped, y_train_scaled, epochs=100, batch_size=1, verbose=0)\n",
    "    end_time = time.time()\n",
    "    \n",
    "    # Predict using the trained model\n",
    "    y_pred_scaled = model.predict(X_test_reshaped)\n",
    "    y_pred = scaler.inverse_transform(y_pred_scaled)\n",
    "    return y_pred.flatten(), end_time - start_time"
   ]
  },
  {
   "cell_type": "markdown",
   "id": "073beaee",
   "metadata": {},
   "source": [
    "### Prophet"
   ]
  },
  {
   "cell_type": "markdown",
   "id": "1c73fd26",
   "metadata": {},
   "source": [
    "The technique behind Prophet involves decomposing time series data into several components: trend, seasonality (daily, weekly, yearly), holiday effects, and error term. It utilizes a generalized additive model (GAM) framework, where the time series is modeled as the sum of these components, along with additional parameters that control their flexibility and impact.\n",
    "\n",
    "Prophet uses a piecewise linear or logistic growth curve for the trend, allowing for changes in growth rates over time. Seasonality is modeled using Fourier series, which can capture periodic patterns at different frequencies. Holiday effects are accounted for by including indicator variables for specific holidays.\n",
    "\n",
    "To estimate the parameters of the model, Prophet uses a Markov Chain Monte Carlo (MCMC) sampling method or optimization algorithms. This allows for uncertainty estimation and provides confidence intervals around the forecasted values.\n",
    "\n",
    "Overall, Prophet combines various statistical techniques and heuristics to provide robust and flexible time series forecasting capabilities, especially suited for datasets with seasonal patterns and irregularities."
   ]
  },
  {
   "cell_type": "code",
   "execution_count": 10,
   "id": "4c4ddc34",
   "metadata": {},
   "outputs": [],
   "source": [
    "# Function to fit and evaluate Prophet model\n",
    "def fit_prophet(X_train, y_train, X_test):\n",
    "    # Step 1: Prepare training data\n",
    "    train_df = pd.DataFrame({'ds': pd.to_datetime(X_train['date'], format='%d-%m-%Y'), 'y': y_train})\n",
    "    # Step 2: Prepare test data\n",
    "    test_df = pd.DataFrame({'ds': pd.to_datetime(X_test['date'], format='%d-%m-%Y')})\n",
    "    model = Prophet()\n",
    "    start_time = time.time()\n",
    "    model.fit(train_df)\n",
    "    future = model.make_future_dataframe(periods=len(X_test))\n",
    "    forecast = model.predict(future)\n",
    "    end_time = time.time()\n",
    "    y_pred = forecast['yhat'].values[-len(X_test):]\n",
    "    return y_pred, end_time - start_time\n"
   ]
  },
  {
   "cell_type": "markdown",
   "id": "d3f8d164",
   "metadata": {},
   "source": [
    "### GBM (Gradient Boosting Machine) "
   ]
  },
  {
   "cell_type": "markdown",
   "id": "7476959a",
   "metadata": {},
   "source": [
    "GBM (Gradient Boosting Machine) is a machine learning method that combines multiple weak learners (often decision trees) sequentially to improve prediction accuracy. It works by iteratively correcting errors made by the previous models. Through gradient descent optimization, it minimizes a loss function by fitting new models to the negative gradient of the loss. GBM is known for its high accuracy and robustness against overfitting"
   ]
  },
  {
   "cell_type": "code",
   "execution_count": 11,
   "id": "2512fe00",
   "metadata": {},
   "outputs": [],
   "source": [
    "def preprocess_dates(date_strings):\n",
    "    timestamps = pd.to_datetime(date_strings['date'], format='%d-%m-%Y')\n",
    "    return timestamps\n",
    "\n",
    "# Function to fit and evaluate GBM model\n",
    "def fit_gbm(X_train, y_train, X_test):\n",
    "    \n",
    "    # Preprocess date strings into numerical timestamps\n",
    "    X_train_timestamps = preprocess_dates(X_train)\n",
    "    X_test_timestamps = preprocess_dates(X_test)\n",
    "    \n",
    "    model = GradientBoostingRegressor()\n",
    "    start_time = time.time()\n",
    "    model.fit(np.array(X_train_timestamps).reshape(-1, 1), y_train)\n",
    "    end_time = time.time()\n",
    "    y_pred = model.predict(np.array(X_test_timestamps).reshape(-1, 1))\n",
    "    \n",
    "    return y_pred, end_time - start_time"
   ]
  },
  {
   "cell_type": "markdown",
   "id": "8493791b",
   "metadata": {},
   "source": [
    "## Evaluating Models"
   ]
  },
  {
   "cell_type": "code",
   "execution_count": 12,
   "id": "768f3f83",
   "metadata": {},
   "outputs": [
    {
     "name": "stdout",
     "output_type": "stream",
     "text": [
      "Fitting and evaluating ARIMA...\n"
     ]
    },
    {
     "name": "stderr",
     "output_type": "stream",
     "text": [
      "C:\\Users\\acer\\anaconda3\\lib\\site-packages\\statsmodels\\tsa\\base\\tsa_model.py:473: ValueWarning: An unsupported index was provided and will be ignored when e.g. forecasting.\n",
      "  self._init_dates(dates, freq)\n",
      "C:\\Users\\acer\\anaconda3\\lib\\site-packages\\statsmodels\\tsa\\base\\tsa_model.py:473: ValueWarning: An unsupported index was provided and will be ignored when e.g. forecasting.\n",
      "  self._init_dates(dates, freq)\n",
      "C:\\Users\\acer\\anaconda3\\lib\\site-packages\\statsmodels\\tsa\\base\\tsa_model.py:836: ValueWarning: No supported index is available. Prediction results will be given with an integer index beginning at `start`.\n",
      "  return get_prediction_index(\n",
      "C:\\Users\\acer\\anaconda3\\lib\\site-packages\\statsmodels\\tsa\\base\\tsa_model.py:836: FutureWarning: No supported index is available. In the next version, calling this method in a model without a supported index will result in an exception.\n",
      "  return get_prediction_index(\n",
      "C:\\Users\\acer\\anaconda3\\lib\\site-packages\\statsmodels\\tsa\\base\\tsa_model.py:473: ValueWarning: An unsupported index was provided and will be ignored when e.g. forecasting.\n",
      "  self._init_dates(dates, freq)\n",
      "C:\\Users\\acer\\anaconda3\\lib\\site-packages\\statsmodels\\tsa\\base\\tsa_model.py:473: ValueWarning: An unsupported index was provided and will be ignored when e.g. forecasting.\n",
      "  self._init_dates(dates, freq)\n"
     ]
    },
    {
     "name": "stdout",
     "output_type": "stream",
     "text": [
      "Fitting and evaluating SARIMA...\n"
     ]
    },
    {
     "name": "stderr",
     "output_type": "stream",
     "text": [
      "C:\\Users\\acer\\anaconda3\\lib\\site-packages\\statsmodels\\tsa\\base\\tsa_model.py:836: ValueWarning: No supported index is available. Prediction results will be given with an integer index beginning at `start`.\n",
      "  return get_prediction_index(\n",
      "C:\\Users\\acer\\anaconda3\\lib\\site-packages\\statsmodels\\tsa\\base\\tsa_model.py:836: FutureWarning: No supported index is available. In the next version, calling this method in a model without a supported index will result in an exception.\n",
      "  return get_prediction_index(\n",
      "C:\\Users\\acer\\anaconda3\\lib\\site-packages\\statsmodels\\tsa\\base\\tsa_model.py:473: ValueWarning: An unsupported index was provided and will be ignored when e.g. forecasting.\n",
      "  self._init_dates(dates, freq)\n",
      "C:\\Users\\acer\\anaconda3\\lib\\site-packages\\statsmodels\\tsa\\base\\tsa_model.py:836: ValueWarning: No supported index is available. Prediction results will be given with an integer index beginning at `start`.\n",
      "  return get_prediction_index(\n",
      "C:\\Users\\acer\\anaconda3\\lib\\site-packages\\statsmodels\\tsa\\base\\tsa_model.py:836: FutureWarning: No supported index is available. In the next version, calling this method in a model without a supported index will result in an exception.\n",
      "  return get_prediction_index(\n"
     ]
    },
    {
     "name": "stdout",
     "output_type": "stream",
     "text": [
      "Fitting and evaluating ETS...\n",
      "Fitting and evaluating LSTM...\n",
      "25/25 [==============================] - 0s 1ms/step\n",
      "Fitting and evaluating Prophet...\n"
     ]
    },
    {
     "name": "stderr",
     "output_type": "stream",
     "text": [
      "20:26:05 - cmdstanpy - INFO - Chain [1] start processing\n",
      "20:26:07 - cmdstanpy - INFO - Chain [1] done processing\n"
     ]
    },
    {
     "name": "stdout",
     "output_type": "stream",
     "text": [
      "Fitting and evaluating GBM...\n",
      "\n",
      "Model Comparison Results:\n",
      "                         ARIMA      SARIMA          ETS          LSTM  \\\n",
      "MAE                  12.523221   12.523221    35.084026  4.725328e+03   \n",
      "MSE                 302.824595  302.824595  1849.498018  2.248736e+07   \n",
      "RMSE                 17.401856   17.401856    43.005791  4.742084e+03   \n",
      "Execution Time (s)    7.786176    7.891894     0.008977  3.166486e+02   \n",
      "\n",
      "                       Prophet          GBM  \n",
      "MAE                  13.943275    35.388145  \n",
      "MSE                 371.871556  1870.929991  \n",
      "RMSE                 19.283971    43.254248  \n",
      "Execution Time (s)    2.638968     0.318149  \n"
     ]
    }
   ],
   "source": [
    "# Fit and evaluate models\n",
    "models = {\n",
    "    'ARIMA': fit_arima,\n",
    "    'SARIMA': fit_sarima,\n",
    "    'ETS': fit_ets,\n",
    "    'LSTM': fit_lstm,\n",
    "    'Prophet': fit_prophet,\n",
    "    'GBM': fit_gbm\n",
    "}\n",
    "\n",
    "results = {}\n",
    "for model_name, model_func in models.items():\n",
    "    print(f\"Fitting and evaluating {model_name}...\")\n",
    "    y_pred, execution_time = model_func(X_train, y_train, X_test)\n",
    "    mae, mse, rmse = evaluate(y_test, y_pred)\n",
    "    results[model_name] = {\n",
    "        'MAE': mae,\n",
    "        'MSE': mse,\n",
    "        'RMSE': rmse,\n",
    "        'Execution Time (s)': execution_time\n",
    "    }\n",
    "\n",
    "# Print results\n",
    "print(\"\\nModel Comparison Results:\")\n",
    "results_df = pd.DataFrame(results)\n",
    "print(results_df)"
   ]
  },
  {
   "cell_type": "code",
   "execution_count": 13,
   "id": "e20f17cf",
   "metadata": {},
   "outputs": [
    {
     "data": {
      "text/html": [
       "<div>\n",
       "<style scoped>\n",
       "    .dataframe tbody tr th:only-of-type {\n",
       "        vertical-align: middle;\n",
       "    }\n",
       "\n",
       "    .dataframe tbody tr th {\n",
       "        vertical-align: top;\n",
       "    }\n",
       "\n",
       "    .dataframe thead th {\n",
       "        text-align: right;\n",
       "    }\n",
       "</style>\n",
       "<table border=\"1\" class=\"dataframe\">\n",
       "  <thead>\n",
       "    <tr style=\"text-align: right;\">\n",
       "      <th></th>\n",
       "      <th>ARIMA</th>\n",
       "      <th>SARIMA</th>\n",
       "      <th>ETS</th>\n",
       "      <th>LSTM</th>\n",
       "      <th>Prophet</th>\n",
       "      <th>GBM</th>\n",
       "    </tr>\n",
       "  </thead>\n",
       "  <tbody>\n",
       "    <tr>\n",
       "      <th>MAE</th>\n",
       "      <td>12.523221</td>\n",
       "      <td>12.523221</td>\n",
       "      <td>35.084026</td>\n",
       "      <td>4.725328e+03</td>\n",
       "      <td>13.943275</td>\n",
       "      <td>35.388145</td>\n",
       "    </tr>\n",
       "    <tr>\n",
       "      <th>MSE</th>\n",
       "      <td>302.824595</td>\n",
       "      <td>302.824595</td>\n",
       "      <td>1849.498018</td>\n",
       "      <td>2.248736e+07</td>\n",
       "      <td>371.871556</td>\n",
       "      <td>1870.929991</td>\n",
       "    </tr>\n",
       "    <tr>\n",
       "      <th>RMSE</th>\n",
       "      <td>17.401856</td>\n",
       "      <td>17.401856</td>\n",
       "      <td>43.005791</td>\n",
       "      <td>4.742084e+03</td>\n",
       "      <td>19.283971</td>\n",
       "      <td>43.254248</td>\n",
       "    </tr>\n",
       "    <tr>\n",
       "      <th>Execution Time (s)</th>\n",
       "      <td>7.786176</td>\n",
       "      <td>7.891894</td>\n",
       "      <td>0.008977</td>\n",
       "      <td>3.166486e+02</td>\n",
       "      <td>2.638968</td>\n",
       "      <td>0.318149</td>\n",
       "    </tr>\n",
       "  </tbody>\n",
       "</table>\n",
       "</div>"
      ],
      "text/plain": [
       "                         ARIMA      SARIMA          ETS          LSTM  \\\n",
       "MAE                  12.523221   12.523221    35.084026  4.725328e+03   \n",
       "MSE                 302.824595  302.824595  1849.498018  2.248736e+07   \n",
       "RMSE                 17.401856   17.401856    43.005791  4.742084e+03   \n",
       "Execution Time (s)    7.786176    7.891894     0.008977  3.166486e+02   \n",
       "\n",
       "                       Prophet          GBM  \n",
       "MAE                  13.943275    35.388145  \n",
       "MSE                 371.871556  1870.929991  \n",
       "RMSE                 19.283971    43.254248  \n",
       "Execution Time (s)    2.638968     0.318149  "
      ]
     },
     "execution_count": 13,
     "metadata": {},
     "output_type": "execute_result"
    }
   ],
   "source": [
    "results_df"
   ]
  },
  {
   "cell_type": "markdown",
   "id": "5f9f160f",
   "metadata": {},
   "source": [
    "Lower values for MAE, MSE, and RMSE indicate better predictive performance, while lower execution time is desirable for efficiency.\n",
    "\n",
    "Based on the comparison results:\n",
    "\n",
    "ARIMA, SARIMA, Prophet: These models have relatively lower MAE, MSE, and RMSE compared to ETS and GBM, indicating better predictive performance in terms of accuracy.\n",
    "ETS: This model has the highest MAE, MSE, and RMSE among all models, suggesting relatively poorer predictive performance compared to the others.\n",
    "LSTM, GBM: These models have extremely high MAE, MSE, and RMSE compared to the other models, indicating significantly worse predictive performance.\n",
    "In terms of execution time:\n",
    "\n",
    "ETS has the fastest execution time, followed by Prophet and GBM.\n",
    "ARIMA and SARIMA have relatively longer execution times.\n",
    "LSTM has the longest execution time among all models."
   ]
  },
  {
   "cell_type": "markdown",
   "id": "a0ad890f",
   "metadata": {},
   "source": [
    "#### Considering both predictive performance and execution time, it appears that Prophet performs relatively well, with moderate predictive performance and a relatively low execution time."
   ]
  },
  {
   "cell_type": "markdown",
   "id": "65b3663f",
   "metadata": {},
   "source": [
    "## END"
   ]
  }
 ],
 "metadata": {
  "kernelspec": {
   "display_name": "Python 3 (ipykernel)",
   "language": "python",
   "name": "python3"
  },
  "language_info": {
   "codemirror_mode": {
    "name": "ipython",
    "version": 3
   },
   "file_extension": ".py",
   "mimetype": "text/x-python",
   "name": "python",
   "nbconvert_exporter": "python",
   "pygments_lexer": "ipython3",
   "version": "3.10.13"
  }
 },
 "nbformat": 4,
 "nbformat_minor": 5
}
