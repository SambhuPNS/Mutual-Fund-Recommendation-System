{
 "cells": [
  {
   "cell_type": "code",
   "execution_count": 13,
   "id": "461cb603",
   "metadata": {},
   "outputs": [],
   "source": [
    "import requests\n",
    "import pandas as pd\n",
    "from prophet import Prophet"
   ]
  },
  {
   "cell_type": "code",
   "execution_count": 14,
   "id": "893bd23e",
   "metadata": {},
   "outputs": [],
   "source": [
    "# Function create a dataframe by fetching the current data.import requests\n",
    "def fetch_scheme_nav_data(scheme_code):\n",
    "    api_url = f\"https://api.mfapi.in/mf/{scheme_code}\"\n",
    "    response = requests.get(api_url)\n",
    "    \n",
    "    if response.status_code == 200:\n",
    "        json_data = response.json()\n",
    "        nav_data = json_data.get('data', [])\n",
    "        \n",
    "        if nav_data:\n",
    "            nav_df = pd.DataFrame(nav_data)\n",
    "            nav_df['date'] = pd.to_datetime(nav_df['date'], format='%d-%m-%Y')\n",
    "            nav_df['nav'] = pd.to_numeric(nav_df['nav'], errors='coerce')\n",
    "            nav_df['date'] = nav_df['date'].dt.strftime('%d-%m-%Y')\n",
    "            nav_df = nav_df[::-1]\n",
    "            return nav_df\n",
    "        else:\n",
    "            print(\"No NAV data available for the scheme.\")\n",
    "            return None\n",
    "    else:\n",
    "        print(\"Failed to fetch JSON data:\", response.status_code)\n",
    "        return None"
   ]
  },
  {
   "cell_type": "code",
   "execution_count": 86,
   "id": "00a09f49",
   "metadata": {},
   "outputs": [
    {
     "data": {
      "text/html": [
       "<div>\n",
       "<style scoped>\n",
       "    .dataframe tbody tr th:only-of-type {\n",
       "        vertical-align: middle;\n",
       "    }\n",
       "\n",
       "    .dataframe tbody tr th {\n",
       "        vertical-align: top;\n",
       "    }\n",
       "\n",
       "    .dataframe thead th {\n",
       "        text-align: right;\n",
       "    }\n",
       "</style>\n",
       "<table border=\"1\" class=\"dataframe\">\n",
       "  <thead>\n",
       "    <tr style=\"text-align: right;\">\n",
       "      <th></th>\n",
       "      <th>date</th>\n",
       "      <th>nav</th>\n",
       "    </tr>\n",
       "  </thead>\n",
       "  <tbody>\n",
       "    <tr>\n",
       "      <th>1706</th>\n",
       "      <td>19-06-2006</td>\n",
       "      <td>0.0</td>\n",
       "    </tr>\n",
       "    <tr>\n",
       "      <th>1705</th>\n",
       "      <td>20-06-2006</td>\n",
       "      <td>0.0</td>\n",
       "    </tr>\n",
       "    <tr>\n",
       "      <th>1704</th>\n",
       "      <td>21-06-2006</td>\n",
       "      <td>0.0</td>\n",
       "    </tr>\n",
       "    <tr>\n",
       "      <th>1703</th>\n",
       "      <td>22-06-2006</td>\n",
       "      <td>0.0</td>\n",
       "    </tr>\n",
       "    <tr>\n",
       "      <th>1702</th>\n",
       "      <td>23-06-2006</td>\n",
       "      <td>0.0</td>\n",
       "    </tr>\n",
       "    <tr>\n",
       "      <th>...</th>\n",
       "      <td>...</td>\n",
       "      <td>...</td>\n",
       "    </tr>\n",
       "    <tr>\n",
       "      <th>4</th>\n",
       "      <td>18-06-2013</td>\n",
       "      <td>0.0</td>\n",
       "    </tr>\n",
       "    <tr>\n",
       "      <th>3</th>\n",
       "      <td>20-06-2013</td>\n",
       "      <td>0.0</td>\n",
       "    </tr>\n",
       "    <tr>\n",
       "      <th>2</th>\n",
       "      <td>09-07-2013</td>\n",
       "      <td>0.0</td>\n",
       "    </tr>\n",
       "    <tr>\n",
       "      <th>1</th>\n",
       "      <td>24-07-2013</td>\n",
       "      <td>0.0</td>\n",
       "    </tr>\n",
       "    <tr>\n",
       "      <th>0</th>\n",
       "      <td>26-09-2013</td>\n",
       "      <td>0.0</td>\n",
       "    </tr>\n",
       "  </tbody>\n",
       "</table>\n",
       "<p>1707 rows × 2 columns</p>\n",
       "</div>"
      ],
      "text/plain": [
       "            date  nav\n",
       "1706  19-06-2006  0.0\n",
       "1705  20-06-2006  0.0\n",
       "1704  21-06-2006  0.0\n",
       "1703  22-06-2006  0.0\n",
       "1702  23-06-2006  0.0\n",
       "...          ...  ...\n",
       "4     18-06-2013  0.0\n",
       "3     20-06-2013  0.0\n",
       "2     09-07-2013  0.0\n",
       "1     24-07-2013  0.0\n",
       "0     26-09-2013  0.0\n",
       "\n",
       "[1707 rows x 2 columns]"
      ]
     },
     "execution_count": 86,
     "metadata": {},
     "output_type": "execute_result"
    }
   ],
   "source": [
    "scheme_code = 100607\n",
    "nav_df = fetch_scheme_nav_data(scheme_code)\n",
    "nav_df"
   ]
  },
  {
   "cell_type": "code",
   "execution_count": 45,
   "id": "fed79d05",
   "metadata": {},
   "outputs": [],
   "source": [
    "# Function to predcit and return the predcited dataframe\n",
    "def predict_nav(nav_df):\n",
    "    \n",
    "    # Check if the dataframe is small\n",
    "    if len(nav_df) < 100:\n",
    "        #print(\"Input dataframe is too small. Returning null dataframe.\")\n",
    "        return pd.DataFrame(columns=['ds', 'yhat'])\n",
    "    # Step 1: Preprocess the data\n",
    "    # Ensure 'date' column is in datetime format\n",
    "    nav_df['ds'] = pd.to_datetime(nav_df['date'], format='%d-%m-%Y')\n",
    "    # Rename 'nav' column to 'y' as required by Prophet\n",
    "    nav_df.rename(columns={'nav': 'y'}, inplace=True)\n",
    "\n",
    "    # Step 2: Train a forecasting model\n",
    "    model = Prophet()\n",
    "    model.fit(nav_df)\n",
    "\n",
    "    # Step 3: Make predictions for the next 5 years\n",
    "    future = model.make_future_dataframe(periods=365*5, freq='D')\n",
    "    forecast = model.predict(future)\n",
    "    \n",
    "    # Filter out dates beyond the range of the original data\n",
    "    future_dates = forecast[forecast['ds'] > nav_df['ds'].max()]['ds']\n",
    "\n",
    "    # Create predicted_values DataFrame with only future dates and predicted NAV values\n",
    "    predicted_values = forecast[forecast['ds'].isin(future_dates)][['ds', 'yhat']].copy()\n",
    "\n",
    "    return predicted_values"
   ]
  },
  {
   "cell_type": "code",
   "execution_count": 87,
   "id": "857cd808",
   "metadata": {},
   "outputs": [
    {
     "data": {
      "text/html": [
       "<div>\n",
       "<style scoped>\n",
       "    .dataframe tbody tr th:only-of-type {\n",
       "        vertical-align: middle;\n",
       "    }\n",
       "\n",
       "    .dataframe tbody tr th {\n",
       "        vertical-align: top;\n",
       "    }\n",
       "\n",
       "    .dataframe thead th {\n",
       "        text-align: right;\n",
       "    }\n",
       "</style>\n",
       "<table border=\"1\" class=\"dataframe\">\n",
       "  <thead>\n",
       "    <tr style=\"text-align: right;\">\n",
       "      <th></th>\n",
       "      <th>ds</th>\n",
       "      <th>yhat</th>\n",
       "    </tr>\n",
       "  </thead>\n",
       "  <tbody>\n",
       "    <tr>\n",
       "      <th>1707</th>\n",
       "      <td>2013-09-27</td>\n",
       "      <td>0.0</td>\n",
       "    </tr>\n",
       "    <tr>\n",
       "      <th>1708</th>\n",
       "      <td>2013-09-28</td>\n",
       "      <td>0.0</td>\n",
       "    </tr>\n",
       "    <tr>\n",
       "      <th>1709</th>\n",
       "      <td>2013-09-29</td>\n",
       "      <td>0.0</td>\n",
       "    </tr>\n",
       "    <tr>\n",
       "      <th>1710</th>\n",
       "      <td>2013-09-30</td>\n",
       "      <td>0.0</td>\n",
       "    </tr>\n",
       "    <tr>\n",
       "      <th>1711</th>\n",
       "      <td>2013-10-01</td>\n",
       "      <td>0.0</td>\n",
       "    </tr>\n",
       "    <tr>\n",
       "      <th>...</th>\n",
       "      <td>...</td>\n",
       "      <td>...</td>\n",
       "    </tr>\n",
       "    <tr>\n",
       "      <th>3527</th>\n",
       "      <td>2018-09-21</td>\n",
       "      <td>0.0</td>\n",
       "    </tr>\n",
       "    <tr>\n",
       "      <th>3528</th>\n",
       "      <td>2018-09-22</td>\n",
       "      <td>0.0</td>\n",
       "    </tr>\n",
       "    <tr>\n",
       "      <th>3529</th>\n",
       "      <td>2018-09-23</td>\n",
       "      <td>0.0</td>\n",
       "    </tr>\n",
       "    <tr>\n",
       "      <th>3530</th>\n",
       "      <td>2018-09-24</td>\n",
       "      <td>0.0</td>\n",
       "    </tr>\n",
       "    <tr>\n",
       "      <th>3531</th>\n",
       "      <td>2018-09-25</td>\n",
       "      <td>0.0</td>\n",
       "    </tr>\n",
       "  </tbody>\n",
       "</table>\n",
       "<p>1825 rows × 2 columns</p>\n",
       "</div>"
      ],
      "text/plain": [
       "             ds  yhat\n",
       "1707 2013-09-27   0.0\n",
       "1708 2013-09-28   0.0\n",
       "1709 2013-09-29   0.0\n",
       "1710 2013-09-30   0.0\n",
       "1711 2013-10-01   0.0\n",
       "...         ...   ...\n",
       "3527 2018-09-21   0.0\n",
       "3528 2018-09-22   0.0\n",
       "3529 2018-09-23   0.0\n",
       "3530 2018-09-24   0.0\n",
       "3531 2018-09-25   0.0\n",
       "\n",
       "[1825 rows x 2 columns]"
      ]
     },
     "execution_count": 87,
     "metadata": {},
     "output_type": "execute_result"
    }
   ],
   "source": [
    "predicted_df = predict_nav(nav_df)\n",
    "predicted_df"
   ]
  },
  {
   "cell_type": "code",
   "execution_count": 88,
   "id": "714d20af",
   "metadata": {},
   "outputs": [],
   "source": [
    "# Function which will return the scores based on the predicted value\n",
    "def calculate_returns(predicted_nav_df):\n",
    "    \n",
    "    \n",
    "    if predicted_nav_df.empty:  # Check if the dataframe is empty\n",
    "        return {}  # Return an empty dataframe if it's empty\n",
    "    # Step 1: Sort the dataframe by date\n",
    "    \n",
    "    predicted_nav_df_sorted = predicted_nav_df.sort_values(by='ds')\n",
    "\n",
    "    # Step 2: Calculate 1-year, 3-year, and 5-year returns\n",
    "    def calculate_returns(nav_values, dates, years):\n",
    "        returns = {}\n",
    "        for year in years:\n",
    "            # Calculate the NAV at the beginning and end of the period\n",
    "            end_nav = nav_values.iloc[-1]\n",
    "            start_date = max(dates) - pd.DateOffset(years=year)\n",
    "            start_nav = nav_values[dates >= start_date].iloc[0]\n",
    "                        # If start_nav is zero, replace it with 1\n",
    "            if start_nav == 0:\n",
    "                start_nav = 1\n",
    "            # Calculate the return using the CAGR formula\n",
    "            cagr = (end_nav / start_nav) ** (1/year) - 1\n",
    "            returns[f\"{year}-Year Return\"] = cagr * 100  # Convert to percentage\n",
    "        return returns\n",
    "\n",
    "    # Extract NAV values and dates\n",
    "    nav_values = predicted_nav_df_sorted['yhat']\n",
    "    dates = predicted_nav_df_sorted['ds']\n",
    "\n",
    "    # Calculate returns\n",
    "    years = [1, 3, 5]\n",
    "    returns = calculate_returns(nav_values, dates, years)\n",
    "\n",
    "    return returns"
   ]
  },
  {
   "cell_type": "code",
   "execution_count": 71,
   "id": "853ed7d9",
   "metadata": {},
   "outputs": [
    {
     "name": "stdout",
     "output_type": "stream",
     "text": [
      "1-Year Return: 2.96%\n",
      "3-Year Return: 2.57%\n",
      "5-Year Return: 2.51%\n"
     ]
    }
   ],
   "source": [
    "returns = calculate_returns(predicted_df)\n",
    "for year, return_value in returns.items():\n",
    "    print(f\"{year}: {return_value:.2f}%\")"
   ]
  },
  {
   "cell_type": "code",
   "execution_count": 72,
   "id": "c4e870bd",
   "metadata": {},
   "outputs": [
    {
     "name": "stdout",
     "output_type": "stream",
     "text": [
      "<class 'dict'>\n"
     ]
    }
   ],
   "source": [
    "print(type(returns))"
   ]
  },
  {
   "cell_type": "code",
   "execution_count": null,
   "id": "155a8695",
   "metadata": {},
   "outputs": [],
   "source": []
  },
  {
   "cell_type": "code",
   "execution_count": 95,
   "id": "3b87a020",
   "metadata": {},
   "outputs": [],
   "source": [
    "# Function to create a dataframe with funds and scores\n",
    "def calculate_scores_for_scheme_codes(scheme_codes, year):\n",
    "    # Create an empty list to store the results\n",
    "    results = []\n",
    "\n",
    "    # Iterate over the list of scheme codes\n",
    "    for scheme_code in scheme_codes:\n",
    "        # Fetch NAV data for the scheme\n",
    "        nav_df = fetch_scheme_nav_data(scheme_code)\n",
    "\n",
    "        if nav_df is not None:\n",
    "            # Predict NAV values\n",
    "            predicted_nav_df = predict_nav(nav_df)\n",
    "\n",
    "            # Calculate returns\n",
    "            returns = calculate_returns(predicted_nav_df)\n",
    "            print(scheme_code)\n",
    "            if not returns:\n",
    "                results.append({\n",
    "                    'Scheme Code': scheme_code,\n",
    "                    '1-Year Return': -1,\n",
    "                    '3-Year Return': -1,\n",
    "                    '5-Year Return': -1\n",
    "                })\n",
    "            else:\n",
    "                # Append scheme code and returns to the results list as a dictionary\n",
    "                results.append({\n",
    "                    'Scheme Code': scheme_code,\n",
    "                    '1-Year Return': returns['1-Year Return'],\n",
    "                    '3-Year Return': returns['3-Year Return'],\n",
    "                    '5-Year Return': returns['5-Year Return']\n",
    "                })\n",
    "        else:\n",
    "            print(f\"Failed to fetch NAV data for scheme code {scheme_code}. Skipping...\")\n",
    "\n",
    "    # Create DataFrame from the list of dictionaries\n",
    "    results_df = pd.DataFrame(results)\n",
    "\n",
    "    returns = {}\n",
    "    for index, row in results_df.iterrows():\n",
    "        scheme_code = row['Scheme Code']\n",
    "        if year == 1:\n",
    "            returns[scheme_code] = row['1-Year Return']\n",
    "        elif year == 3:\n",
    "            returns[scheme_code] = row['3-Year Return']\n",
    "        elif year == 5:\n",
    "            returns[scheme_code] = row['5-Year Return']\n",
    "        else:\n",
    "            print(\"Invalid year! Please provide 1, 3, or 5 for year.\")\n",
    "            return None\n",
    "    return returns\n"
   ]
  },
  {
   "cell_type": "code",
   "execution_count": 96,
   "id": "124548d9",
   "metadata": {},
   "outputs": [
    {
     "name": "stderr",
     "output_type": "stream",
     "text": [
      "21:36:44 - cmdstanpy - INFO - Chain [1] start processing\n",
      "21:36:44 - cmdstanpy - INFO - Chain [1] done processing\n"
     ]
    },
    {
     "name": "stdout",
     "output_type": "stream",
     "text": [
      "101094\n"
     ]
    },
    {
     "name": "stderr",
     "output_type": "stream",
     "text": [
      "21:36:46 - cmdstanpy - INFO - Chain [1] start processing\n",
      "21:36:47 - cmdstanpy - INFO - Chain [1] done processing\n"
     ]
    },
    {
     "name": "stdout",
     "output_type": "stream",
     "text": [
      "109264\n"
     ]
    },
    {
     "name": "stderr",
     "output_type": "stream",
     "text": [
      "21:36:49 - cmdstanpy - INFO - Chain [1] start processing\n",
      "21:36:51 - cmdstanpy - INFO - Chain [1] done processing\n"
     ]
    },
    {
     "name": "stdout",
     "output_type": "stream",
     "text": [
      "100477\n"
     ]
    },
    {
     "name": "stderr",
     "output_type": "stream",
     "text": [
      "21:36:53 - cmdstanpy - INFO - Chain [1] start processing\n",
      "21:36:54 - cmdstanpy - INFO - Chain [1] done processing\n"
     ]
    },
    {
     "name": "stdout",
     "output_type": "stream",
     "text": [
      "100065\n"
     ]
    },
    {
     "name": "stderr",
     "output_type": "stream",
     "text": [
      "21:36:56 - cmdstanpy - INFO - Chain [1] start processing\n",
      "21:36:59 - cmdstanpy - INFO - Chain [1] done processing\n"
     ]
    },
    {
     "name": "stdout",
     "output_type": "stream",
     "text": [
      "109255\n"
     ]
    },
    {
     "name": "stderr",
     "output_type": "stream",
     "text": [
      "21:37:01 - cmdstanpy - INFO - Chain [1] start processing\n",
      "21:37:05 - cmdstanpy - INFO - Chain [1] done processing\n"
     ]
    },
    {
     "name": "stdout",
     "output_type": "stream",
     "text": [
      "101551\n"
     ]
    },
    {
     "name": "stderr",
     "output_type": "stream",
     "text": [
      "21:37:07 - cmdstanpy - INFO - Chain [1] start processing\n",
      "21:37:07 - cmdstanpy - INFO - Chain [1] done processing\n"
     ]
    },
    {
     "name": "stdout",
     "output_type": "stream",
     "text": [
      "101095\n"
     ]
    },
    {
     "name": "stderr",
     "output_type": "stream",
     "text": [
      "21:37:09 - cmdstanpy - INFO - Chain [1] start processing\n",
      "21:37:11 - cmdstanpy - INFO - Chain [1] done processing\n"
     ]
    },
    {
     "name": "stdout",
     "output_type": "stream",
     "text": [
      "111585\n"
     ]
    },
    {
     "name": "stderr",
     "output_type": "stream",
     "text": [
      "21:37:13 - cmdstanpy - INFO - Chain [1] start processing\n",
      "21:37:15 - cmdstanpy - INFO - Chain [1] done processing\n"
     ]
    },
    {
     "name": "stdout",
     "output_type": "stream",
     "text": [
      "100684\n"
     ]
    },
    {
     "name": "stderr",
     "output_type": "stream",
     "text": [
      "21:37:17 - cmdstanpy - INFO - Chain [1] start processing\n",
      "21:37:19 - cmdstanpy - INFO - Chain [1] done processing\n"
     ]
    },
    {
     "name": "stdout",
     "output_type": "stream",
     "text": [
      "110606\n"
     ]
    },
    {
     "name": "stderr",
     "output_type": "stream",
     "text": [
      "21:37:21 - cmdstanpy - INFO - Chain [1] start processing\n",
      "21:37:23 - cmdstanpy - INFO - Chain [1] done processing\n"
     ]
    },
    {
     "name": "stdout",
     "output_type": "stream",
     "text": [
      "100999\n"
     ]
    },
    {
     "name": "stderr",
     "output_type": "stream",
     "text": [
      "21:37:25 - cmdstanpy - INFO - Chain [1] start processing\n",
      "21:37:27 - cmdstanpy - INFO - Chain [1] done processing\n"
     ]
    },
    {
     "name": "stdout",
     "output_type": "stream",
     "text": [
      "100254\n"
     ]
    },
    {
     "name": "stderr",
     "output_type": "stream",
     "text": [
      "21:37:29 - cmdstanpy - INFO - Chain [1] start processing\n",
      "21:37:31 - cmdstanpy - INFO - Chain [1] done processing\n"
     ]
    },
    {
     "name": "stdout",
     "output_type": "stream",
     "text": [
      "100614\n"
     ]
    },
    {
     "name": "stderr",
     "output_type": "stream",
     "text": [
      "21:37:33 - cmdstanpy - INFO - Chain [1] start processing\n",
      "21:37:35 - cmdstanpy - INFO - Chain [1] done processing\n"
     ]
    },
    {
     "name": "stdout",
     "output_type": "stream",
     "text": [
      "100315\n"
     ]
    },
    {
     "name": "stderr",
     "output_type": "stream",
     "text": [
      "21:37:37 - cmdstanpy - INFO - Chain [1] start processing\n",
      "21:37:39 - cmdstanpy - INFO - Chain [1] done processing\n"
     ]
    },
    {
     "name": "stdout",
     "output_type": "stream",
     "text": [
      "100218\n"
     ]
    },
    {
     "name": "stderr",
     "output_type": "stream",
     "text": [
      "21:37:41 - cmdstanpy - INFO - Chain [1] start processing\n",
      "21:37:43 - cmdstanpy - INFO - Chain [1] done processing\n"
     ]
    },
    {
     "name": "stdout",
     "output_type": "stream",
     "text": [
      "101672\n"
     ]
    },
    {
     "name": "stderr",
     "output_type": "stream",
     "text": [
      "21:37:45 - cmdstanpy - INFO - Chain [1] start processing\n",
      "21:37:46 - cmdstanpy - INFO - Chain [1] done processing\n"
     ]
    },
    {
     "name": "stdout",
     "output_type": "stream",
     "text": [
      "115399\n"
     ]
    },
    {
     "name": "stderr",
     "output_type": "stream",
     "text": [
      "21:37:49 - cmdstanpy - INFO - Chain [1] start processing\n",
      "21:37:52 - cmdstanpy - INFO - Chain [1] done processing\n"
     ]
    },
    {
     "name": "stdout",
     "output_type": "stream",
     "text": [
      "100682\n"
     ]
    },
    {
     "name": "stderr",
     "output_type": "stream",
     "text": [
      "21:37:54 - cmdstanpy - INFO - Chain [1] start processing\n",
      "21:37:56 - cmdstanpy - INFO - Chain [1] done processing\n"
     ]
    },
    {
     "name": "stdout",
     "output_type": "stream",
     "text": [
      "100494\n"
     ]
    },
    {
     "name": "stderr",
     "output_type": "stream",
     "text": [
      "21:37:58 - cmdstanpy - INFO - Chain [1] start processing\n",
      "21:37:59 - cmdstanpy - INFO - Chain [1] done processing\n"
     ]
    },
    {
     "name": "stdout",
     "output_type": "stream",
     "text": [
      "100363\n"
     ]
    },
    {
     "name": "stderr",
     "output_type": "stream",
     "text": [
      "21:38:02 - cmdstanpy - INFO - Chain [1] start processing\n",
      "21:38:03 - cmdstanpy - INFO - Chain [1] done processing\n"
     ]
    },
    {
     "name": "stdout",
     "output_type": "stream",
     "text": [
      "100387\n",
      "101160\n"
     ]
    },
    {
     "name": "stderr",
     "output_type": "stream",
     "text": [
      "21:38:06 - cmdstanpy - INFO - Chain [1] start processing\n",
      "21:38:09 - cmdstanpy - INFO - Chain [1] done processing\n"
     ]
    },
    {
     "name": "stdout",
     "output_type": "stream",
     "text": [
      "101169\n"
     ]
    },
    {
     "name": "stderr",
     "output_type": "stream",
     "text": [
      "21:38:12 - cmdstanpy - INFO - Chain [1] start processing\n",
      "21:38:16 - cmdstanpy - INFO - Chain [1] done processing\n"
     ]
    },
    {
     "name": "stdout",
     "output_type": "stream",
     "text": [
      "101206\n"
     ]
    },
    {
     "name": "stderr",
     "output_type": "stream",
     "text": [
      "21:38:19 - cmdstanpy - INFO - Chain [1] start processing\n",
      "21:38:19 - cmdstanpy - INFO - Chain [1] done processing\n"
     ]
    },
    {
     "name": "stdout",
     "output_type": "stream",
     "text": [
      "102201\n"
     ]
    },
    {
     "name": "stderr",
     "output_type": "stream",
     "text": [
      "21:38:21 - cmdstanpy - INFO - Chain [1] start processing\n",
      "21:38:23 - cmdstanpy - INFO - Chain [1] done processing\n"
     ]
    },
    {
     "name": "stdout",
     "output_type": "stream",
     "text": [
      "100787\n"
     ]
    },
    {
     "name": "stderr",
     "output_type": "stream",
     "text": [
      "21:38:25 - cmdstanpy - INFO - Chain [1] start processing\n",
      "21:38:26 - cmdstanpy - INFO - Chain [1] done processing\n"
     ]
    },
    {
     "name": "stdout",
     "output_type": "stream",
     "text": [
      "100881\n"
     ]
    },
    {
     "name": "stderr",
     "output_type": "stream",
     "text": [
      "21:38:29 - cmdstanpy - INFO - Chain [1] start processing\n",
      "21:38:31 - cmdstanpy - INFO - Chain [1] done processing\n"
     ]
    },
    {
     "name": "stdout",
     "output_type": "stream",
     "text": [
      "101003\n"
     ]
    },
    {
     "name": "stderr",
     "output_type": "stream",
     "text": [
      "21:38:34 - cmdstanpy - INFO - Chain [1] start processing\n",
      "21:38:35 - cmdstanpy - INFO - Chain [1] done processing\n"
     ]
    },
    {
     "name": "stdout",
     "output_type": "stream",
     "text": [
      "100318\n"
     ]
    },
    {
     "name": "stderr",
     "output_type": "stream",
     "text": [
      "21:38:38 - cmdstanpy - INFO - Chain [1] start processing\n",
      "21:38:43 - cmdstanpy - INFO - Chain [1] done processing\n"
     ]
    },
    {
     "name": "stdout",
     "output_type": "stream",
     "text": [
      "100047\n"
     ]
    },
    {
     "name": "stderr",
     "output_type": "stream",
     "text": [
      "21:38:46 - cmdstanpy - INFO - Chain [1] start processing\n",
      "21:38:47 - cmdstanpy - INFO - Chain [1] done processing\n"
     ]
    },
    {
     "name": "stdout",
     "output_type": "stream",
     "text": [
      "101209\n"
     ]
    },
    {
     "name": "stderr",
     "output_type": "stream",
     "text": [
      "21:38:50 - cmdstanpy - INFO - Chain [1] start processing\n",
      "21:38:52 - cmdstanpy - INFO - Chain [1] done processing\n"
     ]
    },
    {
     "name": "stdout",
     "output_type": "stream",
     "text": [
      "100064\n"
     ]
    },
    {
     "name": "stderr",
     "output_type": "stream",
     "text": [
      "21:38:54 - cmdstanpy - INFO - Chain [1] start processing\n",
      "21:38:56 - cmdstanpy - INFO - Chain [1] done processing\n"
     ]
    },
    {
     "name": "stdout",
     "output_type": "stream",
     "text": [
      "100355\n"
     ]
    },
    {
     "name": "stderr",
     "output_type": "stream",
     "text": [
      "21:38:59 - cmdstanpy - INFO - Chain [1] start processing\n",
      "21:39:00 - cmdstanpy - INFO - Chain [1] done processing\n"
     ]
    },
    {
     "name": "stdout",
     "output_type": "stream",
     "text": [
      "100651\n"
     ]
    },
    {
     "name": "stderr",
     "output_type": "stream",
     "text": [
      "21:39:02 - cmdstanpy - INFO - Chain [1] start processing\n",
      "21:39:05 - cmdstanpy - INFO - Chain [1] done processing\n"
     ]
    },
    {
     "name": "stdout",
     "output_type": "stream",
     "text": [
      "113104\n"
     ]
    },
    {
     "name": "stderr",
     "output_type": "stream",
     "text": [
      "21:39:08 - cmdstanpy - INFO - Chain [1] start processing\n",
      "21:39:10 - cmdstanpy - INFO - Chain [1] done processing\n"
     ]
    },
    {
     "name": "stdout",
     "output_type": "stream",
     "text": [
      "100609\n"
     ]
    },
    {
     "name": "stderr",
     "output_type": "stream",
     "text": [
      "21:39:13 - cmdstanpy - INFO - Chain [1] start processing\n",
      "21:39:15 - cmdstanpy - INFO - Chain [1] done processing\n"
     ]
    },
    {
     "name": "stdout",
     "output_type": "stream",
     "text": [
      "100476\n"
     ]
    },
    {
     "name": "stderr",
     "output_type": "stream",
     "text": [
      "21:39:18 - cmdstanpy - INFO - Chain [1] start processing\n",
      "21:39:20 - cmdstanpy - INFO - Chain [1] done processing\n"
     ]
    },
    {
     "name": "stdout",
     "output_type": "stream",
     "text": [
      "100369\n"
     ]
    },
    {
     "name": "stderr",
     "output_type": "stream",
     "text": [
      "21:39:22 - cmdstanpy - INFO - Chain [1] start processing\n",
      "21:39:24 - cmdstanpy - INFO - Chain [1] done processing\n"
     ]
    },
    {
     "name": "stdout",
     "output_type": "stream",
     "text": [
      "119334\n"
     ]
    },
    {
     "name": "stderr",
     "output_type": "stream",
     "text": [
      "21:39:26 - cmdstanpy - INFO - Chain [1] start processing\n",
      "21:39:28 - cmdstanpy - INFO - Chain [1] done processing\n"
     ]
    },
    {
     "name": "stdout",
     "output_type": "stream",
     "text": [
      "113251\n"
     ]
    },
    {
     "name": "stderr",
     "output_type": "stream",
     "text": [
      "21:39:30 - cmdstanpy - INFO - Chain [1] start processing\n",
      "21:39:31 - cmdstanpy - INFO - Chain [1] done processing\n"
     ]
    },
    {
     "name": "stdout",
     "output_type": "stream",
     "text": [
      "120491\n"
     ]
    },
    {
     "name": "stderr",
     "output_type": "stream",
     "text": [
      "21:39:33 - cmdstanpy - INFO - Chain [1] start processing\n",
      "21:39:36 - cmdstanpy - INFO - Chain [1] done processing\n"
     ]
    },
    {
     "name": "stdout",
     "output_type": "stream",
     "text": [
      "115401\n"
     ]
    },
    {
     "name": "stderr",
     "output_type": "stream",
     "text": [
      "21:39:38 - cmdstanpy - INFO - Chain [1] start processing\n",
      "21:39:40 - cmdstanpy - INFO - Chain [1] done processing\n"
     ]
    },
    {
     "name": "stdout",
     "output_type": "stream",
     "text": [
      "113102\n"
     ]
    },
    {
     "name": "stderr",
     "output_type": "stream",
     "text": [
      "21:39:42 - cmdstanpy - INFO - Chain [1] start processing\n",
      "21:39:42 - cmdstanpy - INFO - Chain [1] done processing\n"
     ]
    },
    {
     "name": "stdout",
     "output_type": "stream",
     "text": [
      "120488\n"
     ]
    },
    {
     "name": "stderr",
     "output_type": "stream",
     "text": [
      "21:39:44 - cmdstanpy - INFO - Chain [1] start processing\n",
      "21:39:47 - cmdstanpy - INFO - Chain [1] done processing\n"
     ]
    },
    {
     "name": "stdout",
     "output_type": "stream",
     "text": [
      "102677\n"
     ]
    },
    {
     "name": "stderr",
     "output_type": "stream",
     "text": [
      "21:39:48 - cmdstanpy - INFO - Chain [1] start processing\n",
      "21:39:48 - cmdstanpy - INFO - Chain [1] done processing\n",
      "C:\\Users\\acer\\AppData\\Local\\Temp\\ipykernel_29788\\818110145.py:23: RuntimeWarning: invalid value encountered in scalar power\n",
      "  cagr = (end_nav / start_nav) ** (1/year) - 1\n"
     ]
    },
    {
     "name": "stdout",
     "output_type": "stream",
     "text": [
      "100956\n"
     ]
    },
    {
     "name": "stderr",
     "output_type": "stream",
     "text": [
      "21:39:50 - cmdstanpy - INFO - Chain [1] start processing\n",
      "21:39:52 - cmdstanpy - INFO - Chain [1] done processing\n"
     ]
    },
    {
     "name": "stdout",
     "output_type": "stream",
     "text": [
      "110608\n"
     ]
    },
    {
     "name": "stderr",
     "output_type": "stream",
     "text": [
      "21:39:54 - cmdstanpy - INFO - Chain [1] start processing\n",
      "21:39:55 - cmdstanpy - INFO - Chain [1] done processing\n"
     ]
    },
    {
     "name": "stdout",
     "output_type": "stream",
     "text": [
      "103052\n"
     ]
    },
    {
     "name": "stderr",
     "output_type": "stream",
     "text": [
      "21:39:57 - cmdstanpy - INFO - Chain [1] start processing\n",
      "21:40:00 - cmdstanpy - INFO - Chain [1] done processing\n"
     ]
    },
    {
     "name": "stdout",
     "output_type": "stream",
     "text": [
      "109269\n"
     ]
    },
    {
     "name": "stderr",
     "output_type": "stream",
     "text": [
      "21:40:02 - cmdstanpy - INFO - Chain [1] start processing\n",
      "21:40:04 - cmdstanpy - INFO - Chain [1] done processing\n"
     ]
    },
    {
     "name": "stdout",
     "output_type": "stream",
     "text": [
      "114630\n"
     ]
    },
    {
     "name": "stderr",
     "output_type": "stream",
     "text": [
      "21:40:05 - cmdstanpy - INFO - Chain [1] start processing\n",
      "21:40:07 - cmdstanpy - INFO - Chain [1] done processing\n"
     ]
    },
    {
     "name": "stdout",
     "output_type": "stream",
     "text": [
      "100312\n"
     ]
    },
    {
     "name": "stderr",
     "output_type": "stream",
     "text": [
      "21:40:10 - cmdstanpy - INFO - Chain [1] start processing\n",
      "21:40:12 - cmdstanpy - INFO - Chain [1] done processing\n"
     ]
    },
    {
     "name": "stdout",
     "output_type": "stream",
     "text": [
      "100650\n"
     ]
    },
    {
     "name": "stderr",
     "output_type": "stream",
     "text": [
      "21:40:14 - cmdstanpy - INFO - Chain [1] start processing\n",
      "21:40:15 - cmdstanpy - INFO - Chain [1] done processing\n"
     ]
    },
    {
     "name": "stdout",
     "output_type": "stream",
     "text": [
      "118069\n"
     ]
    },
    {
     "name": "stderr",
     "output_type": "stream",
     "text": [
      "21:40:17 - cmdstanpy - INFO - Chain [1] start processing\n",
      "21:40:19 - cmdstanpy - INFO - Chain [1] done processing\n"
     ]
    },
    {
     "name": "stdout",
     "output_type": "stream",
     "text": [
      "100321\n"
     ]
    },
    {
     "name": "stderr",
     "output_type": "stream",
     "text": [
      "21:40:22 - cmdstanpy - INFO - Chain [1] start processing\n",
      "21:40:24 - cmdstanpy - INFO - Chain [1] done processing\n"
     ]
    },
    {
     "name": "stdout",
     "output_type": "stream",
     "text": [
      "101185\n"
     ]
    },
    {
     "name": "stderr",
     "output_type": "stream",
     "text": [
      "21:40:27 - cmdstanpy - INFO - Chain [1] start processing\n",
      "21:40:29 - cmdstanpy - INFO - Chain [1] done processing\n"
     ]
    },
    {
     "name": "stdout",
     "output_type": "stream",
     "text": [
      "100669\n",
      "100606\n"
     ]
    },
    {
     "name": "stderr",
     "output_type": "stream",
     "text": [
      "21:40:33 - cmdstanpy - INFO - Chain [1] start processing\n",
      "21:40:36 - cmdstanpy - INFO - Chain [1] done processing\n"
     ]
    },
    {
     "name": "stdout",
     "output_type": "stream",
     "text": [
      "107288\n"
     ]
    },
    {
     "name": "stderr",
     "output_type": "stream",
     "text": [
      "21:40:38 - cmdstanpy - INFO - Chain [1] start processing\n",
      "21:40:38 - cmdstanpy - INFO - Chain [1] done processing\n"
     ]
    },
    {
     "name": "stdout",
     "output_type": "stream",
     "text": [
      "100657\n"
     ]
    },
    {
     "name": "stderr",
     "output_type": "stream",
     "text": [
      "21:40:40 - cmdstanpy - INFO - Chain [1] start processing\n",
      "21:40:42 - cmdstanpy - INFO - Chain [1] done processing\n"
     ]
    },
    {
     "name": "stdout",
     "output_type": "stream",
     "text": [
      "100365\n"
     ]
    },
    {
     "name": "stderr",
     "output_type": "stream",
     "text": [
      "21:40:44 - cmdstanpy - INFO - Chain [1] start processing\n",
      "21:40:46 - cmdstanpy - INFO - Chain [1] done processing\n"
     ]
    },
    {
     "name": "stdout",
     "output_type": "stream",
     "text": [
      "100317\n"
     ]
    },
    {
     "name": "stderr",
     "output_type": "stream",
     "text": [
      "21:40:49 - cmdstanpy - INFO - Chain [1] start processing\n",
      "21:40:50 - cmdstanpy - INFO - Chain [1] done processing\n"
     ]
    },
    {
     "name": "stdout",
     "output_type": "stream",
     "text": [
      "101599\n"
     ]
    },
    {
     "name": "stderr",
     "output_type": "stream",
     "text": [
      "21:40:52 - cmdstanpy - INFO - Chain [1] start processing\n",
      "21:40:53 - cmdstanpy - INFO - Chain [1] done processing\n"
     ]
    },
    {
     "name": "stdout",
     "output_type": "stream",
     "text": [
      "102055\n"
     ]
    },
    {
     "name": "stderr",
     "output_type": "stream",
     "text": [
      "21:40:55 - cmdstanpy - INFO - Chain [1] start processing\n",
      "21:40:56 - cmdstanpy - INFO - Chain [1] done processing\n"
     ]
    },
    {
     "name": "stdout",
     "output_type": "stream",
     "text": [
      "101186\n"
     ]
    },
    {
     "name": "stderr",
     "output_type": "stream",
     "text": [
      "21:40:58 - cmdstanpy - INFO - Chain [1] start processing\n",
      "21:41:00 - cmdstanpy - INFO - Chain [1] done processing\n"
     ]
    },
    {
     "name": "stdout",
     "output_type": "stream",
     "text": [
      "102851\n"
     ]
    },
    {
     "name": "stderr",
     "output_type": "stream",
     "text": [
      "21:41:02 - cmdstanpy - INFO - Chain [1] start processing\n",
      "21:41:03 - cmdstanpy - INFO - Chain [1] done processing\n"
     ]
    },
    {
     "name": "stdout",
     "output_type": "stream",
     "text": [
      "100325\n"
     ]
    },
    {
     "name": "stderr",
     "output_type": "stream",
     "text": [
      "21:41:07 - cmdstanpy - INFO - Chain [1] start processing\n",
      "21:41:09 - cmdstanpy - INFO - Chain [1] done processing\n"
     ]
    },
    {
     "name": "stdout",
     "output_type": "stream",
     "text": [
      "100646\n"
     ]
    },
    {
     "name": "stderr",
     "output_type": "stream",
     "text": [
      "21:41:10 - cmdstanpy - INFO - Chain [1] start processing\n",
      "21:41:10 - cmdstanpy - INFO - Chain [1] done processing\n"
     ]
    },
    {
     "name": "stdout",
     "output_type": "stream",
     "text": [
      "100483\n"
     ]
    },
    {
     "name": "stderr",
     "output_type": "stream",
     "text": [
      "21:41:12 - cmdstanpy - INFO - Chain [1] start processing\n",
      "21:41:15 - cmdstanpy - INFO - Chain [1] done processing\n"
     ]
    },
    {
     "name": "stdout",
     "output_type": "stream",
     "text": [
      "100220\n"
     ]
    },
    {
     "name": "stderr",
     "output_type": "stream",
     "text": [
      "21:41:17 - cmdstanpy - INFO - Chain [1] start processing\n",
      "21:41:17 - cmdstanpy - INFO - Chain [1] done processing\n"
     ]
    },
    {
     "name": "stdout",
     "output_type": "stream",
     "text": [
      "101929\n"
     ]
    },
    {
     "name": "stderr",
     "output_type": "stream",
     "text": [
      "21:41:20 - cmdstanpy - INFO - Chain [1] start processing\n",
      "21:41:22 - cmdstanpy - INFO - Chain [1] done processing\n"
     ]
    },
    {
     "name": "stdout",
     "output_type": "stream",
     "text": [
      "115402\n"
     ]
    },
    {
     "name": "stderr",
     "output_type": "stream",
     "text": [
      "21:41:24 - cmdstanpy - INFO - Chain [1] start processing\n",
      "21:41:26 - cmdstanpy - INFO - Chain [1] done processing\n"
     ]
    },
    {
     "name": "stdout",
     "output_type": "stream",
     "text": [
      "100089\n"
     ]
    },
    {
     "name": "stderr",
     "output_type": "stream",
     "text": [
      "21:41:28 - cmdstanpy - INFO - Chain [1] start processing\n",
      "21:41:30 - cmdstanpy - INFO - Chain [1] done processing\n"
     ]
    },
    {
     "name": "stdout",
     "output_type": "stream",
     "text": [
      "101600\n"
     ]
    },
    {
     "name": "stderr",
     "output_type": "stream",
     "text": [
      "21:41:32 - cmdstanpy - INFO - Chain [1] start processing\n",
      "21:41:35 - cmdstanpy - INFO - Chain [1] done processing\n"
     ]
    },
    {
     "name": "stdout",
     "output_type": "stream",
     "text": [
      "100316\n"
     ]
    },
    {
     "name": "stderr",
     "output_type": "stream",
     "text": [
      "21:41:39 - cmdstanpy - INFO - Chain [1] start processing\n",
      "21:41:41 - cmdstanpy - INFO - Chain [1] done processing\n"
     ]
    },
    {
     "name": "stdout",
     "output_type": "stream",
     "text": [
      "100678\n"
     ]
    },
    {
     "name": "stderr",
     "output_type": "stream",
     "text": [
      "21:41:43 - cmdstanpy - INFO - Chain [1] start processing\n",
      "21:41:46 - cmdstanpy - INFO - Chain [1] done processing\n"
     ]
    },
    {
     "name": "stdout",
     "output_type": "stream",
     "text": [
      "100874\n"
     ]
    },
    {
     "name": "stderr",
     "output_type": "stream",
     "text": [
      "21:41:48 - cmdstanpy - INFO - Chain [1] start processing\n",
      "21:41:51 - cmdstanpy - INFO - Chain [1] done processing\n"
     ]
    },
    {
     "name": "stdout",
     "output_type": "stream",
     "text": [
      "101365\n"
     ]
    },
    {
     "name": "stderr",
     "output_type": "stream",
     "text": [
      "21:41:53 - cmdstanpy - INFO - Chain [1] start processing\n",
      "21:41:55 - cmdstanpy - INFO - Chain [1] done processing\n"
     ]
    },
    {
     "name": "stdout",
     "output_type": "stream",
     "text": [
      "100386\n"
     ]
    },
    {
     "name": "stderr",
     "output_type": "stream",
     "text": [
      "21:41:57 - cmdstanpy - INFO - Chain [1] start processing\n",
      "21:41:59 - cmdstanpy - INFO - Chain [1] done processing\n"
     ]
    },
    {
     "name": "stdout",
     "output_type": "stream",
     "text": [
      "111709\n"
     ]
    },
    {
     "name": "stderr",
     "output_type": "stream",
     "text": [
      "21:42:01 - cmdstanpy - INFO - Chain [1] start processing\n",
      "21:42:03 - cmdstanpy - INFO - Chain [1] done processing\n"
     ]
    },
    {
     "name": "stdout",
     "output_type": "stream",
     "text": [
      "100853\n"
     ]
    },
    {
     "name": "stderr",
     "output_type": "stream",
     "text": [
      "21:42:06 - cmdstanpy - INFO - Chain [1] start processing\n",
      "21:42:08 - cmdstanpy - INFO - Chain [1] done processing\n"
     ]
    },
    {
     "name": "stdout",
     "output_type": "stream",
     "text": [
      "100470\n"
     ]
    },
    {
     "name": "stderr",
     "output_type": "stream",
     "text": [
      "21:42:10 - cmdstanpy - INFO - Chain [1] start processing\n",
      "21:42:12 - cmdstanpy - INFO - Chain [1] done processing\n"
     ]
    },
    {
     "name": "stdout",
     "output_type": "stream",
     "text": [
      "102261\n"
     ]
    },
    {
     "name": "stderr",
     "output_type": "stream",
     "text": [
      "21:42:14 - cmdstanpy - INFO - Chain [1] start processing\n",
      "21:42:16 - cmdstanpy - INFO - Chain [1] done processing\n"
     ]
    },
    {
     "name": "stdout",
     "output_type": "stream",
     "text": [
      "100496\n"
     ]
    },
    {
     "name": "stderr",
     "output_type": "stream",
     "text": [
      "21:42:19 - cmdstanpy - INFO - Chain [1] start processing\n",
      "21:42:21 - cmdstanpy - INFO - Chain [1] done processing\n"
     ]
    },
    {
     "name": "stdout",
     "output_type": "stream",
     "text": [
      "103736\n"
     ]
    },
    {
     "name": "stderr",
     "output_type": "stream",
     "text": [
      "21:42:24 - cmdstanpy - INFO - Chain [1] start processing\n",
      "21:42:25 - cmdstanpy - INFO - Chain [1] done processing\n"
     ]
    },
    {
     "name": "stdout",
     "output_type": "stream",
     "text": [
      "108479\n"
     ]
    },
    {
     "name": "stderr",
     "output_type": "stream",
     "text": [
      "21:42:27 - cmdstanpy - INFO - Chain [1] start processing\n",
      "21:42:29 - cmdstanpy - INFO - Chain [1] done processing\n"
     ]
    },
    {
     "name": "stdout",
     "output_type": "stream",
     "text": [
      "115290\n"
     ]
    },
    {
     "name": "stderr",
     "output_type": "stream",
     "text": [
      "21:42:32 - cmdstanpy - INFO - Chain [1] start processing\n",
      "21:42:33 - cmdstanpy - INFO - Chain [1] done processing\n"
     ]
    },
    {
     "name": "stdout",
     "output_type": "stream",
     "text": [
      "100648\n"
     ]
    },
    {
     "name": "stderr",
     "output_type": "stream",
     "text": [
      "21:42:35 - cmdstanpy - INFO - Chain [1] start processing\n",
      "21:42:37 - cmdstanpy - INFO - Chain [1] done processing\n"
     ]
    },
    {
     "name": "stdout",
     "output_type": "stream",
     "text": [
      "100873\n"
     ]
    },
    {
     "name": "stderr",
     "output_type": "stream",
     "text": [
      "21:42:41 - cmdstanpy - INFO - Chain [1] start processing\n",
      "21:42:42 - cmdstanpy - INFO - Chain [1] done processing\n"
     ]
    },
    {
     "name": "stdout",
     "output_type": "stream",
     "text": [
      "101743\n"
     ]
    },
    {
     "name": "stderr",
     "output_type": "stream",
     "text": [
      "21:42:43 - cmdstanpy - INFO - Chain [1] start processing\n",
      "21:42:45 - cmdstanpy - INFO - Chain [1] done processing\n"
     ]
    },
    {
     "name": "stdout",
     "output_type": "stream",
     "text": [
      "115992\n"
     ]
    },
    {
     "name": "stderr",
     "output_type": "stream",
     "text": [
      "21:42:46 - cmdstanpy - INFO - Chain [1] start processing\n",
      "21:42:47 - cmdstanpy - INFO - Chain [1] done processing\n"
     ]
    },
    {
     "name": "stdout",
     "output_type": "stream",
     "text": [
      "101699\n"
     ]
    },
    {
     "name": "stderr",
     "output_type": "stream",
     "text": [
      "21:42:49 - cmdstanpy - INFO - Chain [1] start processing\n",
      "21:42:50 - cmdstanpy - INFO - Chain [1] done processing\n"
     ]
    },
    {
     "name": "stdout",
     "output_type": "stream",
     "text": [
      "113249\n"
     ]
    },
    {
     "name": "stderr",
     "output_type": "stream",
     "text": [
      "21:42:52 - cmdstanpy - INFO - Chain [1] start processing\n",
      "21:42:54 - cmdstanpy - INFO - Chain [1] done processing\n"
     ]
    },
    {
     "name": "stdout",
     "output_type": "stream",
     "text": [
      "101864\n"
     ]
    },
    {
     "name": "stderr",
     "output_type": "stream",
     "text": [
      "21:42:57 - cmdstanpy - INFO - Chain [1] start processing\n",
      "21:42:58 - cmdstanpy - INFO - Chain [1] done processing\n"
     ]
    },
    {
     "name": "stdout",
     "output_type": "stream",
     "text": [
      "100622\n"
     ]
    },
    {
     "name": "stderr",
     "output_type": "stream",
     "text": [
      "21:43:00 - cmdstanpy - INFO - Chain [1] start processing\n",
      "21:43:01 - cmdstanpy - INFO - Chain [1] done processing\n"
     ]
    },
    {
     "name": "stdout",
     "output_type": "stream",
     "text": [
      "101933\n"
     ]
    },
    {
     "name": "stderr",
     "output_type": "stream",
     "text": [
      "21:43:03 - cmdstanpy - INFO - Chain [1] start processing\n",
      "21:43:04 - cmdstanpy - INFO - Chain [1] done processing\n"
     ]
    },
    {
     "name": "stdout",
     "output_type": "stream",
     "text": [
      "101224\n"
     ]
    },
    {
     "name": "stderr",
     "output_type": "stream",
     "text": [
      "21:43:08 - cmdstanpy - INFO - Chain [1] start processing\n",
      "21:43:13 - cmdstanpy - INFO - Chain [1] done processing\n"
     ]
    },
    {
     "name": "stdout",
     "output_type": "stream",
     "text": [
      "100725\n"
     ]
    },
    {
     "name": "stderr",
     "output_type": "stream",
     "text": [
      "21:43:15 - cmdstanpy - INFO - Chain [1] start processing\n",
      "21:43:16 - cmdstanpy - INFO - Chain [1] done processing\n"
     ]
    },
    {
     "name": "stdout",
     "output_type": "stream",
     "text": [
      "101694\n"
     ]
    },
    {
     "name": "stderr",
     "output_type": "stream",
     "text": [
      "21:43:18 - cmdstanpy - INFO - Chain [1] start processing\n",
      "21:43:19 - cmdstanpy - INFO - Chain [1] done processing\n"
     ]
    },
    {
     "name": "stdout",
     "output_type": "stream",
     "text": [
      "100372\n"
     ]
    },
    {
     "name": "stderr",
     "output_type": "stream",
     "text": [
      "21:43:22 - cmdstanpy - INFO - Chain [1] start processing\n",
      "21:43:23 - cmdstanpy - INFO - Chain [1] done processing\n"
     ]
    },
    {
     "name": "stdout",
     "output_type": "stream",
     "text": [
      "100621\n"
     ]
    },
    {
     "name": "stderr",
     "output_type": "stream",
     "text": [
      "21:43:25 - cmdstanpy - INFO - Chain [1] start processing\n",
      "21:43:27 - cmdstanpy - INFO - Chain [1] done processing\n"
     ]
    },
    {
     "name": "stdout",
     "output_type": "stream",
     "text": [
      "100504\n"
     ]
    },
    {
     "name": "stderr",
     "output_type": "stream",
     "text": [
      "21:43:29 - cmdstanpy - INFO - Chain [1] start processing\n",
      "21:43:32 - cmdstanpy - INFO - Chain [1] done processing\n"
     ]
    },
    {
     "name": "stdout",
     "output_type": "stream",
     "text": [
      "101619\n"
     ]
    },
    {
     "name": "stderr",
     "output_type": "stream",
     "text": [
      "21:43:35 - cmdstanpy - INFO - Chain [1] start processing\n",
      "21:43:35 - cmdstanpy - INFO - Chain [1] done processing\n"
     ]
    },
    {
     "name": "stdout",
     "output_type": "stream",
     "text": [
      "100620\n"
     ]
    },
    {
     "name": "stderr",
     "output_type": "stream",
     "text": [
      "21:43:37 - cmdstanpy - INFO - Chain [1] start processing\n",
      "21:43:38 - cmdstanpy - INFO - Chain [1] done processing\n"
     ]
    },
    {
     "name": "stdout",
     "output_type": "stream",
     "text": [
      "100052\n"
     ]
    },
    {
     "name": "stderr",
     "output_type": "stream",
     "text": [
      "21:43:40 - cmdstanpy - INFO - Chain [1] start processing\n",
      "21:43:41 - cmdstanpy - INFO - Chain [1] done processing\n"
     ]
    },
    {
     "name": "stdout",
     "output_type": "stream",
     "text": [
      "100943\n"
     ]
    },
    {
     "name": "stderr",
     "output_type": "stream",
     "text": [
      "21:43:44 - cmdstanpy - INFO - Chain [1] start processing\n",
      "21:43:45 - cmdstanpy - INFO - Chain [1] done processing\n"
     ]
    },
    {
     "name": "stdout",
     "output_type": "stream",
     "text": [
      "113063\n"
     ]
    },
    {
     "name": "stderr",
     "output_type": "stream",
     "text": [
      "21:43:47 - cmdstanpy - INFO - Chain [1] start processing\n",
      "21:43:50 - cmdstanpy - INFO - Chain [1] done processing\n"
     ]
    },
    {
     "name": "stdout",
     "output_type": "stream",
     "text": [
      "103051\n"
     ]
    },
    {
     "name": "stderr",
     "output_type": "stream",
     "text": [
      "21:43:52 - cmdstanpy - INFO - Chain [1] start processing\n",
      "21:43:54 - cmdstanpy - INFO - Chain [1] done processing\n"
     ]
    },
    {
     "name": "stdout",
     "output_type": "stream",
     "text": [
      "100971\n"
     ]
    },
    {
     "name": "stderr",
     "output_type": "stream",
     "text": [
      "21:43:56 - cmdstanpy - INFO - Chain [1] start processing\n",
      "21:43:57 - cmdstanpy - INFO - Chain [1] done processing\n"
     ]
    },
    {
     "name": "stdout",
     "output_type": "stream",
     "text": [
      "100484\n"
     ]
    },
    {
     "name": "stderr",
     "output_type": "stream",
     "text": [
      "21:43:59 - cmdstanpy - INFO - Chain [1] start processing\n",
      "21:44:01 - cmdstanpy - INFO - Chain [1] done processing\n"
     ]
    },
    {
     "name": "stdout",
     "output_type": "stream",
     "text": [
      "100360\n"
     ]
    },
    {
     "name": "stderr",
     "output_type": "stream",
     "text": [
      "21:44:03 - cmdstanpy - INFO - Chain [1] start processing\n",
      "21:44:05 - cmdstanpy - INFO - Chain [1] done processing\n"
     ]
    },
    {
     "name": "stdout",
     "output_type": "stream",
     "text": [
      "100859\n"
     ]
    },
    {
     "name": "stderr",
     "output_type": "stream",
     "text": [
      "21:44:07 - cmdstanpy - INFO - Chain [1] start processing\n",
      "21:44:11 - cmdstanpy - INFO - Chain [1] done processing\n"
     ]
    },
    {
     "name": "stdout",
     "output_type": "stream",
     "text": [
      "100608\n"
     ]
    },
    {
     "name": "stderr",
     "output_type": "stream",
     "text": [
      "21:44:13 - cmdstanpy - INFO - Chain [1] start processing\n",
      "21:44:14 - cmdstanpy - INFO - Chain [1] done processing\n"
     ]
    },
    {
     "name": "stdout",
     "output_type": "stream",
     "text": [
      "100613\n"
     ]
    },
    {
     "name": "stderr",
     "output_type": "stream",
     "text": [
      "21:44:16 - cmdstanpy - INFO - Chain [1] start processing\n",
      "21:44:17 - cmdstanpy - INFO - Chain [1] done processing\n"
     ]
    },
    {
     "name": "stdout",
     "output_type": "stream",
     "text": [
      "100623\n"
     ]
    },
    {
     "name": "stderr",
     "output_type": "stream",
     "text": [
      "21:44:20 - cmdstanpy - INFO - Chain [1] start processing\n",
      "21:44:20 - cmdstanpy - INFO - Chain [1] done processing\n"
     ]
    },
    {
     "name": "stdout",
     "output_type": "stream",
     "text": [
      "100748\n"
     ]
    },
    {
     "name": "stderr",
     "output_type": "stream",
     "text": [
      "21:44:21 - cmdstanpy - INFO - Chain [1] start processing\n",
      "21:44:22 - cmdstanpy - INFO - Chain [1] done processing\n"
     ]
    },
    {
     "name": "stdout",
     "output_type": "stream",
     "text": [
      "117141\n"
     ]
    },
    {
     "name": "stderr",
     "output_type": "stream",
     "text": [
      "21:44:24 - cmdstanpy - INFO - Chain [1] start processing\n",
      "21:44:29 - cmdstanpy - INFO - Chain [1] done processing\n"
     ]
    },
    {
     "name": "stdout",
     "output_type": "stream",
     "text": [
      "103048\n"
     ]
    },
    {
     "name": "stderr",
     "output_type": "stream",
     "text": [
      "21:44:33 - cmdstanpy - INFO - Chain [1] start processing\n",
      "21:44:34 - cmdstanpy - INFO - Chain [1] done processing\n"
     ]
    },
    {
     "name": "stdout",
     "output_type": "stream",
     "text": [
      "100644\n"
     ]
    },
    {
     "name": "stderr",
     "output_type": "stream",
     "text": [
      "21:44:39 - cmdstanpy - INFO - Chain [1] start processing\n",
      "21:44:42 - cmdstanpy - INFO - Chain [1] done processing\n"
     ]
    },
    {
     "name": "stdout",
     "output_type": "stream",
     "text": [
      "100480\n"
     ]
    },
    {
     "name": "stderr",
     "output_type": "stream",
     "text": [
      "21:44:45 - cmdstanpy - INFO - Chain [1] start processing\n",
      "21:44:49 - cmdstanpy - INFO - Chain [1] done processing\n"
     ]
    },
    {
     "name": "stdout",
     "output_type": "stream",
     "text": [
      "100041\n"
     ]
    },
    {
     "name": "stderr",
     "output_type": "stream",
     "text": [
      "21:44:52 - cmdstanpy - INFO - Chain [1] start processing\n",
      "21:44:54 - cmdstanpy - INFO - Chain [1] done processing\n"
     ]
    },
    {
     "name": "stdout",
     "output_type": "stream",
     "text": [
      "102676\n"
     ]
    },
    {
     "name": "stderr",
     "output_type": "stream",
     "text": [
      "21:44:56 - cmdstanpy - INFO - Chain [1] start processing\n",
      "21:44:56 - cmdstanpy - INFO - Chain [1] done processing\n"
     ]
    },
    {
     "name": "stdout",
     "output_type": "stream",
     "text": [
      "100487\n"
     ]
    },
    {
     "name": "stderr",
     "output_type": "stream",
     "text": [
      "21:44:58 - cmdstanpy - INFO - Chain [1] start processing\n",
      "21:44:59 - cmdstanpy - INFO - Chain [1] done processing\n"
     ]
    },
    {
     "name": "stdout",
     "output_type": "stream",
     "text": [
      "101691\n"
     ]
    },
    {
     "name": "stderr",
     "output_type": "stream",
     "text": [
      "21:45:01 - cmdstanpy - INFO - Chain [1] start processing\n",
      "21:45:03 - cmdstanpy - INFO - Chain [1] done processing\n"
     ]
    },
    {
     "name": "stdout",
     "output_type": "stream",
     "text": [
      "100954\n"
     ]
    },
    {
     "name": "stderr",
     "output_type": "stream",
     "text": [
      "21:45:04 - cmdstanpy - INFO - Chain [1] start processing\n",
      "21:45:04 - cmdstanpy - INFO - Chain [1] done processing\n",
      "C:\\Users\\acer\\AppData\\Local\\Temp\\ipykernel_29788\\818110145.py:23: RuntimeWarning: invalid value encountered in scalar power\n",
      "  cagr = (end_nav / start_nav) ** (1/year) - 1\n"
     ]
    },
    {
     "name": "stdout",
     "output_type": "stream",
     "text": [
      "100803\n"
     ]
    },
    {
     "name": "stderr",
     "output_type": "stream",
     "text": [
      "21:45:06 - cmdstanpy - INFO - Chain [1] start processing\n",
      "21:45:07 - cmdstanpy - INFO - Chain [1] done processing\n"
     ]
    },
    {
     "name": "stdout",
     "output_type": "stream",
     "text": [
      "101481\n"
     ]
    },
    {
     "name": "stderr",
     "output_type": "stream",
     "text": [
      "21:45:10 - cmdstanpy - INFO - Chain [1] start processing\n",
      "21:45:12 - cmdstanpy - INFO - Chain [1] done processing\n"
     ]
    },
    {
     "name": "stdout",
     "output_type": "stream",
     "text": [
      "101098\n"
     ]
    },
    {
     "name": "stderr",
     "output_type": "stream",
     "text": [
      "21:45:14 - cmdstanpy - INFO - Chain [1] start processing\n",
      "21:45:16 - cmdstanpy - INFO - Chain [1] done processing\n"
     ]
    },
    {
     "name": "stdout",
     "output_type": "stream",
     "text": [
      "113096\n"
     ]
    },
    {
     "name": "stderr",
     "output_type": "stream",
     "text": [
      "21:45:17 - cmdstanpy - INFO - Chain [1] start processing\n",
      "21:45:18 - cmdstanpy - INFO - Chain [1] done processing\n"
     ]
    },
    {
     "name": "stdout",
     "output_type": "stream",
     "text": [
      "100049\n"
     ]
    },
    {
     "name": "stderr",
     "output_type": "stream",
     "text": [
      "21:45:20 - cmdstanpy - INFO - Chain [1] start processing\n",
      "21:45:22 - cmdstanpy - INFO - Chain [1] done processing\n"
     ]
    },
    {
     "name": "stdout",
     "output_type": "stream",
     "text": [
      "101698\n"
     ]
    },
    {
     "name": "stderr",
     "output_type": "stream",
     "text": [
      "21:45:23 - cmdstanpy - INFO - Chain [1] start processing\n",
      "21:45:25 - cmdstanpy - INFO - Chain [1] done processing\n"
     ]
    },
    {
     "name": "stdout",
     "output_type": "stream",
     "text": [
      "101314\n"
     ]
    },
    {
     "name": "stderr",
     "output_type": "stream",
     "text": [
      "21:45:27 - cmdstanpy - INFO - Chain [1] start processing\n",
      "21:45:29 - cmdstanpy - INFO - Chain [1] done processing\n"
     ]
    },
    {
     "name": "stdout",
     "output_type": "stream",
     "text": [
      "119415\n"
     ]
    },
    {
     "name": "stderr",
     "output_type": "stream",
     "text": [
      "21:45:31 - cmdstanpy - INFO - Chain [1] start processing\n",
      "21:45:32 - cmdstanpy - INFO - Chain [1] done processing\n"
     ]
    },
    {
     "name": "stdout",
     "output_type": "stream",
     "text": [
      "100503\n"
     ]
    },
    {
     "name": "stderr",
     "output_type": "stream",
     "text": [
      "21:45:34 - cmdstanpy - INFO - Chain [1] start processing\n",
      "21:45:35 - cmdstanpy - INFO - Chain [1] done processing\n"
     ]
    },
    {
     "name": "stdout",
     "output_type": "stream",
     "text": [
      "101229\n"
     ]
    },
    {
     "name": "stderr",
     "output_type": "stream",
     "text": [
      "21:45:37 - cmdstanpy - INFO - Chain [1] start processing\n",
      "21:45:39 - cmdstanpy - INFO - Chain [1] done processing\n"
     ]
    },
    {
     "name": "stdout",
     "output_type": "stream",
     "text": [
      "102675\n"
     ]
    },
    {
     "name": "stderr",
     "output_type": "stream",
     "text": [
      "21:45:41 - cmdstanpy - INFO - Chain [1] start processing\n",
      "21:45:41 - cmdstanpy - INFO - Chain [1] done processing\n"
     ]
    },
    {
     "name": "stdout",
     "output_type": "stream",
     "text": [
      "101482\n"
     ]
    },
    {
     "name": "stderr",
     "output_type": "stream",
     "text": [
      "21:45:43 - cmdstanpy - INFO - Chain [1] start processing\n",
      "21:45:44 - cmdstanpy - INFO - Chain [1] done processing\n"
     ]
    },
    {
     "name": "stdout",
     "output_type": "stream",
     "text": [
      "100781\n",
      "142245\n"
     ]
    },
    {
     "name": "stderr",
     "output_type": "stream",
     "text": [
      "21:45:47 - cmdstanpy - INFO - Chain [1] start processing\n",
      "21:45:48 - cmdstanpy - INFO - Chain [1] done processing\n"
     ]
    },
    {
     "name": "stdout",
     "output_type": "stream",
     "text": [
      "100485\n",
      "100285\n"
     ]
    },
    {
     "name": "stderr",
     "output_type": "stream",
     "text": [
      "21:45:51 - cmdstanpy - INFO - Chain [1] start processing\n",
      "21:45:53 - cmdstanpy - INFO - Chain [1] done processing\n"
     ]
    },
    {
     "name": "stdout",
     "output_type": "stream",
     "text": [
      "100351\n"
     ]
    },
    {
     "name": "stderr",
     "output_type": "stream",
     "text": [
      "21:45:56 - cmdstanpy - INFO - Chain [1] start processing\n",
      "21:45:59 - cmdstanpy - INFO - Chain [1] done processing\n"
     ]
    },
    {
     "name": "stdout",
     "output_type": "stream",
     "text": [
      "100875\n"
     ]
    },
    {
     "name": "stderr",
     "output_type": "stream",
     "text": [
      "21:46:02 - cmdstanpy - INFO - Chain [1] start processing\n",
      "21:46:03 - cmdstanpy - INFO - Chain [1] done processing\n"
     ]
    },
    {
     "name": "stdout",
     "output_type": "stream",
     "text": [
      "100370\n"
     ]
    },
    {
     "name": "stderr",
     "output_type": "stream",
     "text": [
      "21:46:05 - cmdstanpy - INFO - Chain [1] start processing\n",
      "21:46:07 - cmdstanpy - INFO - Chain [1] done processing\n"
     ]
    },
    {
     "name": "stdout",
     "output_type": "stream",
     "text": [
      "101667\n"
     ]
    },
    {
     "name": "stderr",
     "output_type": "stream",
     "text": [
      "21:46:09 - cmdstanpy - INFO - Chain [1] start processing\n",
      "21:46:11 - cmdstanpy - INFO - Chain [1] done processing\n"
     ]
    },
    {
     "name": "stdout",
     "output_type": "stream",
     "text": [
      "100968\n"
     ]
    },
    {
     "name": "stderr",
     "output_type": "stream",
     "text": [
      "21:46:13 - cmdstanpy - INFO - Chain [1] start processing\n",
      "21:46:15 - cmdstanpy - INFO - Chain [1] done processing\n"
     ]
    },
    {
     "name": "stdout",
     "output_type": "stream",
     "text": [
      "100087\n"
     ]
    },
    {
     "name": "stderr",
     "output_type": "stream",
     "text": [
      "21:46:17 - cmdstanpy - INFO - Chain [1] start processing\n",
      "21:46:20 - cmdstanpy - INFO - Chain [1] done processing\n"
     ]
    },
    {
     "name": "stdout",
     "output_type": "stream",
     "text": [
      "104489\n"
     ]
    },
    {
     "name": "stderr",
     "output_type": "stream",
     "text": [
      "21:46:23 - cmdstanpy - INFO - Chain [1] start processing\n",
      "21:46:26 - cmdstanpy - INFO - Chain [1] done processing\n"
     ]
    },
    {
     "name": "stdout",
     "output_type": "stream",
     "text": [
      "104635\n"
     ]
    },
    {
     "name": "stderr",
     "output_type": "stream",
     "text": [
      "21:46:28 - cmdstanpy - INFO - Chain [1] start processing\n",
      "21:46:31 - cmdstanpy - INFO - Chain [1] done processing\n"
     ]
    },
    {
     "name": "stdout",
     "output_type": "stream",
     "text": [
      "101295\n"
     ]
    },
    {
     "name": "stderr",
     "output_type": "stream",
     "text": [
      "21:46:33 - cmdstanpy - INFO - Chain [1] start processing\n",
      "21:46:35 - cmdstanpy - INFO - Chain [1] done processing\n"
     ]
    },
    {
     "name": "stdout",
     "output_type": "stream",
     "text": [
      "100055\n"
     ]
    },
    {
     "name": "stderr",
     "output_type": "stream",
     "text": [
      "21:46:37 - cmdstanpy - INFO - Chain [1] start processing\n",
      "21:46:40 - cmdstanpy - INFO - Chain [1] done processing\n"
     ]
    },
    {
     "name": "stdout",
     "output_type": "stream",
     "text": [
      "112214\n"
     ]
    },
    {
     "name": "stderr",
     "output_type": "stream",
     "text": [
      "21:46:42 - cmdstanpy - INFO - Chain [1] start processing\n",
      "21:46:43 - cmdstanpy - INFO - Chain [1] done processing\n"
     ]
    },
    {
     "name": "stdout",
     "output_type": "stream",
     "text": [
      "100495\n"
     ]
    },
    {
     "name": "stderr",
     "output_type": "stream",
     "text": [
      "21:46:45 - cmdstanpy - INFO - Chain [1] start processing\n",
      "21:46:46 - cmdstanpy - INFO - Chain [1] done processing\n"
     ]
    },
    {
     "name": "stdout",
     "output_type": "stream",
     "text": [
      "102065\n"
     ]
    },
    {
     "name": "stderr",
     "output_type": "stream",
     "text": [
      "21:46:48 - cmdstanpy - INFO - Chain [1] start processing\n",
      "21:46:50 - cmdstanpy - INFO - Chain [1] done processing\n"
     ]
    },
    {
     "name": "stdout",
     "output_type": "stream",
     "text": [
      "100353\n"
     ]
    },
    {
     "name": "stderr",
     "output_type": "stream",
     "text": [
      "21:46:52 - cmdstanpy - INFO - Chain [1] start processing\n",
      "21:46:54 - cmdstanpy - INFO - Chain [1] done processing\n"
     ]
    },
    {
     "name": "stdout",
     "output_type": "stream",
     "text": [
      "115398\n"
     ]
    },
    {
     "name": "stderr",
     "output_type": "stream",
     "text": [
      "21:46:57 - cmdstanpy - INFO - Chain [1] start processing\n",
      "21:46:58 - cmdstanpy - INFO - Chain [1] done processing\n"
     ]
    },
    {
     "name": "stdout",
     "output_type": "stream",
     "text": [
      "100475\n"
     ]
    },
    {
     "name": "stderr",
     "output_type": "stream",
     "text": [
      "21:47:00 - cmdstanpy - INFO - Chain [1] start processing\n",
      "21:47:01 - cmdstanpy - INFO - Chain [1] done processing\n"
     ]
    },
    {
     "name": "stdout",
     "output_type": "stream",
     "text": [
      "100749\n"
     ]
    },
    {
     "name": "stderr",
     "output_type": "stream",
     "text": [
      "21:47:03 - cmdstanpy - INFO - Chain [1] start processing\n",
      "21:47:04 - cmdstanpy - INFO - Chain [1] done processing\n"
     ]
    },
    {
     "name": "stdout",
     "output_type": "stream",
     "text": [
      "101318\n"
     ]
    },
    {
     "name": "stderr",
     "output_type": "stream",
     "text": [
      "21:47:06 - cmdstanpy - INFO - Chain [1] start processing\n",
      "21:47:09 - cmdstanpy - INFO - Chain [1] done processing\n"
     ]
    },
    {
     "name": "stdout",
     "output_type": "stream",
     "text": [
      "100122\n"
     ]
    },
    {
     "name": "stderr",
     "output_type": "stream",
     "text": [
      "21:47:12 - cmdstanpy - INFO - Chain [1] start processing\n",
      "21:47:13 - cmdstanpy - INFO - Chain [1] done processing\n"
     ]
    },
    {
     "name": "stdout",
     "output_type": "stream",
     "text": [
      "100782\n"
     ]
    },
    {
     "name": "stderr",
     "output_type": "stream",
     "text": [
      "21:47:15 - cmdstanpy - INFO - Chain [1] start processing\n",
      "21:47:17 - cmdstanpy - INFO - Chain [1] done processing\n"
     ]
    },
    {
     "name": "stdout",
     "output_type": "stream",
     "text": [
      "100740\n"
     ]
    },
    {
     "name": "stderr",
     "output_type": "stream",
     "text": [
      "21:47:19 - cmdstanpy - INFO - Chain [1] start processing\n",
      "21:47:20 - cmdstanpy - INFO - Chain [1] done processing\n"
     ]
    },
    {
     "name": "stdout",
     "output_type": "stream",
     "text": [
      "100059\n"
     ]
    },
    {
     "name": "stderr",
     "output_type": "stream",
     "text": [
      "21:47:22 - cmdstanpy - INFO - Chain [1] start processing\n",
      "21:47:23 - cmdstanpy - INFO - Chain [1] done processing\n"
     ]
    },
    {
     "name": "stdout",
     "output_type": "stream",
     "text": [
      "100499\n"
     ]
    },
    {
     "name": "stderr",
     "output_type": "stream",
     "text": [
      "21:47:25 - cmdstanpy - INFO - Chain [1] start processing\n",
      "21:47:26 - cmdstanpy - INFO - Chain [1] done processing\n"
     ]
    },
    {
     "name": "stdout",
     "output_type": "stream",
     "text": [
      "100899\n"
     ]
    },
    {
     "name": "stderr",
     "output_type": "stream",
     "text": [
      "21:47:28 - cmdstanpy - INFO - Chain [1] start processing\n",
      "21:47:29 - cmdstanpy - INFO - Chain [1] done processing\n"
     ]
    },
    {
     "name": "stdout",
     "output_type": "stream",
     "text": [
      "101282\n"
     ]
    },
    {
     "name": "stderr",
     "output_type": "stream",
     "text": [
      "21:47:31 - cmdstanpy - INFO - Chain [1] start processing\n",
      "21:47:32 - cmdstanpy - INFO - Chain [1] done processing\n"
     ]
    },
    {
     "name": "stdout",
     "output_type": "stream",
     "text": [
      "102753\n"
     ]
    },
    {
     "name": "stderr",
     "output_type": "stream",
     "text": [
      "21:47:34 - cmdstanpy - INFO - Chain [1] start processing\n",
      "21:47:34 - cmdstanpy - INFO - Chain [1] done processing\n"
     ]
    },
    {
     "name": "stdout",
     "output_type": "stream",
     "text": [
      "100751\n"
     ]
    },
    {
     "name": "stderr",
     "output_type": "stream",
     "text": [
      "21:47:37 - cmdstanpy - INFO - Chain [1] start processing\n",
      "21:47:39 - cmdstanpy - INFO - Chain [1] done processing\n"
     ]
    },
    {
     "name": "stdout",
     "output_type": "stream",
     "text": [
      "101127\n"
     ]
    },
    {
     "name": "stderr",
     "output_type": "stream",
     "text": [
      "21:47:41 - cmdstanpy - INFO - Chain [1] start processing\n",
      "21:47:42 - cmdstanpy - INFO - Chain [1] done processing\n"
     ]
    },
    {
     "name": "stdout",
     "output_type": "stream",
     "text": [
      "100291\n"
     ]
    },
    {
     "name": "stderr",
     "output_type": "stream",
     "text": [
      "21:47:44 - cmdstanpy - INFO - Chain [1] start processing\n",
      "21:47:45 - cmdstanpy - INFO - Chain [1] done processing\n"
     ]
    },
    {
     "name": "stdout",
     "output_type": "stream",
     "text": [
      "100610\n"
     ]
    },
    {
     "name": "stderr",
     "output_type": "stream",
     "text": [
      "21:47:48 - cmdstanpy - INFO - Chain [1] start processing\n",
      "21:47:51 - cmdstanpy - INFO - Chain [1] done processing\n"
     ]
    },
    {
     "name": "stdout",
     "output_type": "stream",
     "text": [
      "100051\n"
     ]
    },
    {
     "name": "stderr",
     "output_type": "stream",
     "text": [
      "21:47:54 - cmdstanpy - INFO - Chain [1] start processing\n",
      "21:47:56 - cmdstanpy - INFO - Chain [1] done processing\n"
     ]
    },
    {
     "name": "stdout",
     "output_type": "stream",
     "text": [
      "100472\n"
     ]
    },
    {
     "name": "stderr",
     "output_type": "stream",
     "text": [
      "21:47:58 - cmdstanpy - INFO - Chain [1] start processing\n",
      "21:48:00 - cmdstanpy - INFO - Chain [1] done processing\n"
     ]
    },
    {
     "name": "stdout",
     "output_type": "stream",
     "text": [
      "102431\n"
     ]
    },
    {
     "name": "stderr",
     "output_type": "stream",
     "text": [
      "21:48:02 - cmdstanpy - INFO - Chain [1] start processing\n",
      "21:48:03 - cmdstanpy - INFO - Chain [1] done processing\n"
     ]
    },
    {
     "name": "stdout",
     "output_type": "stream",
     "text": [
      "100780\n"
     ]
    },
    {
     "name": "stderr",
     "output_type": "stream",
     "text": [
      "21:48:05 - cmdstanpy - INFO - Chain [1] start processing\n",
      "21:48:08 - cmdstanpy - INFO - Chain [1] done processing\n"
     ]
    },
    {
     "name": "stdout",
     "output_type": "stream",
     "text": [
      "100786\n"
     ]
    },
    {
     "name": "stderr",
     "output_type": "stream",
     "text": [
      "21:48:11 - cmdstanpy - INFO - Chain [1] start processing\n",
      "21:48:12 - cmdstanpy - INFO - Chain [1] done processing\n"
     ]
    },
    {
     "name": "stdout",
     "output_type": "stream",
     "text": [
      "101042\n"
     ]
    },
    {
     "name": "stderr",
     "output_type": "stream",
     "text": [
      "21:48:15 - cmdstanpy - INFO - Chain [1] start processing\n",
      "21:48:16 - cmdstanpy - INFO - Chain [1] done processing\n"
     ]
    },
    {
     "name": "stdout",
     "output_type": "stream",
     "text": [
      "100593\n"
     ]
    },
    {
     "name": "stderr",
     "output_type": "stream",
     "text": [
      "21:48:19 - cmdstanpy - INFO - Chain [1] start processing\n",
      "21:48:23 - cmdstanpy - INFO - Chain [1] done processing\n"
     ]
    },
    {
     "name": "stdout",
     "output_type": "stream",
     "text": [
      "100868\n"
     ]
    },
    {
     "name": "stderr",
     "output_type": "stream",
     "text": [
      "21:48:26 - cmdstanpy - INFO - Chain [1] start processing\n",
      "21:48:27 - cmdstanpy - INFO - Chain [1] done processing\n"
     ]
    },
    {
     "name": "stdout",
     "output_type": "stream",
     "text": [
      "101430\n"
     ]
    },
    {
     "name": "stderr",
     "output_type": "stream",
     "text": [
      "21:48:29 - cmdstanpy - INFO - Chain [1] start processing\n",
      "21:48:29 - cmdstanpy - INFO - Chain [1] done processing\n"
     ]
    },
    {
     "name": "stdout",
     "output_type": "stream",
     "text": [
      "101692\n"
     ]
    },
    {
     "name": "stderr",
     "output_type": "stream",
     "text": [
      "21:48:32 - cmdstanpy - INFO - Chain [1] start processing\n",
      "21:48:33 - cmdstanpy - INFO - Chain [1] done processing\n"
     ]
    },
    {
     "name": "stdout",
     "output_type": "stream",
     "text": [
      "100829\n"
     ]
    },
    {
     "name": "stderr",
     "output_type": "stream",
     "text": [
      "21:48:35 - cmdstanpy - INFO - Chain [1] start processing\n",
      "21:48:36 - cmdstanpy - INFO - Chain [1] done processing\n"
     ]
    },
    {
     "name": "stdout",
     "output_type": "stream",
     "text": [
      "122390\n"
     ]
    },
    {
     "name": "stderr",
     "output_type": "stream",
     "text": [
      "21:48:38 - cmdstanpy - INFO - Chain [1] start processing\n",
      "21:48:41 - cmdstanpy - INFO - Chain [1] done processing\n"
     ]
    },
    {
     "name": "stdout",
     "output_type": "stream",
     "text": [
      "100838\n"
     ]
    },
    {
     "name": "stderr",
     "output_type": "stream",
     "text": [
      "21:48:44 - cmdstanpy - INFO - Chain [1] start processing\n",
      "21:48:46 - cmdstanpy - INFO - Chain [1] done processing\n"
     ]
    },
    {
     "name": "stdout",
     "output_type": "stream",
     "text": [
      "125305\n"
     ]
    },
    {
     "name": "stderr",
     "output_type": "stream",
     "text": [
      "21:48:48 - cmdstanpy - INFO - Chain [1] start processing\n",
      "21:48:53 - cmdstanpy - INFO - Chain [1] done processing\n"
     ]
    },
    {
     "name": "stdout",
     "output_type": "stream",
     "text": [
      "100723\n"
     ]
    },
    {
     "name": "stderr",
     "output_type": "stream",
     "text": [
      "21:48:55 - cmdstanpy - INFO - Chain [1] start processing\n",
      "21:48:56 - cmdstanpy - INFO - Chain [1] done processing\n"
     ]
    },
    {
     "name": "stdout",
     "output_type": "stream",
     "text": [
      "101228\n"
     ]
    },
    {
     "name": "stderr",
     "output_type": "stream",
     "text": [
      "21:48:59 - cmdstanpy - INFO - Chain [1] start processing\n",
      "21:49:01 - cmdstanpy - INFO - Chain [1] done processing\n"
     ]
    },
    {
     "name": "stdout",
     "output_type": "stream",
     "text": [
      "101351\n"
     ]
    },
    {
     "name": "stderr",
     "output_type": "stream",
     "text": [
      "21:49:03 - cmdstanpy - INFO - Chain [1] start processing\n",
      "21:49:05 - cmdstanpy - INFO - Chain [1] done processing\n"
     ]
    },
    {
     "name": "stdout",
     "output_type": "stream",
     "text": [
      "101001\n"
     ]
    },
    {
     "name": "stderr",
     "output_type": "stream",
     "text": [
      "21:49:07 - cmdstanpy - INFO - Chain [1] start processing\n",
      "21:49:11 - cmdstanpy - INFO - Chain [1] done processing\n"
     ]
    },
    {
     "name": "stdout",
     "output_type": "stream",
     "text": [
      "100724\n"
     ]
    },
    {
     "name": "stderr",
     "output_type": "stream",
     "text": [
      "21:49:13 - cmdstanpy - INFO - Chain [1] start processing\n",
      "21:49:15 - cmdstanpy - INFO - Chain [1] done processing\n"
     ]
    },
    {
     "name": "stdout",
     "output_type": "stream",
     "text": [
      "111590\n"
     ]
    },
    {
     "name": "stderr",
     "output_type": "stream",
     "text": [
      "21:49:18 - cmdstanpy - INFO - Chain [1] start processing\n",
      "21:49:18 - cmdstanpy - INFO - Chain [1] done processing\n"
     ]
    },
    {
     "name": "stdout",
     "output_type": "stream",
     "text": [
      "133839\n"
     ]
    },
    {
     "name": "stderr",
     "output_type": "stream",
     "text": [
      "21:49:20 - cmdstanpy - INFO - Chain [1] start processing\n",
      "21:49:20 - cmdstanpy - INFO - Chain [1] done processing\n"
     ]
    },
    {
     "name": "stdout",
     "output_type": "stream",
     "text": [
      "101471\n"
     ]
    },
    {
     "name": "stderr",
     "output_type": "stream",
     "text": [
      "21:49:22 - cmdstanpy - INFO - Chain [1] start processing\n",
      "21:49:23 - cmdstanpy - INFO - Chain [1] done processing\n"
     ]
    },
    {
     "name": "stdout",
     "output_type": "stream",
     "text": [
      "100952\n"
     ]
    },
    {
     "name": "stderr",
     "output_type": "stream",
     "text": [
      "21:49:25 - cmdstanpy - INFO - Chain [1] start processing\n",
      "21:49:26 - cmdstanpy - INFO - Chain [1] done processing\n"
     ]
    },
    {
     "name": "stdout",
     "output_type": "stream",
     "text": [
      "122389\n"
     ]
    },
    {
     "name": "stderr",
     "output_type": "stream",
     "text": [
      "21:49:28 - cmdstanpy - INFO - Chain [1] start processing\n",
      "21:49:30 - cmdstanpy - INFO - Chain [1] done processing\n"
     ]
    },
    {
     "name": "stdout",
     "output_type": "stream",
     "text": [
      "101951\n"
     ]
    },
    {
     "name": "stderr",
     "output_type": "stream",
     "text": [
      "21:49:31 - cmdstanpy - INFO - Chain [1] start processing\n",
      "21:49:32 - cmdstanpy - INFO - Chain [1] done processing\n"
     ]
    },
    {
     "name": "stdout",
     "output_type": "stream",
     "text": [
      "100783\n"
     ]
    },
    {
     "name": "stderr",
     "output_type": "stream",
     "text": [
      "21:49:34 - cmdstanpy - INFO - Chain [1] start processing\n",
      "21:49:35 - cmdstanpy - INFO - Chain [1] done processing\n"
     ]
    },
    {
     "name": "stdout",
     "output_type": "stream",
     "text": [
      "101605\n"
     ]
    },
    {
     "name": "stderr",
     "output_type": "stream",
     "text": [
      "21:49:37 - cmdstanpy - INFO - Chain [1] start processing\n",
      "21:49:37 - cmdstanpy - INFO - Chain [1] done processing\n",
      "C:\\Users\\acer\\AppData\\Local\\Temp\\ipykernel_29788\\818110145.py:23: RuntimeWarning: invalid value encountered in scalar power\n",
      "  cagr = (end_nav / start_nav) ** (1/year) - 1\n"
     ]
    },
    {
     "name": "stdout",
     "output_type": "stream",
     "text": [
      "100712\n"
     ]
    },
    {
     "name": "stderr",
     "output_type": "stream",
     "text": [
      "21:49:39 - cmdstanpy - INFO - Chain [1] start processing\n",
      "21:49:41 - cmdstanpy - INFO - Chain [1] done processing\n"
     ]
    },
    {
     "name": "stdout",
     "output_type": "stream",
     "text": [
      "100123\n"
     ]
    },
    {
     "name": "stderr",
     "output_type": "stream",
     "text": [
      "21:49:44 - cmdstanpy - INFO - Chain [1] start processing\n",
      "21:49:46 - cmdstanpy - INFO - Chain [1] done processing\n"
     ]
    },
    {
     "name": "stdout",
     "output_type": "stream",
     "text": [
      "104726\n"
     ]
    },
    {
     "name": "stderr",
     "output_type": "stream",
     "text": [
      "21:49:48 - cmdstanpy - INFO - Chain [1] start processing\n",
      "21:49:48 - cmdstanpy - INFO - Chain [1] done processing\n",
      "C:\\Users\\acer\\AppData\\Local\\Temp\\ipykernel_29788\\818110145.py:23: RuntimeWarning: invalid value encountered in scalar power\n",
      "  cagr = (end_nav / start_nav) ** (1/year) - 1\n"
     ]
    },
    {
     "name": "stdout",
     "output_type": "stream",
     "text": [
      "100802\n"
     ]
    },
    {
     "name": "stderr",
     "output_type": "stream",
     "text": [
      "21:49:50 - cmdstanpy - INFO - Chain [1] start processing\n",
      "21:49:52 - cmdstanpy - INFO - Chain [1] done processing\n"
     ]
    },
    {
     "name": "stdout",
     "output_type": "stream",
     "text": [
      "111589\n",
      "100282\n"
     ]
    },
    {
     "name": "stderr",
     "output_type": "stream",
     "text": [
      "21:49:54 - cmdstanpy - INFO - Chain [1] start processing\n",
      "21:49:56 - cmdstanpy - INFO - Chain [1] done processing\n"
     ]
    },
    {
     "name": "stdout",
     "output_type": "stream",
     "text": [
      "101081\n"
     ]
    },
    {
     "name": "stderr",
     "output_type": "stream",
     "text": [
      "21:49:58 - cmdstanpy - INFO - Chain [1] start processing\n",
      "21:50:02 - cmdstanpy - INFO - Chain [1] done processing\n"
     ]
    },
    {
     "name": "stdout",
     "output_type": "stream",
     "text": [
      "104488\n"
     ]
    },
    {
     "name": "stderr",
     "output_type": "stream",
     "text": [
      "21:50:04 - cmdstanpy - INFO - Chain [1] start processing\n",
      "21:50:04 - cmdstanpy - INFO - Chain [1] done processing\n"
     ]
    },
    {
     "name": "stdout",
     "output_type": "stream",
     "text": [
      "100711\n"
     ]
    },
    {
     "name": "stderr",
     "output_type": "stream",
     "text": [
      "21:50:06 - cmdstanpy - INFO - Chain [1] start processing\n",
      "21:50:07 - cmdstanpy - INFO - Chain [1] done processing\n"
     ]
    },
    {
     "name": "stdout",
     "output_type": "stream",
     "text": [
      "133517\n"
     ]
    },
    {
     "name": "stderr",
     "output_type": "stream",
     "text": [
      "21:50:09 - cmdstanpy - INFO - Chain [1] start processing\n",
      "21:50:11 - cmdstanpy - INFO - Chain [1] done processing\n"
     ]
    },
    {
     "name": "stdout",
     "output_type": "stream",
     "text": [
      "101696\n"
     ]
    },
    {
     "name": "stderr",
     "output_type": "stream",
     "text": [
      "21:50:12 - cmdstanpy - INFO - Chain [1] start processing\n",
      "21:50:13 - cmdstanpy - INFO - Chain [1] done processing\n"
     ]
    },
    {
     "name": "stdout",
     "output_type": "stream",
     "text": [
      "122388\n"
     ]
    },
    {
     "name": "stderr",
     "output_type": "stream",
     "text": [
      "21:50:16 - cmdstanpy - INFO - Chain [1] start processing\n",
      "21:50:17 - cmdstanpy - INFO - Chain [1] done processing\n"
     ]
    },
    {
     "name": "stdout",
     "output_type": "stream",
     "text": [
      "100418\n"
     ]
    },
    {
     "name": "stderr",
     "output_type": "stream",
     "text": [
      "21:50:20 - cmdstanpy - INFO - Chain [1] start processing\n",
      "21:50:21 - cmdstanpy - INFO - Chain [1] done processing\n"
     ]
    },
    {
     "name": "stdout",
     "output_type": "stream",
     "text": [
      "115270\n"
     ]
    },
    {
     "name": "stderr",
     "output_type": "stream",
     "text": [
      "21:50:23 - cmdstanpy - INFO - Chain [1] start processing\n",
      "21:50:25 - cmdstanpy - INFO - Chain [1] done processing\n"
     ]
    },
    {
     "name": "stdout",
     "output_type": "stream",
     "text": [
      "101591\n"
     ]
    },
    {
     "name": "stderr",
     "output_type": "stream",
     "text": [
      "21:50:26 - cmdstanpy - INFO - Chain [1] start processing\n",
      "21:50:27 - cmdstanpy - INFO - Chain [1] done processing\n"
     ]
    },
    {
     "name": "stdout",
     "output_type": "stream",
     "text": [
      "109942\n"
     ]
    },
    {
     "name": "stderr",
     "output_type": "stream",
     "text": [
      "21:50:28 - cmdstanpy - INFO - Chain [1] start processing\n",
      "21:50:29 - cmdstanpy - INFO - Chain [1] done processing\n"
     ]
    },
    {
     "name": "stdout",
     "output_type": "stream",
     "text": [
      "101315\n"
     ]
    },
    {
     "name": "stderr",
     "output_type": "stream",
     "text": [
      "21:50:30 - cmdstanpy - INFO - Chain [1] start processing\n",
      "21:50:34 - cmdstanpy - INFO - Chain [1] done processing\n"
     ]
    },
    {
     "name": "stdout",
     "output_type": "stream",
     "text": [
      "104728\n",
      "100717\n"
     ]
    },
    {
     "name": "stderr",
     "output_type": "stream",
     "text": [
      "21:50:38 - cmdstanpy - INFO - Chain [1] start processing\n",
      "21:50:40 - cmdstanpy - INFO - Chain [1] done processing\n"
     ]
    },
    {
     "name": "stdout",
     "output_type": "stream",
     "text": [
      "100084\n"
     ]
    },
    {
     "name": "stderr",
     "output_type": "stream",
     "text": [
      "21:50:42 - cmdstanpy - INFO - Chain [1] start processing\n",
      "21:50:42 - cmdstanpy - INFO - Chain [1] done processing\n"
     ]
    },
    {
     "name": "stdout",
     "output_type": "stream",
     "text": [
      "100350\n"
     ]
    },
    {
     "name": "stderr",
     "output_type": "stream",
     "text": [
      "21:50:44 - cmdstanpy - INFO - Chain [1] start processing\n",
      "21:50:46 - cmdstanpy - INFO - Chain [1] done processing\n"
     ]
    },
    {
     "name": "stdout",
     "output_type": "stream",
     "text": [
      "100645\n"
     ]
    },
    {
     "name": "stderr",
     "output_type": "stream",
     "text": [
      "21:50:48 - cmdstanpy - INFO - Chain [1] start processing\n",
      "21:50:49 - cmdstanpy - INFO - Chain [1] done processing\n"
     ]
    },
    {
     "name": "stdout",
     "output_type": "stream",
     "text": [
      "100416\n"
     ]
    },
    {
     "name": "stderr",
     "output_type": "stream",
     "text": [
      "21:50:50 - cmdstanpy - INFO - Chain [1] start processing\n",
      "21:50:51 - cmdstanpy - INFO - Chain [1] done processing\n"
     ]
    },
    {
     "name": "stdout",
     "output_type": "stream",
     "text": [
      "101000\n"
     ]
    },
    {
     "name": "stderr",
     "output_type": "stream",
     "text": [
      "21:50:53 - cmdstanpy - INFO - Chain [1] start processing\n",
      "21:50:55 - cmdstanpy - INFO - Chain [1] done processing\n"
     ]
    },
    {
     "name": "stdout",
     "output_type": "stream",
     "text": [
      "101491\n"
     ]
    },
    {
     "name": "stderr",
     "output_type": "stream",
     "text": [
      "21:50:57 - cmdstanpy - INFO - Chain [1] start processing\n",
      "21:50:59 - cmdstanpy - INFO - Chain [1] done processing\n"
     ]
    },
    {
     "name": "stdout",
     "output_type": "stream",
     "text": [
      "100497\n"
     ]
    },
    {
     "name": "stderr",
     "output_type": "stream",
     "text": [
      "21:51:02 - cmdstanpy - INFO - Chain [1] start processing\n",
      "21:51:04 - cmdstanpy - INFO - Chain [1] done processing\n"
     ]
    },
    {
     "name": "stdout",
     "output_type": "stream",
     "text": [
      "101635\n"
     ]
    },
    {
     "name": "stderr",
     "output_type": "stream",
     "text": [
      "21:51:07 - cmdstanpy - INFO - Chain [1] start processing\n",
      "21:51:07 - cmdstanpy - INFO - Chain [1] done processing\n"
     ]
    },
    {
     "name": "stdout",
     "output_type": "stream",
     "text": [
      "131579\n"
     ]
    },
    {
     "name": "stderr",
     "output_type": "stream",
     "text": [
      "21:51:10 - cmdstanpy - INFO - Chain [1] start processing\n",
      "21:51:15 - cmdstanpy - INFO - Chain [1] done processing\n"
     ]
    },
    {
     "name": "stdout",
     "output_type": "stream",
     "text": [
      "100641\n"
     ]
    },
    {
     "name": "stderr",
     "output_type": "stream",
     "text": [
      "21:51:17 - cmdstanpy - INFO - Chain [1] start processing\n",
      "21:51:19 - cmdstanpy - INFO - Chain [1] done processing\n"
     ]
    },
    {
     "name": "stdout",
     "output_type": "stream",
     "text": [
      "100474\n"
     ]
    },
    {
     "name": "stderr",
     "output_type": "stream",
     "text": [
      "21:51:21 - cmdstanpy - INFO - Chain [1] start processing\n",
      "21:51:22 - cmdstanpy - INFO - Chain [1] done processing\n"
     ]
    },
    {
     "name": "stdout",
     "output_type": "stream",
     "text": [
      "100664\n"
     ]
    },
    {
     "name": "stderr",
     "output_type": "stream",
     "text": [
      "21:51:27 - cmdstanpy - INFO - Chain [1] start processing\n",
      "21:51:28 - cmdstanpy - INFO - Chain [1] done processing\n"
     ]
    },
    {
     "name": "stdout",
     "output_type": "stream",
     "text": [
      "101222\n"
     ]
    },
    {
     "name": "stderr",
     "output_type": "stream",
     "text": [
      "21:51:31 - cmdstanpy - INFO - Chain [1] start processing\n",
      "21:51:34 - cmdstanpy - INFO - Chain [1] done processing\n"
     ]
    },
    {
     "name": "stdout",
     "output_type": "stream",
     "text": [
      "100046\n"
     ]
    },
    {
     "name": "stderr",
     "output_type": "stream",
     "text": [
      "21:51:37 - cmdstanpy - INFO - Chain [1] start processing\n",
      "21:51:38 - cmdstanpy - INFO - Chain [1] done processing\n"
     ]
    },
    {
     "name": "stdout",
     "output_type": "stream",
     "text": [
      "112277\n"
     ]
    },
    {
     "name": "stderr",
     "output_type": "stream",
     "text": [
      "21:51:40 - cmdstanpy - INFO - Chain [1] start processing\n",
      "21:51:42 - cmdstanpy - INFO - Chain [1] done processing\n"
     ]
    },
    {
     "name": "stdout",
     "output_type": "stream",
     "text": [
      "100120\n"
     ]
    },
    {
     "name": "stderr",
     "output_type": "stream",
     "text": [
      "21:51:44 - cmdstanpy - INFO - Chain [1] start processing\n",
      "21:51:46 - cmdstanpy - INFO - Chain [1] done processing\n"
     ]
    },
    {
     "name": "stdout",
     "output_type": "stream",
     "text": [
      "101083\n",
      "102030\n"
     ]
    },
    {
     "name": "stderr",
     "output_type": "stream",
     "text": [
      "21:51:49 - cmdstanpy - INFO - Chain [1] start processing\n",
      "21:51:51 - cmdstanpy - INFO - Chain [1] done processing\n"
     ]
    },
    {
     "name": "stdout",
     "output_type": "stream",
     "text": [
      "101593\n"
     ]
    },
    {
     "name": "stderr",
     "output_type": "stream",
     "text": [
      "21:51:53 - cmdstanpy - INFO - Chain [1] start processing\n",
      "21:51:54 - cmdstanpy - INFO - Chain [1] done processing\n"
     ]
    },
    {
     "name": "stdout",
     "output_type": "stream",
     "text": [
      "124303\n"
     ]
    },
    {
     "name": "stderr",
     "output_type": "stream",
     "text": [
      "21:51:56 - cmdstanpy - INFO - Chain [1] start processing\n",
      "21:51:58 - cmdstanpy - INFO - Chain [1] done processing\n"
     ]
    },
    {
     "name": "stdout",
     "output_type": "stream",
     "text": [
      "100915\n"
     ]
    },
    {
     "name": "stderr",
     "output_type": "stream",
     "text": [
      "21:52:00 - cmdstanpy - INFO - Chain [1] start processing\n",
      "21:52:01 - cmdstanpy - INFO - Chain [1] done processing\n"
     ]
    },
    {
     "name": "stdout",
     "output_type": "stream",
     "text": [
      "102202\n"
     ]
    },
    {
     "name": "stderr",
     "output_type": "stream",
     "text": [
      "21:52:02 - cmdstanpy - INFO - Chain [1] start processing\n",
      "21:52:02 - cmdstanpy - INFO - Chain [1] done processing\n"
     ]
    },
    {
     "name": "stdout",
     "output_type": "stream",
     "text": [
      "100053\n"
     ]
    },
    {
     "name": "stderr",
     "output_type": "stream",
     "text": [
      "21:52:04 - cmdstanpy - INFO - Chain [1] start processing\n",
      "21:52:05 - cmdstanpy - INFO - Chain [1] done processing\n"
     ]
    },
    {
     "name": "stdout",
     "output_type": "stream",
     "text": [
      "100970\n"
     ]
    },
    {
     "name": "stderr",
     "output_type": "stream",
     "text": [
      "21:52:07 - cmdstanpy - INFO - Chain [1] start processing\n",
      "21:52:07 - cmdstanpy - INFO - Chain [1] done processing\n"
     ]
    },
    {
     "name": "stdout",
     "output_type": "stream",
     "text": [
      "112680\n"
     ]
    },
    {
     "name": "stderr",
     "output_type": "stream",
     "text": [
      "21:52:09 - cmdstanpy - INFO - Chain [1] start processing\n",
      "21:52:11 - cmdstanpy - INFO - Chain [1] done processing\n"
     ]
    },
    {
     "name": "stdout",
     "output_type": "stream",
     "text": [
      "100357\n"
     ]
    },
    {
     "name": "stderr",
     "output_type": "stream",
     "text": [
      "21:52:13 - cmdstanpy - INFO - Chain [1] start processing\n",
      "21:52:14 - cmdstanpy - INFO - Chain [1] done processing\n"
     ]
    },
    {
     "name": "stdout",
     "output_type": "stream",
     "text": [
      "102849\n"
     ]
    },
    {
     "name": "stderr",
     "output_type": "stream",
     "text": [
      "21:52:16 - cmdstanpy - INFO - Chain [1] start processing\n",
      "21:52:18 - cmdstanpy - INFO - Chain [1] done processing\n"
     ]
    },
    {
     "name": "stdout",
     "output_type": "stream",
     "text": [
      "101530\n"
     ]
    },
    {
     "name": "stderr",
     "output_type": "stream",
     "text": [
      "21:52:20 - cmdstanpy - INFO - Chain [1] start processing\n",
      "21:52:21 - cmdstanpy - INFO - Chain [1] done processing\n"
     ]
    },
    {
     "name": "stdout",
     "output_type": "stream",
     "text": [
      "112369\n"
     ]
    },
    {
     "name": "stderr",
     "output_type": "stream",
     "text": [
      "21:52:24 - cmdstanpy - INFO - Chain [1] start processing\n",
      "21:52:24 - cmdstanpy - INFO - Chain [1] done processing\n"
     ]
    },
    {
     "name": "stdout",
     "output_type": "stream",
     "text": [
      "101687\n"
     ]
    },
    {
     "name": "stderr",
     "output_type": "stream",
     "text": [
      "21:52:26 - cmdstanpy - INFO - Chain [1] start processing\n",
      "21:52:27 - cmdstanpy - INFO - Chain [1] done processing\n"
     ]
    },
    {
     "name": "stdout",
     "output_type": "stream",
     "text": [
      "102752\n"
     ]
    },
    {
     "name": "stderr",
     "output_type": "stream",
     "text": [
      "21:52:30 - cmdstanpy - INFO - Chain [1] start processing\n",
      "21:52:32 - cmdstanpy - INFO - Chain [1] done processing\n"
     ]
    },
    {
     "name": "stdout",
     "output_type": "stream",
     "text": [
      "100928\n"
     ]
    },
    {
     "name": "stderr",
     "output_type": "stream",
     "text": [
      "21:52:35 - cmdstanpy - INFO - Chain [1] start processing\n",
      "21:52:37 - cmdstanpy - INFO - Chain [1] done processing\n"
     ]
    },
    {
     "name": "stdout",
     "output_type": "stream",
     "text": [
      "102262\n"
     ]
    },
    {
     "name": "stderr",
     "output_type": "stream",
     "text": [
      "21:52:39 - cmdstanpy - INFO - Chain [1] start processing\n",
      "21:52:40 - cmdstanpy - INFO - Chain [1] done processing\n"
     ]
    },
    {
     "name": "stdout",
     "output_type": "stream",
     "text": [
      "100323\n"
     ]
    },
    {
     "name": "stderr",
     "output_type": "stream",
     "text": [
      "21:52:43 - cmdstanpy - INFO - Chain [1] start processing\n",
      "21:52:45 - cmdstanpy - INFO - Chain [1] done processing\n"
     ]
    },
    {
     "name": "stdout",
     "output_type": "stream",
     "text": [
      "100063\n"
     ]
    },
    {
     "name": "stderr",
     "output_type": "stream",
     "text": [
      "21:52:47 - cmdstanpy - INFO - Chain [1] start processing\n",
      "21:52:48 - cmdstanpy - INFO - Chain [1] done processing\n"
     ]
    },
    {
     "name": "stdout",
     "output_type": "stream",
     "text": [
      "112216\n"
     ]
    },
    {
     "name": "stderr",
     "output_type": "stream",
     "text": [
      "21:52:49 - cmdstanpy - INFO - Chain [1] start processing\n",
      "21:52:50 - cmdstanpy - INFO - Chain [1] done processing\n"
     ]
    },
    {
     "name": "stdout",
     "output_type": "stream",
     "text": [
      "101742\n"
     ]
    },
    {
     "name": "stderr",
     "output_type": "stream",
     "text": [
      "21:52:52 - cmdstanpy - INFO - Chain [1] start processing\n",
      "21:52:53 - cmdstanpy - INFO - Chain [1] done processing\n"
     ]
    },
    {
     "name": "stdout",
     "output_type": "stream",
     "text": [
      "101350\n"
     ]
    },
    {
     "name": "stderr",
     "output_type": "stream",
     "text": [
      "21:52:55 - cmdstanpy - INFO - Chain [1] start processing\n",
      "21:52:56 - cmdstanpy - INFO - Chain [1] done processing\n"
     ]
    },
    {
     "name": "stdout",
     "output_type": "stream",
     "text": [
      "104636\n"
     ]
    },
    {
     "name": "stderr",
     "output_type": "stream",
     "text": [
      "21:52:58 - cmdstanpy - INFO - Chain [1] start processing\n",
      "21:52:59 - cmdstanpy - INFO - Chain [1] done processing\n"
     ]
    },
    {
     "name": "stdout",
     "output_type": "stream",
     "text": [
      "100301\n"
     ]
    },
    {
     "name": "stderr",
     "output_type": "stream",
     "text": [
      "21:53:02 - cmdstanpy - INFO - Chain [1] start processing\n",
      "21:53:03 - cmdstanpy - INFO - Chain [1] done processing\n"
     ]
    },
    {
     "name": "stdout",
     "output_type": "stream",
     "text": [
      "100656\n"
     ]
    },
    {
     "name": "stderr",
     "output_type": "stream",
     "text": [
      "21:53:04 - cmdstanpy - INFO - Chain [1] start processing\n",
      "21:53:06 - cmdstanpy - INFO - Chain [1] done processing\n"
     ]
    },
    {
     "name": "stdout",
     "output_type": "stream",
     "text": [
      "100663\n",
      "101480\n"
     ]
    },
    {
     "name": "stderr",
     "output_type": "stream",
     "text": [
      "21:53:08 - cmdstanpy - INFO - Chain [1] start processing\n",
      "21:53:10 - cmdstanpy - INFO - Chain [1] done processing\n"
     ]
    },
    {
     "name": "stdout",
     "output_type": "stream",
     "text": [
      "124233\n"
     ]
    },
    {
     "name": "stderr",
     "output_type": "stream",
     "text": [
      "21:53:12 - cmdstanpy - INFO - Chain [1] start processing\n",
      "21:53:13 - cmdstanpy - INFO - Chain [1] done processing\n"
     ]
    },
    {
     "name": "stdout",
     "output_type": "stream",
     "text": [
      "101934\n",
      "100917\n"
     ]
    },
    {
     "name": "stderr",
     "output_type": "stream",
     "text": [
      "21:53:16 - cmdstanpy - INFO - Chain [1] start processing\n",
      "21:53:17 - cmdstanpy - INFO - Chain [1] done processing\n"
     ]
    },
    {
     "name": "stdout",
     "output_type": "stream",
     "text": [
      "119340\n"
     ]
    },
    {
     "name": "stderr",
     "output_type": "stream",
     "text": [
      "21:53:18 - cmdstanpy - INFO - Chain [1] start processing\n",
      "21:53:20 - cmdstanpy - INFO - Chain [1] done processing\n"
     ]
    },
    {
     "name": "stdout",
     "output_type": "stream",
     "text": [
      "119399\n"
     ]
    },
    {
     "name": "stderr",
     "output_type": "stream",
     "text": [
      "21:53:22 - cmdstanpy - INFO - Chain [1] start processing\n",
      "21:53:24 - cmdstanpy - INFO - Chain [1] done processing\n"
     ]
    },
    {
     "name": "stdout",
     "output_type": "stream",
     "text": [
      "100082\n"
     ]
    },
    {
     "name": "stderr",
     "output_type": "stream",
     "text": [
      "21:53:26 - cmdstanpy - INFO - Chain [1] start processing\n",
      "21:53:28 - cmdstanpy - INFO - Chain [1] done processing\n"
     ]
    },
    {
     "name": "stdout",
     "output_type": "stream",
     "text": [
      "101281\n"
     ]
    },
    {
     "name": "stderr",
     "output_type": "stream",
     "text": [
      "21:53:31 - cmdstanpy - INFO - Chain [1] start processing\n",
      "21:53:32 - cmdstanpy - INFO - Chain [1] done processing\n"
     ]
    },
    {
     "name": "stdout",
     "output_type": "stream",
     "text": [
      "101597\n"
     ]
    },
    {
     "name": "stderr",
     "output_type": "stream",
     "text": [
      "21:53:33 - cmdstanpy - INFO - Chain [1] start processing\n",
      "21:53:35 - cmdstanpy - INFO - Chain [1] done processing\n"
     ]
    },
    {
     "name": "stdout",
     "output_type": "stream",
     "text": [
      "100639\n"
     ]
    },
    {
     "name": "stderr",
     "output_type": "stream",
     "text": [
      "21:53:37 - cmdstanpy - INFO - Chain [1] start processing\n",
      "21:53:41 - cmdstanpy - INFO - Chain [1] done processing\n"
     ]
    },
    {
     "name": "stdout",
     "output_type": "stream",
     "text": [
      "100941\n"
     ]
    },
    {
     "name": "stderr",
     "output_type": "stream",
     "text": [
      "21:53:44 - cmdstanpy - INFO - Chain [1] start processing\n",
      "21:53:46 - cmdstanpy - INFO - Chain [1] done processing\n"
     ]
    },
    {
     "name": "stdout",
     "output_type": "stream",
     "text": [
      "102260\n"
     ]
    },
    {
     "name": "stderr",
     "output_type": "stream",
     "text": [
      "21:53:49 - cmdstanpy - INFO - Chain [1] start processing\n",
      "21:53:51 - cmdstanpy - INFO - Chain [1] done processing\n"
     ]
    },
    {
     "name": "stdout",
     "output_type": "stream",
     "text": [
      "100953\n"
     ]
    },
    {
     "name": "stderr",
     "output_type": "stream",
     "text": [
      "21:53:53 - cmdstanpy - INFO - Chain [1] start processing\n",
      "21:53:55 - cmdstanpy - INFO - Chain [1] done processing\n"
     ]
    },
    {
     "name": "stdout",
     "output_type": "stream",
     "text": [
      "100086\n"
     ]
    },
    {
     "name": "stderr",
     "output_type": "stream",
     "text": [
      "21:53:58 - cmdstanpy - INFO - Chain [1] start processing\n",
      "21:53:59 - cmdstanpy - INFO - Chain [1] done processing\n"
     ]
    },
    {
     "name": "stdout",
     "output_type": "stream",
     "text": [
      "102066\n"
     ]
    },
    {
     "name": "stderr",
     "output_type": "stream",
     "text": [
      "21:54:01 - cmdstanpy - INFO - Chain [1] start processing\n",
      "21:54:02 - cmdstanpy - INFO - Chain [1] done processing\n"
     ]
    },
    {
     "name": "stdout",
     "output_type": "stream",
     "text": [
      "100319\n"
     ]
    },
    {
     "name": "stderr",
     "output_type": "stream",
     "text": [
      "21:54:04 - cmdstanpy - INFO - Chain [1] start processing\n",
      "21:54:06 - cmdstanpy - INFO - Chain [1] done processing\n"
     ]
    },
    {
     "name": "stdout",
     "output_type": "stream",
     "text": [
      "101049\n"
     ]
    },
    {
     "name": "stderr",
     "output_type": "stream",
     "text": [
      "21:54:10 - cmdstanpy - INFO - Chain [1] start processing\n",
      "21:54:12 - cmdstanpy - INFO - Chain [1] done processing\n"
     ]
    },
    {
     "name": "stdout",
     "output_type": "stream",
     "text": [
      "101364\n"
     ]
    },
    {
     "name": "stderr",
     "output_type": "stream",
     "text": [
      "21:54:13 - cmdstanpy - INFO - Chain [1] start processing\n",
      "21:54:15 - cmdstanpy - INFO - Chain [1] done processing\n"
     ]
    },
    {
     "name": "stdout",
     "output_type": "stream",
     "text": [
      "122640\n"
     ]
    },
    {
     "name": "stderr",
     "output_type": "stream",
     "text": [
      "21:54:17 - cmdstanpy - INFO - Chain [1] start processing\n",
      "21:54:18 - cmdstanpy - INFO - Chain [1] done processing\n"
     ]
    },
    {
     "name": "stdout",
     "output_type": "stream",
     "text": [
      "112322\n"
     ]
    },
    {
     "name": "stderr",
     "output_type": "stream",
     "text": [
      "21:54:20 - cmdstanpy - INFO - Chain [1] start processing\n",
      "21:54:21 - cmdstanpy - INFO - Chain [1] done processing\n"
     ]
    },
    {
     "name": "stdout",
     "output_type": "stream",
     "text": [
      "102257\n",
      "100278\n"
     ]
    },
    {
     "name": "stderr",
     "output_type": "stream",
     "text": [
      "21:54:24 - cmdstanpy - INFO - Chain [1] start processing\n",
      "21:54:25 - cmdstanpy - INFO - Chain [1] done processing\n"
     ]
    },
    {
     "name": "stdout",
     "output_type": "stream",
     "text": [
      "139534\n"
     ]
    },
    {
     "name": "stderr",
     "output_type": "stream",
     "text": [
      "21:54:27 - cmdstanpy - INFO - Chain [1] start processing\n",
      "21:54:28 - cmdstanpy - INFO - Chain [1] done processing\n"
     ]
    },
    {
     "name": "stdout",
     "output_type": "stream",
     "text": [
      "113142\n"
     ]
    },
    {
     "name": "stderr",
     "output_type": "stream",
     "text": [
      "21:54:30 - cmdstanpy - INFO - Chain [1] start processing\n",
      "21:54:34 - cmdstanpy - INFO - Chain [1] done processing\n"
     ]
    },
    {
     "name": "stdout",
     "output_type": "stream",
     "text": [
      "112712\n"
     ]
    },
    {
     "name": "stderr",
     "output_type": "stream",
     "text": [
      "21:54:36 - cmdstanpy - INFO - Chain [1] start processing\n",
      "21:54:38 - cmdstanpy - INFO - Chain [1] done processing\n"
     ]
    },
    {
     "name": "stdout",
     "output_type": "stream",
     "text": [
      "104723\n"
     ]
    },
    {
     "name": "stderr",
     "output_type": "stream",
     "text": [
      "21:54:41 - cmdstanpy - INFO - Chain [1] start processing\n",
      "21:54:42 - cmdstanpy - INFO - Chain [1] done processing\n"
     ]
    },
    {
     "name": "stdout",
     "output_type": "stream",
     "text": [
      "100617\n"
     ]
    },
    {
     "name": "stderr",
     "output_type": "stream",
     "text": [
      "21:54:45 - cmdstanpy - INFO - Chain [1] start processing\n",
      "21:54:47 - cmdstanpy - INFO - Chain [1] done processing\n"
     ]
    },
    {
     "name": "stdout",
     "output_type": "stream",
     "text": [
      "119400\n"
     ]
    },
    {
     "name": "stderr",
     "output_type": "stream",
     "text": [
      "21:54:49 - cmdstanpy - INFO - Chain [1] start processing\n",
      "21:54:50 - cmdstanpy - INFO - Chain [1] done processing\n"
     ]
    },
    {
     "name": "stdout",
     "output_type": "stream",
     "text": [
      "100081\n"
     ]
    },
    {
     "name": "stderr",
     "output_type": "stream",
     "text": [
      "21:54:52 - cmdstanpy - INFO - Chain [1] start processing\n",
      "21:54:54 - cmdstanpy - INFO - Chain [1] done processing\n"
     ]
    },
    {
     "name": "stdout",
     "output_type": "stream",
     "text": [
      "112211\n"
     ]
    },
    {
     "name": "stderr",
     "output_type": "stream",
     "text": [
      "21:54:56 - cmdstanpy - INFO - Chain [1] start processing\n",
      "21:54:58 - cmdstanpy - INFO - Chain [1] done processing\n"
     ]
    },
    {
     "name": "stdout",
     "output_type": "stream",
     "text": [
      "112278\n",
      "109938\n"
     ]
    },
    {
     "name": "stderr",
     "output_type": "stream",
     "text": [
      "21:55:00 - cmdstanpy - INFO - Chain [1] start processing\n",
      "21:55:01 - cmdstanpy - INFO - Chain [1] done processing\n"
     ]
    },
    {
     "name": "stdout",
     "output_type": "stream",
     "text": [
      "139535\n"
     ]
    },
    {
     "name": "stderr",
     "output_type": "stream",
     "text": [
      "21:55:03 - cmdstanpy - INFO - Chain [1] start processing\n",
      "21:55:03 - cmdstanpy - INFO - Chain [1] done processing\n"
     ]
    },
    {
     "name": "stdout",
     "output_type": "stream",
     "text": [
      "102061\n"
     ]
    },
    {
     "name": "stderr",
     "output_type": "stream",
     "text": [
      "21:55:06 - cmdstanpy - INFO - Chain [1] start processing\n",
      "21:55:10 - cmdstanpy - INFO - Chain [1] done processing\n"
     ]
    },
    {
     "name": "stdout",
     "output_type": "stream",
     "text": [
      "100044\n",
      "139344\n"
     ]
    },
    {
     "name": "stderr",
     "output_type": "stream",
     "text": [
      "21:55:13 - cmdstanpy - INFO - Chain [1] start processing\n",
      "21:55:13 - cmdstanpy - INFO - Chain [1] done processing\n"
     ]
    },
    {
     "name": "stdout",
     "output_type": "stream",
     "text": [
      "109945\n"
     ]
    },
    {
     "name": "stderr",
     "output_type": "stream",
     "text": [
      "21:55:15 - cmdstanpy - INFO - Chain [1] start processing\n",
      "21:55:17 - cmdstanpy - INFO - Chain [1] done processing\n"
     ]
    },
    {
     "name": "stdout",
     "output_type": "stream",
     "text": [
      "101372\n"
     ]
    },
    {
     "name": "stderr",
     "output_type": "stream",
     "text": [
      "21:55:19 - cmdstanpy - INFO - Chain [1] start processing\n",
      "21:55:20 - cmdstanpy - INFO - Chain [1] done processing\n"
     ]
    },
    {
     "name": "stdout",
     "output_type": "stream",
     "text": [
      "100856\n"
     ]
    },
    {
     "name": "stderr",
     "output_type": "stream",
     "text": [
      "21:55:22 - cmdstanpy - INFO - Chain [1] start processing\n",
      "21:55:24 - cmdstanpy - INFO - Chain [1] done processing\n"
     ]
    },
    {
     "name": "stdout",
     "output_type": "stream",
     "text": [
      "100929\n"
     ]
    },
    {
     "name": "stderr",
     "output_type": "stream",
     "text": [
      "21:55:26 - cmdstanpy - INFO - Chain [1] start processing\n",
      "21:55:28 - cmdstanpy - INFO - Chain [1] done processing\n"
     ]
    },
    {
     "name": "stdout",
     "output_type": "stream",
     "text": [
      "101950\n"
     ]
    },
    {
     "name": "stderr",
     "output_type": "stream",
     "text": [
      "21:55:30 - cmdstanpy - INFO - Chain [1] start processing\n",
      "21:55:32 - cmdstanpy - INFO - Chain [1] done processing\n"
     ]
    },
    {
     "name": "stdout",
     "output_type": "stream",
     "text": [
      "102252\n"
     ]
    },
    {
     "name": "stderr",
     "output_type": "stream",
     "text": [
      "21:55:34 - cmdstanpy - INFO - Chain [1] start processing\n",
      "21:55:35 - cmdstanpy - INFO - Chain [1] done processing\n"
     ]
    },
    {
     "name": "stdout",
     "output_type": "stream",
     "text": [
      "100292\n"
     ]
    },
    {
     "name": "stderr",
     "output_type": "stream",
     "text": [
      "21:55:36 - cmdstanpy - INFO - Chain [1] start processing\n",
      "21:55:36 - cmdstanpy - INFO - Chain [1] done processing\n"
     ]
    },
    {
     "name": "stdout",
     "output_type": "stream",
     "text": [
      "107589\n"
     ]
    },
    {
     "name": "stderr",
     "output_type": "stream",
     "text": [
      "21:55:38 - cmdstanpy - INFO - Chain [1] start processing\n",
      "21:55:39 - cmdstanpy - INFO - Chain [1] done processing\n"
     ]
    },
    {
     "name": "stdout",
     "output_type": "stream",
     "text": [
      "133838\n"
     ]
    },
    {
     "name": "stderr",
     "output_type": "stream",
     "text": [
      "21:55:40 - cmdstanpy - INFO - Chain [1] start processing\n",
      "21:55:42 - cmdstanpy - INFO - Chain [1] done processing\n"
     ]
    },
    {
     "name": "stdout",
     "output_type": "stream",
     "text": [
      "101547\n"
     ]
    },
    {
     "name": "stderr",
     "output_type": "stream",
     "text": [
      "21:55:44 - cmdstanpy - INFO - Chain [1] start processing\n",
      "21:55:46 - cmdstanpy - INFO - Chain [1] done processing\n"
     ]
    },
    {
     "name": "stdout",
     "output_type": "stream",
     "text": [
      "119416\n"
     ]
    },
    {
     "name": "stderr",
     "output_type": "stream",
     "text": [
      "21:55:48 - cmdstanpy - INFO - Chain [1] start processing\n",
      "21:55:50 - cmdstanpy - INFO - Chain [1] done processing\n"
     ]
    },
    {
     "name": "stdout",
     "output_type": "stream",
     "text": [
      "100927\n"
     ]
    },
    {
     "name": "stderr",
     "output_type": "stream",
     "text": [
      "21:55:52 - cmdstanpy - INFO - Chain [1] start processing\n",
      "21:55:54 - cmdstanpy - INFO - Chain [1] done processing\n"
     ]
    },
    {
     "name": "stdout",
     "output_type": "stream",
     "text": [
      "100602\n"
     ]
    },
    {
     "name": "stderr",
     "output_type": "stream",
     "text": [
      "21:55:56 - cmdstanpy - INFO - Chain [1] start processing\n",
      "21:55:57 - cmdstanpy - INFO - Chain [1] done processing\n"
     ]
    },
    {
     "name": "stdout",
     "output_type": "stream",
     "text": [
      "101548\n"
     ]
    },
    {
     "name": "stderr",
     "output_type": "stream",
     "text": [
      "21:56:00 - cmdstanpy - INFO - Chain [1] start processing\n",
      "21:56:01 - cmdstanpy - INFO - Chain [1] done processing\n"
     ]
    },
    {
     "name": "stdout",
     "output_type": "stream",
     "text": [
      "100668\n"
     ]
    },
    {
     "name": "stderr",
     "output_type": "stream",
     "text": [
      "21:56:03 - cmdstanpy - INFO - Chain [1] start processing\n",
      "21:56:05 - cmdstanpy - INFO - Chain [1] done processing\n"
     ]
    },
    {
     "name": "stdout",
     "output_type": "stream",
     "text": [
      "100597\n"
     ]
    },
    {
     "name": "stderr",
     "output_type": "stream",
     "text": [
      "21:56:06 - cmdstanpy - INFO - Chain [1] start processing\n",
      "21:56:07 - cmdstanpy - INFO - Chain [1] done processing\n"
     ]
    },
    {
     "name": "stdout",
     "output_type": "stream",
     "text": [
      "109940\n"
     ]
    },
    {
     "name": "stderr",
     "output_type": "stream",
     "text": [
      "21:56:09 - cmdstanpy - INFO - Chain [1] start processing\n",
      "21:56:10 - cmdstanpy - INFO - Chain [1] done processing\n"
     ]
    },
    {
     "name": "stdout",
     "output_type": "stream",
     "text": [
      "100359\n"
     ]
    },
    {
     "name": "stderr",
     "output_type": "stream",
     "text": [
      "21:56:12 - cmdstanpy - INFO - Chain [1] start processing\n",
      "21:56:13 - cmdstanpy - INFO - Chain [1] done processing\n"
     ]
    },
    {
     "name": "stdout",
     "output_type": "stream",
     "text": [
      "104492\n"
     ]
    },
    {
     "name": "stderr",
     "output_type": "stream",
     "text": [
      "21:56:15 - cmdstanpy - INFO - Chain [1] start processing\n",
      "21:56:17 - cmdstanpy - INFO - Chain [1] done processing\n"
     ]
    },
    {
     "name": "stdout",
     "output_type": "stream",
     "text": [
      "139538\n"
     ]
    },
    {
     "name": "stderr",
     "output_type": "stream",
     "text": [
      "21:56:19 - cmdstanpy - INFO - Chain [1] start processing\n",
      "21:56:20 - cmdstanpy - INFO - Chain [1] done processing\n"
     ]
    },
    {
     "name": "stdout",
     "output_type": "stream",
     "text": [
      "104725\n"
     ]
    },
    {
     "name": "stderr",
     "output_type": "stream",
     "text": [
      "21:56:22 - cmdstanpy - INFO - Chain [1] start processing\n",
      "21:56:24 - cmdstanpy - INFO - Chain [1] done processing\n"
     ]
    },
    {
     "name": "stdout",
     "output_type": "stream",
     "text": [
      "100383\n"
     ]
    },
    {
     "name": "stderr",
     "output_type": "stream",
     "text": [
      "21:56:29 - cmdstanpy - INFO - Chain [1] start processing\n",
      "21:56:30 - cmdstanpy - INFO - Chain [1] done processing\n"
     ]
    },
    {
     "name": "stdout",
     "output_type": "stream",
     "text": [
      "125711\n"
     ]
    },
    {
     "name": "stderr",
     "output_type": "stream",
     "text": [
      "21:56:32 - cmdstanpy - INFO - Chain [1] start processing\n",
      "21:56:35 - cmdstanpy - INFO - Chain [1] done processing\n"
     ]
    },
    {
     "name": "stdout",
     "output_type": "stream",
     "text": [
      "100048\n"
     ]
    },
    {
     "name": "stderr",
     "output_type": "stream",
     "text": [
      "21:56:37 - cmdstanpy - INFO - Chain [1] start processing\n",
      "21:56:39 - cmdstanpy - INFO - Chain [1] done processing\n"
     ]
    },
    {
     "name": "stdout",
     "output_type": "stream",
     "text": [
      "101361\n"
     ]
    },
    {
     "name": "stderr",
     "output_type": "stream",
     "text": [
      "21:56:40 - cmdstanpy - INFO - Chain [1] start processing\n",
      "21:56:41 - cmdstanpy - INFO - Chain [1] done processing\n"
     ]
    },
    {
     "name": "stdout",
     "output_type": "stream",
     "text": [
      "100262\n"
     ]
    },
    {
     "name": "stderr",
     "output_type": "stream",
     "text": [
      "21:56:43 - cmdstanpy - INFO - Chain [1] start processing\n",
      "21:56:44 - cmdstanpy - INFO - Chain [1] done processing\n"
     ]
    },
    {
     "name": "stdout",
     "output_type": "stream",
     "text": [
      "100175\n"
     ]
    },
    {
     "name": "stderr",
     "output_type": "stream",
     "text": [
      "21:56:46 - cmdstanpy - INFO - Chain [1] start processing\n",
      "21:56:47 - cmdstanpy - INFO - Chain [1] done processing\n"
     ]
    },
    {
     "name": "stdout",
     "output_type": "stream",
     "text": [
      "101065\n"
     ]
    },
    {
     "name": "stderr",
     "output_type": "stream",
     "text": [
      "21:56:49 - cmdstanpy - INFO - Chain [1] start processing\n",
      "21:56:50 - cmdstanpy - INFO - Chain [1] done processing\n"
     ]
    },
    {
     "name": "stdout",
     "output_type": "stream",
     "text": [
      "112213\n"
     ]
    },
    {
     "name": "stderr",
     "output_type": "stream",
     "text": [
      "21:56:52 - cmdstanpy - INFO - Chain [1] start processing\n",
      "21:56:54 - cmdstanpy - INFO - Chain [1] done processing\n"
     ]
    },
    {
     "name": "stdout",
     "output_type": "stream",
     "text": [
      "100601\n"
     ]
    },
    {
     "name": "stderr",
     "output_type": "stream",
     "text": [
      "21:56:56 - cmdstanpy - INFO - Chain [1] start processing\n",
      "21:56:57 - cmdstanpy - INFO - Chain [1] done processing\n"
     ]
    },
    {
     "name": "stdout",
     "output_type": "stream",
     "text": [
      "101805\n"
     ]
    },
    {
     "name": "stderr",
     "output_type": "stream",
     "text": [
      "21:56:59 - cmdstanpy - INFO - Chain [1] start processing\n",
      "21:57:00 - cmdstanpy - INFO - Chain [1] done processing\n"
     ]
    },
    {
     "name": "stdout",
     "output_type": "stream",
     "text": [
      "100264\n"
     ]
    },
    {
     "name": "stderr",
     "output_type": "stream",
     "text": [
      "21:57:03 - cmdstanpy - INFO - Chain [1] start processing\n",
      "21:57:04 - cmdstanpy - INFO - Chain [1] done processing\n"
     ]
    },
    {
     "name": "stdout",
     "output_type": "stream",
     "text": [
      "101862\n"
     ]
    },
    {
     "name": "stderr",
     "output_type": "stream",
     "text": [
      "21:57:07 - cmdstanpy - INFO - Chain [1] start processing\n",
      "21:57:08 - cmdstanpy - INFO - Chain [1] done processing\n"
     ]
    },
    {
     "name": "stdout",
     "output_type": "stream",
     "text": [
      "100630\n"
     ]
    },
    {
     "name": "stderr",
     "output_type": "stream",
     "text": [
      "21:57:10 - cmdstanpy - INFO - Chain [1] start processing\n",
      "21:57:11 - cmdstanpy - INFO - Chain [1] done processing\n"
     ]
    },
    {
     "name": "stdout",
     "output_type": "stream",
     "text": [
      "101693\n"
     ]
    },
    {
     "name": "stderr",
     "output_type": "stream",
     "text": [
      "21:57:12 - cmdstanpy - INFO - Chain [1] start processing\n",
      "21:57:14 - cmdstanpy - INFO - Chain [1] done processing\n"
     ]
    },
    {
     "name": "stdout",
     "output_type": "stream",
     "text": [
      "100348\n"
     ]
    },
    {
     "name": "stderr",
     "output_type": "stream",
     "text": [
      "21:57:16 - cmdstanpy - INFO - Chain [1] start processing\n",
      "21:57:17 - cmdstanpy - INFO - Chain [1] done processing\n"
     ]
    },
    {
     "name": "stdout",
     "output_type": "stream",
     "text": [
      "100364\n"
     ]
    },
    {
     "name": "stderr",
     "output_type": "stream",
     "text": [
      "21:57:20 - cmdstanpy - INFO - Chain [1] start processing\n",
      "21:57:24 - cmdstanpy - INFO - Chain [1] done processing\n"
     ]
    },
    {
     "name": "stdout",
     "output_type": "stream",
     "text": [
      "104485\n"
     ]
    },
    {
     "name": "stderr",
     "output_type": "stream",
     "text": [
      "21:57:26 - cmdstanpy - INFO - Chain [1] start processing\n",
      "21:57:28 - cmdstanpy - INFO - Chain [1] done processing\n"
     ]
    },
    {
     "name": "stdout",
     "output_type": "stream",
     "text": [
      "100604\n"
     ]
    },
    {
     "name": "stderr",
     "output_type": "stream",
     "text": [
      "21:57:35 - cmdstanpy - INFO - Chain [1] start processing\n",
      "21:57:37 - cmdstanpy - INFO - Chain [1] done processing\n"
     ]
    },
    {
     "name": "stdout",
     "output_type": "stream",
     "text": [
      "100038\n"
     ]
    },
    {
     "name": "stderr",
     "output_type": "stream",
     "text": [
      "21:57:39 - cmdstanpy - INFO - Chain [1] start processing\n",
      "21:57:40 - cmdstanpy - INFO - Chain [1] done processing\n"
     ]
    },
    {
     "name": "stdout",
     "output_type": "stream",
     "text": [
      "113036\n"
     ]
    },
    {
     "name": "stderr",
     "output_type": "stream",
     "text": [
      "21:57:42 - cmdstanpy - INFO - Chain [1] start processing\n",
      "21:57:42 - cmdstanpy - INFO - Chain [1] done processing\n"
     ]
    },
    {
     "name": "stdout",
     "output_type": "stream",
     "text": [
      "109950\n"
     ]
    },
    {
     "name": "stderr",
     "output_type": "stream",
     "text": [
      "21:57:44 - cmdstanpy - INFO - Chain [1] start processing\n",
      "21:57:46 - cmdstanpy - INFO - Chain [1] done processing\n"
     ]
    },
    {
     "name": "stdout",
     "output_type": "stream",
     "text": [
      "113062\n"
     ]
    },
    {
     "name": "stderr",
     "output_type": "stream",
     "text": [
      "21:57:48 - cmdstanpy - INFO - Chain [1] start processing\n",
      "21:57:49 - cmdstanpy - INFO - Chain [1] done processing\n"
     ]
    },
    {
     "name": "stdout",
     "output_type": "stream",
     "text": [
      "103490\n"
     ]
    },
    {
     "name": "stderr",
     "output_type": "stream",
     "text": [
      "21:57:51 - cmdstanpy - INFO - Chain [1] start processing\n",
      "21:57:53 - cmdstanpy - INFO - Chain [1] done processing\n"
     ]
    },
    {
     "name": "stdout",
     "output_type": "stream",
     "text": [
      "100600\n"
     ]
    },
    {
     "name": "stderr",
     "output_type": "stream",
     "text": [
      "21:57:55 - cmdstanpy - INFO - Chain [1] start processing\n",
      "21:57:55 - cmdstanpy - INFO - Chain [1] done processing\n",
      "C:\\Users\\acer\\AppData\\Local\\Temp\\ipykernel_29788\\818110145.py:23: RuntimeWarning: invalid value encountered in scalar power\n",
      "  cagr = (end_nav / start_nav) ** (1/year) - 1\n"
     ]
    },
    {
     "name": "stdout",
     "output_type": "stream",
     "text": [
      "109941\n"
     ]
    },
    {
     "name": "stderr",
     "output_type": "stream",
     "text": [
      "21:57:56 - cmdstanpy - INFO - Chain [1] start processing\n",
      "21:57:58 - cmdstanpy - INFO - Chain [1] done processing\n"
     ]
    },
    {
     "name": "stdout",
     "output_type": "stream",
     "text": [
      "100354\n"
     ]
    },
    {
     "name": "stderr",
     "output_type": "stream",
     "text": [
      "21:58:00 - cmdstanpy - INFO - Chain [1] start processing\n",
      "21:58:00 - cmdstanpy - INFO - Chain [1] done processing\n"
     ]
    },
    {
     "name": "stdout",
     "output_type": "stream",
     "text": [
      "100290\n"
     ]
    },
    {
     "name": "stderr",
     "output_type": "stream",
     "text": [
      "21:58:02 - cmdstanpy - INFO - Chain [1] start processing\n",
      "21:58:03 - cmdstanpy - INFO - Chain [1] done processing\n"
     ]
    },
    {
     "name": "stdout",
     "output_type": "stream",
     "text": [
      "140463\n"
     ]
    },
    {
     "name": "stderr",
     "output_type": "stream",
     "text": [
      "21:58:05 - cmdstanpy - INFO - Chain [1] start processing\n",
      "21:58:06 - cmdstanpy - INFO - Chain [1] done processing\n"
     ]
    },
    {
     "name": "stdout",
     "output_type": "stream",
     "text": [
      "100366\n",
      "100836\n"
     ]
    },
    {
     "name": "stderr",
     "output_type": "stream",
     "text": [
      "21:58:09 - cmdstanpy - INFO - Chain [1] start processing\n",
      "21:58:10 - cmdstanpy - INFO - Chain [1] done processing\n"
     ]
    },
    {
     "name": "stdout",
     "output_type": "stream",
     "text": [
      "100414\n"
     ]
    },
    {
     "name": "stderr",
     "output_type": "stream",
     "text": [
      "21:58:12 - cmdstanpy - INFO - Chain [1] start processing\n",
      "21:58:13 - cmdstanpy - INFO - Chain [1] done processing\n"
     ]
    },
    {
     "name": "stdout",
     "output_type": "stream",
     "text": [
      "100998\n"
     ]
    },
    {
     "name": "stderr",
     "output_type": "stream",
     "text": [
      "21:58:15 - cmdstanpy - INFO - Chain [1] start processing\n",
      "21:58:17 - cmdstanpy - INFO - Chain [1] done processing\n"
     ]
    },
    {
     "name": "stdout",
     "output_type": "stream",
     "text": [
      "115991\n"
     ]
    },
    {
     "name": "stderr",
     "output_type": "stream",
     "text": [
      "21:58:19 - cmdstanpy - INFO - Chain [1] start processing\n",
      "21:58:19 - cmdstanpy - INFO - Chain [1] done processing\n"
     ]
    },
    {
     "name": "stdout",
     "output_type": "stream",
     "text": [
      "100289\n"
     ]
    },
    {
     "name": "stderr",
     "output_type": "stream",
     "text": [
      "21:58:21 - cmdstanpy - INFO - Chain [1] start processing\n",
      "21:58:21 - cmdstanpy - INFO - Chain [1] done processing\n"
     ]
    },
    {
     "name": "stdout",
     "output_type": "stream",
     "text": [
      "100832\n"
     ]
    },
    {
     "name": "stderr",
     "output_type": "stream",
     "text": [
      "21:58:23 - cmdstanpy - INFO - Chain [1] start processing\n",
      "21:58:24 - cmdstanpy - INFO - Chain [1] done processing\n"
     ]
    },
    {
     "name": "stdout",
     "output_type": "stream",
     "text": [
      "124305\n"
     ]
    },
    {
     "name": "stderr",
     "output_type": "stream",
     "text": [
      "21:58:26 - cmdstanpy - INFO - Chain [1] start processing\n",
      "21:58:28 - cmdstanpy - INFO - Chain [1] done processing\n"
     ]
    },
    {
     "name": "stdout",
     "output_type": "stream",
     "text": [
      "102172\n"
     ]
    },
    {
     "name": "stderr",
     "output_type": "stream",
     "text": [
      "21:58:31 - cmdstanpy - INFO - Chain [1] start processing\n",
      "21:58:33 - cmdstanpy - INFO - Chain [1] done processing\n"
     ]
    },
    {
     "name": "stdout",
     "output_type": "stream",
     "text": [
      "100172\n"
     ]
    },
    {
     "name": "stderr",
     "output_type": "stream",
     "text": [
      "21:58:35 - cmdstanpy - INFO - Chain [1] start processing\n",
      "21:58:37 - cmdstanpy - INFO - Chain [1] done processing\n"
     ]
    },
    {
     "name": "stdout",
     "output_type": "stream",
     "text": [
      "100173\n"
     ]
    },
    {
     "name": "stderr",
     "output_type": "stream",
     "text": [
      "21:58:39 - cmdstanpy - INFO - Chain [1] start processing\n",
      "21:58:39 - cmdstanpy - INFO - Chain [1] done processing\n"
     ]
    },
    {
     "name": "stdout",
     "output_type": "stream",
     "text": [
      "112679\n"
     ]
    },
    {
     "name": "stderr",
     "output_type": "stream",
     "text": [
      "21:58:40 - cmdstanpy - INFO - Chain [1] start processing\n",
      "21:58:40 - cmdstanpy - INFO - Chain [1] done processing\n",
      "C:\\Users\\acer\\AppData\\Local\\Temp\\ipykernel_29788\\818110145.py:23: RuntimeWarning: invalid value encountered in scalar power\n",
      "  cagr = (end_nav / start_nav) ** (1/year) - 1\n"
     ]
    },
    {
     "name": "stdout",
     "output_type": "stream",
     "text": [
      "100590\n"
     ]
    },
    {
     "name": "stderr",
     "output_type": "stream",
     "text": [
      "21:58:41 - cmdstanpy - INFO - Chain [1] start processing\n",
      "21:58:42 - cmdstanpy - INFO - Chain [1] done processing\n"
     ]
    },
    {
     "name": "stdout",
     "output_type": "stream",
     "text": [
      "109946\n"
     ]
    },
    {
     "name": "stderr",
     "output_type": "stream",
     "text": [
      "21:58:43 - cmdstanpy - INFO - Chain [1] start processing\n",
      "21:58:43 - cmdstanpy - INFO - Chain [1] done processing\n"
     ]
    },
    {
     "name": "stdout",
     "output_type": "stream",
     "text": [
      "100481\n"
     ]
    },
    {
     "name": "stderr",
     "output_type": "stream",
     "text": [
      "21:58:44 - cmdstanpy - INFO - Chain [1] start processing\n",
      "21:58:45 - cmdstanpy - INFO - Chain [1] done processing\n"
     ]
    },
    {
     "name": "stdout",
     "output_type": "stream",
     "text": [
      "100489\n"
     ]
    },
    {
     "name": "stderr",
     "output_type": "stream",
     "text": [
      "21:58:46 - cmdstanpy - INFO - Chain [1] start processing\n",
      "21:58:48 - cmdstanpy - INFO - Chain [1] done processing\n"
     ]
    },
    {
     "name": "stdout",
     "output_type": "stream",
     "text": [
      "100174\n"
     ]
    },
    {
     "name": "stderr",
     "output_type": "stream",
     "text": [
      "21:58:50 - cmdstanpy - INFO - Chain [1] start processing\n",
      "21:58:52 - cmdstanpy - INFO - Chain [1] done processing\n"
     ]
    },
    {
     "name": "stdout",
     "output_type": "stream",
     "text": [
      "101066\n"
     ]
    },
    {
     "name": "stderr",
     "output_type": "stream",
     "text": [
      "21:58:55 - cmdstanpy - INFO - Chain [1] start processing\n",
      "21:58:57 - cmdstanpy - INFO - Chain [1] done processing\n"
     ]
    },
    {
     "name": "stdout",
     "output_type": "stream",
     "text": [
      "100643\n"
     ]
    },
    {
     "name": "stderr",
     "output_type": "stream",
     "text": [
      "21:59:00 - cmdstanpy - INFO - Chain [1] start processing\n",
      "21:59:01 - cmdstanpy - INFO - Chain [1] done processing\n"
     ]
    },
    {
     "name": "stdout",
     "output_type": "stream",
     "text": [
      "109939\n"
     ]
    },
    {
     "name": "stderr",
     "output_type": "stream",
     "text": [
      "21:59:06 - cmdstanpy - INFO - Chain [1] start processing\n",
      "21:59:08 - cmdstanpy - INFO - Chain [1] done processing\n"
     ]
    },
    {
     "name": "stdout",
     "output_type": "stream",
     "text": [
      "100367\n"
     ]
    },
    {
     "name": "stderr",
     "output_type": "stream",
     "text": [
      "21:59:10 - cmdstanpy - INFO - Chain [1] start processing\n",
      "21:59:13 - cmdstanpy - INFO - Chain [1] done processing\n"
     ]
    },
    {
     "name": "stdout",
     "output_type": "stream",
     "text": [
      "100171\n"
     ]
    },
    {
     "name": "stderr",
     "output_type": "stream",
     "text": [
      "21:59:15 - cmdstanpy - INFO - Chain [1] start processing\n",
      "21:59:16 - cmdstanpy - INFO - Chain [1] done processing\n"
     ]
    },
    {
     "name": "stdout",
     "output_type": "stream",
     "text": [
      "100176\n"
     ]
    },
    {
     "name": "stderr",
     "output_type": "stream",
     "text": [
      "21:59:18 - cmdstanpy - INFO - Chain [1] start processing\n",
      "21:59:19 - cmdstanpy - INFO - Chain [1] done processing\n"
     ]
    },
    {
     "name": "stdout",
     "output_type": "stream",
     "text": [
      "100631\n"
     ]
    },
    {
     "name": "stderr",
     "output_type": "stream",
     "text": [
      "21:59:21 - cmdstanpy - INFO - Chain [1] start processing\n",
      "21:59:23 - cmdstanpy - INFO - Chain [1] done processing\n"
     ]
    },
    {
     "name": "stdout",
     "output_type": "stream",
     "text": [
      "101362\n",
      "112682\n"
     ]
    },
    {
     "name": "stderr",
     "output_type": "stream",
     "text": [
      "21:59:27 - cmdstanpy - INFO - Chain [1] start processing\n",
      "21:59:28 - cmdstanpy - INFO - Chain [1] done processing\n"
     ]
    },
    {
     "name": "stdout",
     "output_type": "stream",
     "text": [
      "101363\n"
     ]
    },
    {
     "name": "stderr",
     "output_type": "stream",
     "text": [
      "21:59:31 - cmdstanpy - INFO - Chain [1] start processing\n",
      "21:59:32 - cmdstanpy - INFO - Chain [1] done processing\n"
     ]
    },
    {
     "name": "stdout",
     "output_type": "stream",
     "text": [
      "100088\n",
      "100870\n"
     ]
    },
    {
     "name": "stderr",
     "output_type": "stream",
     "text": [
      "21:59:35 - cmdstanpy - INFO - Chain [1] start processing\n",
      "21:59:35 - cmdstanpy - INFO - Chain [1] done processing\n",
      "C:\\Users\\acer\\AppData\\Local\\Temp\\ipykernel_29788\\818110145.py:23: RuntimeWarning: invalid value encountered in scalar power\n",
      "  cagr = (end_nav / start_nav) ** (1/year) - 1\n"
     ]
    },
    {
     "name": "stdout",
     "output_type": "stream",
     "text": [
      "101702\n"
     ]
    },
    {
     "name": "stderr",
     "output_type": "stream",
     "text": [
      "21:59:37 - cmdstanpy - INFO - Chain [1] start processing\n",
      "21:59:37 - cmdstanpy - INFO - Chain [1] done processing\n"
     ]
    },
    {
     "name": "stdout",
     "output_type": "stream",
     "text": [
      "100362\n"
     ]
    },
    {
     "name": "stderr",
     "output_type": "stream",
     "text": [
      "21:59:39 - cmdstanpy - INFO - Chain [1] start processing\n",
      "21:59:39 - cmdstanpy - INFO - Chain [1] done processing\n"
     ]
    },
    {
     "name": "stdout",
     "output_type": "stream",
     "text": [
      "107657\n"
     ]
    },
    {
     "name": "stderr",
     "output_type": "stream",
     "text": [
      "21:59:40 - cmdstanpy - INFO - Chain [1] start processing\n",
      "21:59:42 - cmdstanpy - INFO - Chain [1] done processing\n"
     ]
    },
    {
     "name": "stdout",
     "output_type": "stream",
     "text": [
      "102751\n"
     ]
    },
    {
     "name": "stderr",
     "output_type": "stream",
     "text": [
      "21:59:44 - cmdstanpy - INFO - Chain [1] start processing\n",
      "21:59:45 - cmdstanpy - INFO - Chain [1] done processing\n"
     ]
    },
    {
     "name": "stdout",
     "output_type": "stream",
     "text": [
      "100611\n"
     ]
    },
    {
     "name": "stderr",
     "output_type": "stream",
     "text": [
      "21:59:46 - cmdstanpy - INFO - Chain [1] start processing\n",
      "21:59:49 - cmdstanpy - INFO - Chain [1] done processing\n"
     ]
    },
    {
     "name": "stdout",
     "output_type": "stream",
     "text": [
      "100037\n"
     ]
    },
    {
     "name": "stderr",
     "output_type": "stream",
     "text": [
      "21:59:51 - cmdstanpy - INFO - Chain [1] start processing\n",
      "21:59:52 - cmdstanpy - INFO - Chain [1] done processing\n"
     ]
    },
    {
     "name": "stdout",
     "output_type": "stream",
     "text": [
      "107648\n"
     ]
    },
    {
     "name": "stderr",
     "output_type": "stream",
     "text": [
      "21:59:54 - cmdstanpy - INFO - Chain [1] start processing\n",
      "21:59:56 - cmdstanpy - INFO - Chain [1] done processing\n"
     ]
    },
    {
     "name": "stdout",
     "output_type": "stream",
     "text": [
      "101304\n"
     ]
    },
    {
     "name": "stderr",
     "output_type": "stream",
     "text": [
      "21:59:58 - cmdstanpy - INFO - Chain [1] start processing\n",
      "21:59:58 - cmdstanpy - INFO - Chain [1] done processing\n"
     ]
    },
    {
     "name": "stdout",
     "output_type": "stream",
     "text": [
      "109936\n"
     ]
    },
    {
     "name": "stderr",
     "output_type": "stream",
     "text": [
      "22:00:00 - cmdstanpy - INFO - Chain [1] start processing\n",
      "22:00:03 - cmdstanpy - INFO - Chain [1] done processing\n"
     ]
    },
    {
     "name": "stdout",
     "output_type": "stream",
     "text": [
      "100876\n"
     ]
    },
    {
     "name": "stderr",
     "output_type": "stream",
     "text": [
      "22:00:06 - cmdstanpy - INFO - Chain [1] start processing\n",
      "22:00:08 - cmdstanpy - INFO - Chain [1] done processing\n"
     ]
    },
    {
     "name": "stdout",
     "output_type": "stream",
     "text": [
      "103491\n"
     ]
    },
    {
     "name": "stderr",
     "output_type": "stream",
     "text": [
      "22:00:10 - cmdstanpy - INFO - Chain [1] start processing\n",
      "22:00:11 - cmdstanpy - INFO - Chain [1] done processing\n",
      "C:\\Users\\acer\\AppData\\Local\\Temp\\ipykernel_29788\\818110145.py:23: RuntimeWarning: invalid value encountered in scalar power\n",
      "  cagr = (end_nav / start_nav) ** (1/year) - 1\n"
     ]
    },
    {
     "name": "stdout",
     "output_type": "stream",
     "text": [
      "100612\n"
     ]
    },
    {
     "name": "stderr",
     "output_type": "stream",
     "text": [
      "22:00:13 - cmdstanpy - INFO - Chain [1] start processing\n",
      "22:00:13 - cmdstanpy - INFO - Chain [1] done processing\n"
     ]
    },
    {
     "name": "stdout",
     "output_type": "stream",
     "text": [
      "115995\n"
     ]
    },
    {
     "name": "stderr",
     "output_type": "stream",
     "text": [
      "22:00:15 - cmdstanpy - INFO - Chain [1] start processing\n",
      "22:00:16 - cmdstanpy - INFO - Chain [1] done processing\n"
     ]
    },
    {
     "name": "stdout",
     "output_type": "stream",
     "text": [
      "116424\n"
     ]
    },
    {
     "name": "stderr",
     "output_type": "stream",
     "text": [
      "22:00:18 - cmdstanpy - INFO - Chain [1] start processing\n",
      "22:00:19 - cmdstanpy - INFO - Chain [1] done processing\n"
     ]
    },
    {
     "name": "stdout",
     "output_type": "stream",
     "text": [
      "107646\n"
     ]
    },
    {
     "name": "stderr",
     "output_type": "stream",
     "text": [
      "22:00:20 - cmdstanpy - INFO - Chain [1] start processing\n",
      "22:00:21 - cmdstanpy - INFO - Chain [1] done processing\n"
     ]
    },
    {
     "name": "stdout",
     "output_type": "stream",
     "text": [
      "135601\n"
     ]
    },
    {
     "name": "stderr",
     "output_type": "stream",
     "text": [
      "22:00:23 - cmdstanpy - INFO - Chain [1] start processing\n",
      "22:00:24 - cmdstanpy - INFO - Chain [1] done processing\n"
     ]
    },
    {
     "name": "stdout",
     "output_type": "stream",
     "text": [
      "100062\n"
     ]
    },
    {
     "name": "stderr",
     "output_type": "stream",
     "text": [
      "22:00:26 - cmdstanpy - INFO - Chain [1] start processing\n",
      "22:00:27 - cmdstanpy - INFO - Chain [1] done processing\n"
     ]
    },
    {
     "name": "stdout",
     "output_type": "stream",
     "text": [
      "119333\n",
      "100283\n"
     ]
    },
    {
     "name": "stderr",
     "output_type": "stream",
     "text": [
      "22:00:29 - cmdstanpy - INFO - Chain [1] start processing\n",
      "22:00:31 - cmdstanpy - INFO - Chain [1] done processing\n"
     ]
    },
    {
     "name": "stdout",
     "output_type": "stream",
     "text": [
      "100281\n"
     ]
    },
    {
     "name": "stderr",
     "output_type": "stream",
     "text": [
      "22:00:33 - cmdstanpy - INFO - Chain [1] start processing\n",
      "22:00:34 - cmdstanpy - INFO - Chain [1] done processing\n"
     ]
    },
    {
     "name": "stdout",
     "output_type": "stream",
     "text": [
      "139539\n"
     ]
    },
    {
     "name": "stderr",
     "output_type": "stream",
     "text": [
      "22:00:35 - cmdstanpy - INFO - Chain [1] start processing\n",
      "22:00:35 - cmdstanpy - INFO - Chain [1] done processing\n",
      "C:\\Users\\acer\\AppData\\Local\\Temp\\ipykernel_29788\\818110145.py:23: RuntimeWarning: invalid value encountered in scalar power\n",
      "  cagr = (end_nav / start_nav) ** (1/year) - 1\n"
     ]
    },
    {
     "name": "stdout",
     "output_type": "stream",
     "text": [
      "100589\n",
      "101697\n"
     ]
    },
    {
     "name": "stderr",
     "output_type": "stream",
     "text": [
      "22:00:37 - cmdstanpy - INFO - Chain [1] start processing\n",
      "22:00:37 - cmdstanpy - INFO - Chain [1] done processing\n"
     ]
    },
    {
     "name": "stdout",
     "output_type": "stream",
     "text": [
      "104490\n"
     ]
    },
    {
     "name": "stderr",
     "output_type": "stream",
     "text": [
      "22:00:39 - cmdstanpy - INFO - Chain [1] start processing\n",
      "22:00:41 - cmdstanpy - INFO - Chain [1] done processing\n"
     ]
    },
    {
     "name": "stdout",
     "output_type": "stream",
     "text": [
      "100222\n"
     ]
    },
    {
     "name": "stderr",
     "output_type": "stream",
     "text": [
      "22:00:43 - cmdstanpy - INFO - Chain [1] start processing\n",
      "22:00:43 - cmdstanpy - INFO - Chain [1] done processing\n"
     ]
    },
    {
     "name": "stdout",
     "output_type": "stream",
     "text": [
      "101589\n"
     ]
    },
    {
     "name": "stderr",
     "output_type": "stream",
     "text": [
      "22:00:46 - cmdstanpy - INFO - Chain [1] start processing\n",
      "22:00:47 - cmdstanpy - INFO - Chain [1] done processing\n"
     ]
    },
    {
     "name": "stdout",
     "output_type": "stream",
     "text": [
      "101636\n"
     ]
    },
    {
     "name": "stderr",
     "output_type": "stream",
     "text": [
      "22:00:48 - cmdstanpy - INFO - Chain [1] start processing\n",
      "22:00:48 - cmdstanpy - INFO - Chain [1] done processing\n"
     ]
    },
    {
     "name": "stdout",
     "output_type": "stream",
     "text": [
      "100482\n",
      "100871\n"
     ]
    },
    {
     "name": "stderr",
     "output_type": "stream",
     "text": [
      "22:00:50 - cmdstanpy - INFO - Chain [1] start processing\n",
      "22:00:52 - cmdstanpy - INFO - Chain [1] done processing\n"
     ]
    },
    {
     "name": "stdout",
     "output_type": "stream",
     "text": [
      "135600\n"
     ]
    },
    {
     "name": "stderr",
     "output_type": "stream",
     "text": [
      "22:00:53 - cmdstanpy - INFO - Chain [1] start processing\n",
      "22:00:55 - cmdstanpy - INFO - Chain [1] done processing\n"
     ]
    },
    {
     "name": "stdout",
     "output_type": "stream",
     "text": [
      "101932\n"
     ]
    },
    {
     "name": "stderr",
     "output_type": "stream",
     "text": [
      "22:00:58 - cmdstanpy - INFO - Chain [1] start processing\n",
      "22:00:59 - cmdstanpy - INFO - Chain [1] done processing\n"
     ]
    },
    {
     "name": "stdout",
     "output_type": "stream",
     "text": [
      "100784\n"
     ]
    },
    {
     "name": "stderr",
     "output_type": "stream",
     "text": [
      "22:01:01 - cmdstanpy - INFO - Chain [1] start processing\n",
      "22:01:02 - cmdstanpy - INFO - Chain [1] done processing\n"
     ]
    },
    {
     "name": "stdout",
     "output_type": "stream",
     "text": [
      "100491\n",
      "100279\n"
     ]
    },
    {
     "name": "stderr",
     "output_type": "stream",
     "text": [
      "22:01:07 - cmdstanpy - INFO - Chain [1] start processing\n",
      "22:01:09 - cmdstanpy - INFO - Chain [1] done processing\n"
     ]
    },
    {
     "name": "stdout",
     "output_type": "stream",
     "text": [
      "101113\n"
     ]
    },
    {
     "name": "stderr",
     "output_type": "stream",
     "text": [
      "22:01:11 - cmdstanpy - INFO - Chain [1] start processing\n",
      "22:01:13 - cmdstanpy - INFO - Chain [1] done processing\n"
     ]
    },
    {
     "name": "stdout",
     "output_type": "stream",
     "text": [
      "101114\n"
     ]
    },
    {
     "name": "stderr",
     "output_type": "stream",
     "text": [
      "22:01:14 - cmdstanpy - INFO - Chain [1] start processing\n",
      "22:01:14 - cmdstanpy - INFO - Chain [1] done processing\n",
      "C:\\Users\\acer\\AppData\\Local\\Temp\\ipykernel_29788\\818110145.py:23: RuntimeWarning: invalid value encountered in scalar power\n",
      "  cagr = (end_nav / start_nav) ** (1/year) - 1\n"
     ]
    },
    {
     "name": "stdout",
     "output_type": "stream",
     "text": [
      "100801\n"
     ]
    },
    {
     "name": "stderr",
     "output_type": "stream",
     "text": [
      "22:01:16 - cmdstanpy - INFO - Chain [1] start processing\n",
      "22:01:19 - cmdstanpy - INFO - Chain [1] done processing\n"
     ]
    },
    {
     "name": "stdout",
     "output_type": "stream",
     "text": [
      "100119\n"
     ]
    },
    {
     "name": "stderr",
     "output_type": "stream",
     "text": [
      "22:01:22 - cmdstanpy - INFO - Chain [1] start processing\n",
      "22:01:24 - cmdstanpy - INFO - Chain [1] done processing\n"
     ]
    },
    {
     "name": "stdout",
     "output_type": "stream",
     "text": [
      "100997\n"
     ]
    },
    {
     "name": "stderr",
     "output_type": "stream",
     "text": [
      "22:01:27 - cmdstanpy - INFO - Chain [1] start processing\n",
      "22:01:31 - cmdstanpy - INFO - Chain [1] done processing\n"
     ]
    },
    {
     "name": "stdout",
     "output_type": "stream",
     "text": [
      "100286\n"
     ]
    },
    {
     "name": "stderr",
     "output_type": "stream",
     "text": [
      "22:01:33 - cmdstanpy - INFO - Chain [1] start processing\n",
      "22:01:34 - cmdstanpy - INFO - Chain [1] done processing\n"
     ]
    },
    {
     "name": "stdout",
     "output_type": "stream",
     "text": [
      "100831\n"
     ]
    },
    {
     "name": "stderr",
     "output_type": "stream",
     "text": [
      "22:01:36 - cmdstanpy - INFO - Chain [1] start processing\n",
      "22:01:38 - cmdstanpy - INFO - Chain [1] done processing\n"
     ]
    },
    {
     "name": "stdout",
     "output_type": "stream",
     "text": [
      "118484\n"
     ]
    },
    {
     "name": "stderr",
     "output_type": "stream",
     "text": [
      "22:01:41 - cmdstanpy - INFO - Chain [1] start processing\n",
      "22:01:42 - cmdstanpy - INFO - Chain [1] done processing\n"
     ]
    },
    {
     "name": "stdout",
     "output_type": "stream",
     "text": [
      "125306\n"
     ]
    },
    {
     "name": "stderr",
     "output_type": "stream",
     "text": [
      "22:01:43 - cmdstanpy - INFO - Chain [1] start processing\n",
      "22:01:43 - cmdstanpy - INFO - Chain [1] done processing\n"
     ]
    },
    {
     "name": "stdout",
     "output_type": "stream",
     "text": [
      "100358\n"
     ]
    },
    {
     "name": "stderr",
     "output_type": "stream",
     "text": [
      "22:01:45 - cmdstanpy - INFO - Chain [1] start processing\n",
      "22:01:47 - cmdstanpy - INFO - Chain [1] done processing\n"
     ]
    },
    {
     "name": "stdout",
     "output_type": "stream",
     "text": [
      "100298\n"
     ]
    },
    {
     "name": "stderr",
     "output_type": "stream",
     "text": [
      "22:01:50 - cmdstanpy - INFO - Chain [1] start processing\n",
      "22:01:52 - cmdstanpy - INFO - Chain [1] done processing\n"
     ]
    },
    {
     "name": "stdout",
     "output_type": "stream",
     "text": [
      "100299\n"
     ]
    },
    {
     "name": "stderr",
     "output_type": "stream",
     "text": [
      "22:01:55 - cmdstanpy - INFO - Chain [1] start processing\n",
      "22:01:56 - cmdstanpy - INFO - Chain [1] done processing\n"
     ]
    },
    {
     "name": "stdout",
     "output_type": "stream",
     "text": [
      "101922\n"
     ]
    },
    {
     "name": "stderr",
     "output_type": "stream",
     "text": [
      "22:01:59 - cmdstanpy - INFO - Chain [1] start processing\n",
      "22:02:02 - cmdstanpy - INFO - Chain [1] done processing\n"
     ]
    },
    {
     "name": "stdout",
     "output_type": "stream",
     "text": [
      "100085\n"
     ]
    },
    {
     "name": "stderr",
     "output_type": "stream",
     "text": [
      "22:02:04 - cmdstanpy - INFO - Chain [1] start processing\n",
      "22:02:07 - cmdstanpy - INFO - Chain [1] done processing\n"
     ]
    },
    {
     "name": "stdout",
     "output_type": "stream",
     "text": [
      "101303\n"
     ]
    },
    {
     "name": "stderr",
     "output_type": "stream",
     "text": [
      "22:02:09 - cmdstanpy - INFO - Chain [1] start processing\n",
      "22:02:11 - cmdstanpy - INFO - Chain [1] done processing\n"
     ]
    },
    {
     "name": "stdout",
     "output_type": "stream",
     "text": [
      "102251\n"
     ]
    },
    {
     "name": "stderr",
     "output_type": "stream",
     "text": [
      "22:02:14 - cmdstanpy - INFO - Chain [1] start processing\n",
      "22:02:15 - cmdstanpy - INFO - Chain [1] done processing\n"
     ]
    },
    {
     "name": "stdout",
     "output_type": "stream",
     "text": [
      "101231\n"
     ]
    },
    {
     "name": "stderr",
     "output_type": "stream",
     "text": [
      "22:02:17 - cmdstanpy - INFO - Chain [1] start processing\n",
      "22:02:20 - cmdstanpy - INFO - Chain [1] done processing\n"
     ]
    },
    {
     "name": "stdout",
     "output_type": "stream",
     "text": [
      "100280\n"
     ]
    },
    {
     "name": "stderr",
     "output_type": "stream",
     "text": [
      "22:02:22 - cmdstanpy - INFO - Chain [1] start processing\n",
      "22:02:23 - cmdstanpy - INFO - Chain [1] done processing\n"
     ]
    },
    {
     "name": "stdout",
     "output_type": "stream",
     "text": [
      "133836\n"
     ]
    },
    {
     "name": "stderr",
     "output_type": "stream",
     "text": [
      "22:02:25 - cmdstanpy - INFO - Chain [1] start processing\n",
      "22:02:28 - cmdstanpy - INFO - Chain [1] done processing\n"
     ]
    },
    {
     "name": "stdout",
     "output_type": "stream",
     "text": [
      "101935\n"
     ]
    },
    {
     "name": "stderr",
     "output_type": "stream",
     "text": [
      "22:03:02 - cmdstanpy - INFO - Chain [1] start processing\n",
      "22:03:04 - cmdstanpy - INFO - Chain [1] done processing\n"
     ]
    },
    {
     "name": "stdout",
     "output_type": "stream",
     "text": [
      "100067\n"
     ]
    },
    {
     "name": "stderr",
     "output_type": "stream",
     "text": [
      "22:03:06 - cmdstanpy - INFO - Chain [1] start processing\n",
      "22:03:07 - cmdstanpy - INFO - Chain [1] done processing\n"
     ]
    },
    {
     "name": "stdout",
     "output_type": "stream",
     "text": [
      "112323\n"
     ]
    },
    {
     "name": "stderr",
     "output_type": "stream",
     "text": [
      "22:03:09 - cmdstanpy - INFO - Chain [1] start processing\n",
      "22:03:09 - cmdstanpy - INFO - Chain [1] done processing\n"
     ]
    },
    {
     "name": "stdout",
     "output_type": "stream",
     "text": [
      "112683\n"
     ]
    },
    {
     "name": "stderr",
     "output_type": "stream",
     "text": [
      "22:03:10 - cmdstanpy - INFO - Chain [1] start processing\n",
      "22:03:12 - cmdstanpy - INFO - Chain [1] done processing\n"
     ]
    },
    {
     "name": "stdout",
     "output_type": "stream",
     "text": [
      "133520\n"
     ]
    },
    {
     "name": "stderr",
     "output_type": "stream",
     "text": [
      "22:03:14 - cmdstanpy - INFO - Chain [1] start processing\n",
      "22:03:17 - cmdstanpy - INFO - Chain [1] done processing\n"
     ]
    },
    {
     "name": "stdout",
     "output_type": "stream",
     "text": [
      "100596\n"
     ]
    },
    {
     "name": "stderr",
     "output_type": "stream",
     "text": [
      "22:03:19 - cmdstanpy - INFO - Chain [1] start processing\n",
      "22:03:22 - cmdstanpy - INFO - Chain [1] done processing\n"
     ]
    },
    {
     "name": "stdout",
     "output_type": "stream",
     "text": [
      "100079\n"
     ]
    },
    {
     "name": "stderr",
     "output_type": "stream",
     "text": [
      "22:03:25 - cmdstanpy - INFO - Chain [1] start processing\n",
      "22:03:26 - cmdstanpy - INFO - Chain [1] done processing\n"
     ]
    },
    {
     "name": "stdout",
     "output_type": "stream",
     "text": [
      "100121\n"
     ]
    },
    {
     "name": "stderr",
     "output_type": "stream",
     "text": [
      "22:03:28 - cmdstanpy - INFO - Chain [1] start processing\n",
      "22:03:28 - cmdstanpy - INFO - Chain [1] done processing\n"
     ]
    },
    {
     "name": "stdout",
     "output_type": "stream",
     "text": [
      "100361\n"
     ]
    },
    {
     "name": "stderr",
     "output_type": "stream",
     "text": [
      "22:03:30 - cmdstanpy - INFO - Chain [1] start processing\n",
      "22:03:32 - cmdstanpy - INFO - Chain [1] done processing\n"
     ]
    },
    {
     "name": "stdout",
     "output_type": "stream",
     "text": [
      "101349\n"
     ]
    },
    {
     "name": "stderr",
     "output_type": "stream",
     "text": [
      "22:03:35 - cmdstanpy - INFO - Chain [1] start processing\n",
      "22:03:38 - cmdstanpy - INFO - Chain [1] done processing\n"
     ]
    },
    {
     "name": "stdout",
     "output_type": "stream",
     "text": [
      "101618\n"
     ]
    },
    {
     "name": "stderr",
     "output_type": "stream",
     "text": [
      "22:03:41 - cmdstanpy - INFO - Chain [1] start processing\n",
      "22:03:42 - cmdstanpy - INFO - Chain [1] done processing\n"
     ]
    },
    {
     "name": "stdout",
     "output_type": "stream",
     "text": [
      "112648\n"
     ]
    },
    {
     "name": "stderr",
     "output_type": "stream",
     "text": [
      "22:03:44 - cmdstanpy - INFO - Chain [1] start processing\n",
      "22:03:46 - cmdstanpy - INFO - Chain [1] done processing\n"
     ]
    },
    {
     "name": "stdout",
     "output_type": "stream",
     "text": [
      "133837\n"
     ]
    },
    {
     "name": "stderr",
     "output_type": "stream",
     "text": [
      "22:03:49 - cmdstanpy - INFO - Chain [1] start processing\n",
      "22:03:52 - cmdstanpy - INFO - Chain [1] done processing\n"
     ]
    },
    {
     "name": "stdout",
     "output_type": "stream",
     "text": [
      "101317\n"
     ]
    },
    {
     "name": "stderr",
     "output_type": "stream",
     "text": [
      "22:03:56 - cmdstanpy - INFO - Chain [1] start processing\n",
      "22:03:59 - cmdstanpy - INFO - Chain [1] done processing\n"
     ]
    },
    {
     "name": "stdout",
     "output_type": "stream",
     "text": [
      "100080\n"
     ]
    },
    {
     "name": "stderr",
     "output_type": "stream",
     "text": [
      "22:04:01 - cmdstanpy - INFO - Chain [1] start processing\n",
      "22:04:04 - cmdstanpy - INFO - Chain [1] done processing\n"
     ]
    },
    {
     "name": "stdout",
     "output_type": "stream",
     "text": [
      "100352\n"
     ]
    },
    {
     "name": "stderr",
     "output_type": "stream",
     "text": [
      "22:04:07 - cmdstanpy - INFO - Chain [1] start processing\n",
      "22:04:08 - cmdstanpy - INFO - Chain [1] done processing\n"
     ]
    },
    {
     "name": "stdout",
     "output_type": "stream",
     "text": [
      "115994\n"
     ]
    },
    {
     "name": "stderr",
     "output_type": "stream",
     "text": [
      "22:04:10 - cmdstanpy - INFO - Chain [1] start processing\n",
      "22:04:11 - cmdstanpy - INFO - Chain [1] done processing\n"
     ]
    },
    {
     "name": "stdout",
     "output_type": "stream",
     "text": [
      "104483\n"
     ]
    },
    {
     "name": "stderr",
     "output_type": "stream",
     "text": [
      "22:04:13 - cmdstanpy - INFO - Chain [1] start processing\n",
      "22:04:14 - cmdstanpy - INFO - Chain [1] done processing\n"
     ]
    },
    {
     "name": "stdout",
     "output_type": "stream",
     "text": [
      "100865\n"
     ]
    },
    {
     "name": "stderr",
     "output_type": "stream",
     "text": [
      "22:04:17 - cmdstanpy - INFO - Chain [1] start processing\n",
      "22:04:21 - cmdstanpy - INFO - Chain [1] done processing\n"
     ]
    },
    {
     "name": "stdout",
     "output_type": "stream",
     "text": [
      "103050\n"
     ]
    },
    {
     "name": "stderr",
     "output_type": "stream",
     "text": [
      "22:04:24 - cmdstanpy - INFO - Chain [1] start processing\n",
      "22:04:29 - cmdstanpy - INFO - Chain [1] done processing\n"
     ]
    },
    {
     "name": "stdout",
     "output_type": "stream",
     "text": [
      "100042\n",
      "142246\n"
     ]
    },
    {
     "name": "stderr",
     "output_type": "stream",
     "text": [
      "22:04:32 - cmdstanpy - INFO - Chain [1] start processing\n",
      "22:04:32 - cmdstanpy - INFO - Chain [1] done processing\n"
     ]
    },
    {
     "name": "stdout",
     "output_type": "stream",
     "text": [
      "109935\n"
     ]
    },
    {
     "name": "stderr",
     "output_type": "stream",
     "text": [
      "22:04:34 - cmdstanpy - INFO - Chain [1] start processing\n",
      "22:04:34 - cmdstanpy - INFO - Chain [1] done processing\n"
     ]
    },
    {
     "name": "stdout",
     "output_type": "stream",
     "text": [
      "100261\n"
     ]
    },
    {
     "name": "stderr",
     "output_type": "stream",
     "text": [
      "22:04:37 - cmdstanpy - INFO - Chain [1] start processing\n",
      "22:04:39 - cmdstanpy - INFO - Chain [1] done processing\n"
     ]
    },
    {
     "name": "stdout",
     "output_type": "stream",
     "text": [
      "100835\n"
     ]
    },
    {
     "name": "stderr",
     "output_type": "stream",
     "text": [
      "22:04:42 - cmdstanpy - INFO - Chain [1] start processing\n",
      "22:04:43 - cmdstanpy - INFO - Chain [1] done processing\n"
     ]
    },
    {
     "name": "stdout",
     "output_type": "stream",
     "text": [
      "139537\n"
     ]
    },
    {
     "name": "stderr",
     "output_type": "stream",
     "text": [
      "22:04:45 - cmdstanpy - INFO - Chain [1] start processing\n",
      "22:04:46 - cmdstanpy - INFO - Chain [1] done processing\n"
     ]
    },
    {
     "name": "stdout",
     "output_type": "stream",
     "text": [
      "107649\n"
     ]
    },
    {
     "name": "stderr",
     "output_type": "stream",
     "text": [
      "22:04:48 - cmdstanpy - INFO - Chain [1] start processing\n",
      "22:04:50 - cmdstanpy - INFO - Chain [1] done processing\n"
     ]
    },
    {
     "name": "stdout",
     "output_type": "stream",
     "text": [
      "102433\n"
     ]
    },
    {
     "name": "stderr",
     "output_type": "stream",
     "text": [
      "22:04:52 - cmdstanpy - INFO - Chain [1] start processing\n",
      "22:04:54 - cmdstanpy - INFO - Chain [1] done processing\n"
     ]
    },
    {
     "name": "stdout",
     "output_type": "stream",
     "text": [
      "101609\n"
     ]
    },
    {
     "name": "stderr",
     "output_type": "stream",
     "text": [
      "22:04:56 - cmdstanpy - INFO - Chain [1] start processing\n",
      "22:04:58 - cmdstanpy - INFO - Chain [1] done processing\n"
     ]
    },
    {
     "name": "stdout",
     "output_type": "stream",
     "text": [
      "100034\n"
     ]
    },
    {
     "name": "stderr",
     "output_type": "stream",
     "text": [
      "22:05:01 - cmdstanpy - INFO - Chain [1] start processing\n",
      "22:05:03 - cmdstanpy - INFO - Chain [1] done processing\n"
     ]
    },
    {
     "name": "stdout",
     "output_type": "stream",
     "text": [
      "100058\n"
     ]
    },
    {
     "name": "stderr",
     "output_type": "stream",
     "text": [
      "22:05:06 - cmdstanpy - INFO - Chain [1] start processing\n",
      "22:05:07 - cmdstanpy - INFO - Chain [1] done processing\n"
     ]
    },
    {
     "name": "stdout",
     "output_type": "stream",
     "text": [
      "111710\n"
     ]
    },
    {
     "name": "stderr",
     "output_type": "stream",
     "text": [
      "22:05:09 - cmdstanpy - INFO - Chain [1] start processing\n",
      "22:05:10 - cmdstanpy - INFO - Chain [1] done processing\n"
     ]
    },
    {
     "name": "stdout",
     "output_type": "stream",
     "text": [
      "109934\n"
     ]
    },
    {
     "name": "stderr",
     "output_type": "stream",
     "text": [
      "22:05:12 - cmdstanpy - INFO - Chain [1] start processing\n",
      "22:05:14 - cmdstanpy - INFO - Chain [1] done processing\n"
     ]
    },
    {
     "name": "stdout",
     "output_type": "stream",
     "text": [
      "103780\n"
     ]
    },
    {
     "name": "stderr",
     "output_type": "stream",
     "text": [
      "22:05:16 - cmdstanpy - INFO - Chain [1] start processing\n",
      "22:05:17 - cmdstanpy - INFO - Chain [1] done processing\n"
     ]
    },
    {
     "name": "stdout",
     "output_type": "stream",
     "text": [
      "100263\n"
     ]
    },
    {
     "name": "stderr",
     "output_type": "stream",
     "text": [
      "22:05:19 - cmdstanpy - INFO - Chain [1] start processing\n",
      "22:05:20 - cmdstanpy - INFO - Chain [1] done processing\n"
     ]
    },
    {
     "name": "stdout",
     "output_type": "stream",
     "text": [
      "107647\n"
     ]
    },
    {
     "name": "stderr",
     "output_type": "stream",
     "text": [
      "22:05:22 - cmdstanpy - INFO - Chain [1] start processing\n",
      "22:05:23 - cmdstanpy - INFO - Chain [1] done processing\n"
     ]
    },
    {
     "name": "stdout",
     "output_type": "stream",
     "text": [
      "120086\n"
     ]
    },
    {
     "name": "stderr",
     "output_type": "stream",
     "text": [
      "22:05:27 - cmdstanpy - INFO - Chain [1] start processing\n",
      "22:05:29 - cmdstanpy - INFO - Chain [1] done processing\n"
     ]
    },
    {
     "name": "stdout",
     "output_type": "stream",
     "text": [
      "100638\n"
     ]
    },
    {
     "name": "stderr",
     "output_type": "stream",
     "text": [
      "22:05:31 - cmdstanpy - INFO - Chain [1] start processing\n",
      "22:05:33 - cmdstanpy - INFO - Chain [1] done processing\n"
     ]
    },
    {
     "name": "stdout",
     "output_type": "stream",
     "text": [
      "100077\n"
     ]
    },
    {
     "name": "stderr",
     "output_type": "stream",
     "text": [
      "22:05:36 - cmdstanpy - INFO - Chain [1] start processing\n",
      "22:05:38 - cmdstanpy - INFO - Chain [1] done processing\n"
     ]
    },
    {
     "name": "stdout",
     "output_type": "stream",
     "text": [
      "101685\n"
     ]
    },
    {
     "name": "stderr",
     "output_type": "stream",
     "text": [
      "22:05:41 - cmdstanpy - INFO - Chain [1] start processing\n",
      "22:05:42 - cmdstanpy - INFO - Chain [1] done processing\n"
     ]
    },
    {
     "name": "stdout",
     "output_type": "stream",
     "text": [
      "104727\n"
     ]
    },
    {
     "name": "stderr",
     "output_type": "stream",
     "text": [
      "22:05:45 - cmdstanpy - INFO - Chain [1] start processing\n",
      "22:05:46 - cmdstanpy - INFO - Chain [1] done processing\n"
     ]
    },
    {
     "name": "stdout",
     "output_type": "stream",
     "text": [
      "112645\n"
     ]
    },
    {
     "name": "stderr",
     "output_type": "stream",
     "text": [
      "22:05:48 - cmdstanpy - INFO - Chain [1] start processing\n",
      "22:05:49 - cmdstanpy - INFO - Chain [1] done processing\n"
     ]
    },
    {
     "name": "stdout",
     "output_type": "stream",
     "text": [
      "135599\n"
     ]
    },
    {
     "name": "stderr",
     "output_type": "stream",
     "text": [
      "22:05:52 - cmdstanpy - INFO - Chain [1] start processing\n",
      "22:05:54 - cmdstanpy - INFO - Chain [1] done processing\n"
     ]
    },
    {
     "name": "stdout",
     "output_type": "stream",
     "text": [
      "100640\n",
      "102058\n"
     ]
    },
    {
     "name": "stderr",
     "output_type": "stream",
     "text": [
      "22:05:58 - cmdstanpy - INFO - Chain [1] start processing\n",
      "22:06:01 - cmdstanpy - INFO - Chain [1] done processing\n"
     ]
    },
    {
     "name": "stdout",
     "output_type": "stream",
     "text": [
      "100057\n"
     ]
    },
    {
     "name": "stderr",
     "output_type": "stream",
     "text": [
      "22:06:03 - cmdstanpy - INFO - Chain [1] start processing\n",
      "22:06:06 - cmdstanpy - INFO - Chain [1] done processing\n"
     ]
    },
    {
     "name": "stdout",
     "output_type": "stream",
     "text": [
      "101316\n"
     ]
    },
    {
     "name": "stderr",
     "output_type": "stream",
     "text": [
      "22:06:08 - cmdstanpy - INFO - Chain [1] start processing\n",
      "22:06:09 - cmdstanpy - INFO - Chain [1] done processing\n"
     ]
    },
    {
     "name": "stdout",
     "output_type": "stream",
     "text": [
      "143603\n"
     ]
    },
    {
     "name": "stderr",
     "output_type": "stream",
     "text": [
      "22:06:11 - cmdstanpy - INFO - Chain [1] start processing\n",
      "22:06:12 - cmdstanpy - INFO - Chain [1] done processing\n"
     ]
    },
    {
     "name": "stdout",
     "output_type": "stream",
     "text": [
      "100828\n"
     ]
    },
    {
     "name": "stderr",
     "output_type": "stream",
     "text": [
      "22:06:14 - cmdstanpy - INFO - Chain [1] start processing\n",
      "22:06:15 - cmdstanpy - INFO - Chain [1] done processing\n"
     ]
    },
    {
     "name": "stdout",
     "output_type": "stream",
     "text": [
      "112408\n"
     ]
    },
    {
     "name": "stderr",
     "output_type": "stream",
     "text": [
      "22:06:17 - cmdstanpy - INFO - Chain [1] start processing\n",
      "22:06:19 - cmdstanpy - INFO - Chain [1] done processing\n"
     ]
    },
    {
     "name": "stdout",
     "output_type": "stream",
     "text": [
      "102848\n"
     ]
    },
    {
     "name": "stderr",
     "output_type": "stream",
     "text": [
      "22:06:21 - cmdstanpy - INFO - Chain [1] start processing\n",
      "22:06:21 - cmdstanpy - INFO - Chain [1] done processing\n",
      "C:\\Users\\acer\\AppData\\Local\\Temp\\ipykernel_29788\\818110145.py:23: RuntimeWarning: invalid value encountered in scalar power\n",
      "  cagr = (end_nav / start_nav) ** (1/year) - 1\n"
     ]
    },
    {
     "name": "stdout",
     "output_type": "stream",
     "text": [
      "100381\n"
     ]
    },
    {
     "name": "stderr",
     "output_type": "stream",
     "text": [
      "22:06:23 - cmdstanpy - INFO - Chain [1] start processing\n",
      "22:06:25 - cmdstanpy - INFO - Chain [1] done processing\n"
     ]
    },
    {
     "name": "stdout",
     "output_type": "stream",
     "text": [
      "112212\n"
     ]
    },
    {
     "name": "stderr",
     "output_type": "stream",
     "text": [
      "22:06:27 - cmdstanpy - INFO - Chain [1] start processing\n",
      "22:06:31 - cmdstanpy - INFO - Chain [1] done processing\n"
     ]
    },
    {
     "name": "stdout",
     "output_type": "stream",
     "text": [
      "100078\n"
     ]
    },
    {
     "name": "stderr",
     "output_type": "stream",
     "text": [
      "22:06:33 - cmdstanpy - INFO - Chain [1] start processing\n",
      "22:06:35 - cmdstanpy - INFO - Chain [1] done processing\n"
     ]
    },
    {
     "name": "stdout",
     "output_type": "stream",
     "text": [
      "100385\n"
     ]
    },
    {
     "name": "stderr",
     "output_type": "stream",
     "text": [
      "22:06:37 - cmdstanpy - INFO - Chain [1] start processing\n",
      "22:06:40 - cmdstanpy - INFO - Chain [1] done processing\n"
     ]
    },
    {
     "name": "stdout",
     "output_type": "stream",
     "text": [
      "116484\n"
     ]
    },
    {
     "name": "stderr",
     "output_type": "stream",
     "text": [
      "22:06:42 - cmdstanpy - INFO - Chain [1] start processing\n",
      "22:06:46 - cmdstanpy - INFO - Chain [1] done processing\n"
     ]
    },
    {
     "name": "stdout",
     "output_type": "stream",
     "text": [
      "100619\n"
     ]
    },
    {
     "name": "stderr",
     "output_type": "stream",
     "text": [
      "22:06:48 - cmdstanpy - INFO - Chain [1] start processing\n",
      "22:06:49 - cmdstanpy - INFO - Chain [1] done processing\n"
     ]
    },
    {
     "name": "stdout",
     "output_type": "stream",
     "text": [
      "100750\n"
     ]
    },
    {
     "name": "stderr",
     "output_type": "stream",
     "text": [
      "22:06:50 - cmdstanpy - INFO - Chain [1] start processing\n",
      "22:06:51 - cmdstanpy - INFO - Chain [1] done processing\n",
      "C:\\Users\\acer\\AppData\\Local\\Temp\\ipykernel_29788\\818110145.py:23: RuntimeWarning: invalid value encountered in scalar power\n",
      "  cagr = (end_nav / start_nav) ** (1/year) - 1\n"
     ]
    },
    {
     "name": "stdout",
     "output_type": "stream",
     "text": [
      "100800\n"
     ]
    },
    {
     "name": "stderr",
     "output_type": "stream",
     "text": [
      "22:06:52 - cmdstanpy - INFO - Chain [1] start processing\n",
      "22:06:55 - cmdstanpy - INFO - Chain [1] done processing\n"
     ]
    },
    {
     "name": "stdout",
     "output_type": "stream",
     "text": [
      "101313\n"
     ]
    },
    {
     "name": "stderr",
     "output_type": "stream",
     "text": [
      "22:06:57 - cmdstanpy - INFO - Chain [1] start processing\n",
      "22:06:58 - cmdstanpy - INFO - Chain [1] done processing\n"
     ]
    },
    {
     "name": "stdout",
     "output_type": "stream",
     "text": [
      "119354\n"
     ]
    },
    {
     "name": "stderr",
     "output_type": "stream",
     "text": [
      "22:07:00 - cmdstanpy - INFO - Chain [1] start processing\n",
      "22:07:03 - cmdstanpy - INFO - Chain [1] done processing\n"
     ]
    },
    {
     "name": "stdout",
     "output_type": "stream",
     "text": [
      "100124\n"
     ]
    },
    {
     "name": "stderr",
     "output_type": "stream",
     "text": [
      "22:07:05 - cmdstanpy - INFO - Chain [1] start processing\n",
      "22:07:06 - cmdstanpy - INFO - Chain [1] done processing\n"
     ]
    },
    {
     "name": "stdout",
     "output_type": "stream",
     "text": [
      "113252\n"
     ]
    },
    {
     "name": "stderr",
     "output_type": "stream",
     "text": [
      "22:07:08 - cmdstanpy - INFO - Chain [1] start processing\n",
      "22:07:10 - cmdstanpy - INFO - Chain [1] done processing\n"
     ]
    },
    {
     "name": "stdout",
     "output_type": "stream",
     "text": [
      "113253\n"
     ]
    },
    {
     "name": "stderr",
     "output_type": "stream",
     "text": [
      "22:07:13 - cmdstanpy - INFO - Chain [1] start processing\n",
      "22:07:16 - cmdstanpy - INFO - Chain [1] done processing\n"
     ]
    },
    {
     "name": "stdout",
     "output_type": "stream",
     "text": [
      "104729\n"
     ]
    },
    {
     "name": "stderr",
     "output_type": "stream",
     "text": [
      "22:07:19 - cmdstanpy - INFO - Chain [1] start processing\n",
      "22:07:21 - cmdstanpy - INFO - Chain [1] done processing\n"
     ]
    },
    {
     "name": "stdout",
     "output_type": "stream",
     "text": [
      "100265\n"
     ]
    },
    {
     "name": "stderr",
     "output_type": "stream",
     "text": [
      "22:07:24 - cmdstanpy - INFO - Chain [1] start processing\n",
      "22:07:29 - cmdstanpy - INFO - Chain [1] done processing\n"
     ]
    },
    {
     "name": "stdout",
     "output_type": "stream",
     "text": [
      "100837\n"
     ]
    },
    {
     "name": "stderr",
     "output_type": "stream",
     "text": [
      "22:07:32 - cmdstanpy - INFO - Chain [1] start processing\n",
      "22:07:36 - cmdstanpy - INFO - Chain [1] done processing\n"
     ]
    },
    {
     "name": "stdout",
     "output_type": "stream",
     "text": [
      "100043\n"
     ]
    },
    {
     "name": "stderr",
     "output_type": "stream",
     "text": [
      "22:07:38 - cmdstanpy - INFO - Chain [1] start processing\n",
      "22:07:41 - cmdstanpy - INFO - Chain [1] done processing\n"
     ]
    },
    {
     "name": "stdout",
     "output_type": "stream",
     "text": [
      "112210\n"
     ]
    },
    {
     "name": "stderr",
     "output_type": "stream",
     "text": [
      "22:07:44 - cmdstanpy - INFO - Chain [1] start processing\n",
      "22:07:47 - cmdstanpy - INFO - Chain [1] done processing\n"
     ]
    },
    {
     "name": "stdout",
     "output_type": "stream",
     "text": [
      "101588\n"
     ]
    },
    {
     "name": "stderr",
     "output_type": "stream",
     "text": [
      "22:07:49 - cmdstanpy - INFO - Chain [1] start processing\n",
      "22:07:49 - cmdstanpy - INFO - Chain [1] done processing\n"
     ]
    },
    {
     "name": "stdout",
     "output_type": "stream",
     "text": [
      "107656\n"
     ]
    },
    {
     "name": "stderr",
     "output_type": "stream",
     "text": [
      "22:07:52 - cmdstanpy - INFO - Chain [1] start processing\n",
      "22:07:53 - cmdstanpy - INFO - Chain [1] done processing\n"
     ]
    },
    {
     "name": "stdout",
     "output_type": "stream",
     "text": [
      "112647\n"
     ]
    },
    {
     "name": "stderr",
     "output_type": "stream",
     "text": [
      "22:07:55 - cmdstanpy - INFO - Chain [1] start processing\n",
      "22:07:58 - cmdstanpy - INFO - Chain [1] done processing\n"
     ]
    },
    {
     "name": "stdout",
     "output_type": "stream",
     "text": [
      "101952\n"
     ]
    },
    {
     "name": "stderr",
     "output_type": "stream",
     "text": [
      "22:08:00 - cmdstanpy - INFO - Chain [1] start processing\n",
      "22:08:02 - cmdstanpy - INFO - Chain [1] done processing\n"
     ]
    },
    {
     "name": "stdout",
     "output_type": "stream",
     "text": [
      "100415\n",
      "112681\n"
     ]
    },
    {
     "name": "stderr",
     "output_type": "stream",
     "text": [
      "22:08:05 - cmdstanpy - INFO - Chain [1] start processing\n",
      "22:08:06 - cmdstanpy - INFO - Chain [1] done processing\n"
     ]
    },
    {
     "name": "stdout",
     "output_type": "stream",
     "text": [
      "100940\n"
     ]
    },
    {
     "name": "stderr",
     "output_type": "stream",
     "text": [
      "22:08:09 - cmdstanpy - INFO - Chain [1] start processing\n",
      "22:08:10 - cmdstanpy - INFO - Chain [1] done processing\n"
     ]
    },
    {
     "name": "stdout",
     "output_type": "stream",
     "text": [
      "101306\n"
     ]
    },
    {
     "name": "stderr",
     "output_type": "stream",
     "text": [
      "22:08:12 - cmdstanpy - INFO - Chain [1] start processing\n",
      "22:08:13 - cmdstanpy - INFO - Chain [1] done processing\n"
     ]
    },
    {
     "name": "stdout",
     "output_type": "stream",
     "text": [
      "101744\n"
     ]
    },
    {
     "name": "stderr",
     "output_type": "stream",
     "text": [
      "22:08:15 - cmdstanpy - INFO - Chain [1] start processing\n",
      "22:08:17 - cmdstanpy - INFO - Chain [1] done processing\n"
     ]
    },
    {
     "name": "stdout",
     "output_type": "stream",
     "text": [
      "100356\n"
     ]
    },
    {
     "name": "stderr",
     "output_type": "stream",
     "text": [
      "22:08:19 - cmdstanpy - INFO - Chain [1] start processing\n",
      "22:08:21 - cmdstanpy - INFO - Chain [1] done processing\n"
     ]
    },
    {
     "name": "stdout",
     "output_type": "stream",
     "text": [
      "101144\n"
     ]
    },
    {
     "name": "stderr",
     "output_type": "stream",
     "text": [
      "22:08:24 - cmdstanpy - INFO - Chain [1] start processing\n",
      "22:08:26 - cmdstanpy - INFO - Chain [1] done processing\n"
     ]
    },
    {
     "name": "stdout",
     "output_type": "stream",
     "text": [
      "101659\n"
     ]
    },
    {
     "name": "stderr",
     "output_type": "stream",
     "text": [
      "22:08:28 - cmdstanpy - INFO - Chain [1] start processing\n",
      "22:08:31 - cmdstanpy - INFO - Chain [1] done processing\n"
     ]
    },
    {
     "name": "stdout",
     "output_type": "stream",
     "text": [
      "100061\n",
      "112684\n"
     ]
    },
    {
     "name": "stderr",
     "output_type": "stream",
     "text": [
      "22:08:34 - cmdstanpy - INFO - Chain [1] start processing\n",
      "22:08:35 - cmdstanpy - INFO - Chain [1] done processing\n"
     ]
    },
    {
     "name": "stdout",
     "output_type": "stream",
     "text": [
      "101431\n"
     ]
    },
    {
     "name": "stderr",
     "output_type": "stream",
     "text": [
      "22:08:37 - cmdstanpy - INFO - Chain [1] start processing\n",
      "22:08:38 - cmdstanpy - INFO - Chain [1] done processing\n"
     ]
    },
    {
     "name": "stdout",
     "output_type": "stream",
     "text": [
      "101594\n"
     ]
    },
    {
     "name": "stderr",
     "output_type": "stream",
     "text": [
      "22:08:40 - cmdstanpy - INFO - Chain [1] start processing\n",
      "22:08:43 - cmdstanpy - INFO - Chain [1] done processing\n"
     ]
    },
    {
     "name": "stdout",
     "output_type": "stream",
     "text": [
      "101686\n"
     ]
    },
    {
     "name": "stderr",
     "output_type": "stream",
     "text": [
      "22:08:45 - cmdstanpy - INFO - Chain [1] start processing\n",
      "22:08:45 - cmdstanpy - INFO - Chain [1] done processing\n"
     ]
    },
    {
     "name": "stdout",
     "output_type": "stream",
     "text": [
      "101688\n"
     ]
    },
    {
     "name": "stderr",
     "output_type": "stream",
     "text": [
      "22:08:47 - cmdstanpy - INFO - Chain [1] start processing\n",
      "22:08:48 - cmdstanpy - INFO - Chain [1] done processing\n"
     ]
    },
    {
     "name": "stdout",
     "output_type": "stream",
     "text": [
      "120084\n"
     ]
    },
    {
     "name": "stderr",
     "output_type": "stream",
     "text": [
      "22:08:51 - cmdstanpy - INFO - Chain [1] start processing\n",
      "22:08:54 - cmdstanpy - INFO - Chain [1] done processing\n"
     ]
    },
    {
     "name": "stdout",
     "output_type": "stream",
     "text": [
      "100177\n"
     ]
    },
    {
     "name": "stderr",
     "output_type": "stream",
     "text": [
      "22:08:56 - cmdstanpy - INFO - Chain [1] start processing\n",
      "22:08:57 - cmdstanpy - INFO - Chain [1] done processing\n"
     ]
    },
    {
     "name": "stdout",
     "output_type": "stream",
     "text": [
      "113254\n"
     ]
    },
    {
     "name": "stderr",
     "output_type": "stream",
     "text": [
      "22:09:00 - cmdstanpy - INFO - Chain [1] start processing\n",
      "22:09:04 - cmdstanpy - INFO - Chain [1] done processing\n"
     ]
    },
    {
     "name": "stdout",
     "output_type": "stream",
     "text": [
      "104484\n"
     ]
    },
    {
     "name": "stderr",
     "output_type": "stream",
     "text": [
      "22:09:06 - cmdstanpy - INFO - Chain [1] start processing\n",
      "22:09:12 - cmdstanpy - INFO - Chain [1] done processing\n"
     ]
    },
    {
     "name": "stdout",
     "output_type": "stream",
     "text": [
      "104486\n"
     ]
    },
    {
     "name": "stderr",
     "output_type": "stream",
     "text": [
      "22:09:15 - cmdstanpy - INFO - Chain [1] start processing\n",
      "22:09:16 - cmdstanpy - INFO - Chain [1] done processing\n"
     ]
    },
    {
     "name": "stdout",
     "output_type": "stream",
     "text": [
      "100313\n"
     ]
    },
    {
     "name": "stderr",
     "output_type": "stream",
     "text": [
      "22:09:19 - cmdstanpy - INFO - Chain [1] start processing\n",
      "22:09:23 - cmdstanpy - INFO - Chain [1] done processing\n"
     ]
    },
    {
     "name": "stdout",
     "output_type": "stream",
     "text": [
      "100851\n"
     ]
    },
    {
     "name": "stderr",
     "output_type": "stream",
     "text": [
      "22:09:26 - cmdstanpy - INFO - Chain [1] start processing\n",
      "22:09:29 - cmdstanpy - INFO - Chain [1] done processing\n"
     ]
    },
    {
     "name": "stdout",
     "output_type": "stream",
     "text": [
      "100603\n",
      "100607\n"
     ]
    },
    {
     "name": "stderr",
     "output_type": "stream",
     "text": [
      "22:09:33 - cmdstanpy - INFO - Chain [1] start processing\n",
      "22:09:34 - cmdstanpy - INFO - Chain [1] done processing\n"
     ]
    },
    {
     "name": "stdout",
     "output_type": "stream",
     "text": [
      "100785\n"
     ]
    },
    {
     "name": "stderr",
     "output_type": "stream",
     "text": [
      "22:09:37 - cmdstanpy - INFO - Chain [1] start processing\n",
      "22:09:38 - cmdstanpy - INFO - Chain [1] done processing\n"
     ]
    },
    {
     "name": "stdout",
     "output_type": "stream",
     "text": [
      "100033\n"
     ]
    },
    {
     "name": "stderr",
     "output_type": "stream",
     "text": [
      "22:09:40 - cmdstanpy - INFO - Chain [1] start processing\n",
      "22:09:42 - cmdstanpy - INFO - Chain [1] done processing\n"
     ]
    },
    {
     "name": "stdout",
     "output_type": "stream",
     "text": [
      "102259\n"
     ]
    },
    {
     "name": "stderr",
     "output_type": "stream",
     "text": [
      "22:09:43 - cmdstanpy - INFO - Chain [1] start processing\n",
      "22:09:45 - cmdstanpy - INFO - Chain [1] done processing\n"
     ]
    },
    {
     "name": "stdout",
     "output_type": "stream",
     "text": [
      "122612\n"
     ]
    },
    {
     "name": "stderr",
     "output_type": "stream",
     "text": [
      "22:09:47 - cmdstanpy - INFO - Chain [1] start processing\n",
      "22:09:49 - cmdstanpy - INFO - Chain [1] done processing\n"
     ]
    },
    {
     "name": "stdout",
     "output_type": "stream",
     "text": [
      "101184\n"
     ]
    },
    {
     "name": "stderr",
     "output_type": "stream",
     "text": [
      "22:09:52 - cmdstanpy - INFO - Chain [1] start processing\n",
      "22:09:54 - cmdstanpy - INFO - Chain [1] done processing\n"
     ]
    },
    {
     "name": "stdout",
     "output_type": "stream",
     "text": [
      "100858\n"
     ]
    },
    {
     "name": "stderr",
     "output_type": "stream",
     "text": [
      "22:09:56 - cmdstanpy - INFO - Chain [1] start processing\n",
      "22:09:57 - cmdstanpy - INFO - Chain [1] done processing\n"
     ]
    },
    {
     "name": "stdout",
     "output_type": "stream",
     "text": [
      "101606\n"
     ]
    },
    {
     "name": "stderr",
     "output_type": "stream",
     "text": [
      "22:09:59 - cmdstanpy - INFO - Chain [1] start processing\n",
      "22:09:59 - cmdstanpy - INFO - Chain [1] done processing\n"
     ]
    },
    {
     "name": "stdout",
     "output_type": "stream",
     "text": [
      "112217\n"
     ]
    },
    {
     "name": "stderr",
     "output_type": "stream",
     "text": [
      "22:10:01 - cmdstanpy - INFO - Chain [1] start processing\n",
      "22:10:01 - cmdstanpy - INFO - Chain [1] done processing\n"
     ]
    },
    {
     "name": "stdout",
     "output_type": "stream",
     "text": [
      "109937\n"
     ]
    },
    {
     "name": "stderr",
     "output_type": "stream",
     "text": [
      "22:10:03 - cmdstanpy - INFO - Chain [1] start processing\n",
      "22:10:04 - cmdstanpy - INFO - Chain [1] done processing\n"
     ]
    },
    {
     "name": "stdout",
     "output_type": "stream",
     "text": [
      "109949\n",
      "100869\n"
     ]
    },
    {
     "name": "stderr",
     "output_type": "stream",
     "text": [
      "22:10:06 - cmdstanpy - INFO - Chain [1] start processing\n",
      "22:10:09 - cmdstanpy - INFO - Chain [1] done processing\n"
     ]
    },
    {
     "name": "stdout",
     "output_type": "stream",
     "text": [
      "100368\n"
     ]
    },
    {
     "name": "stderr",
     "output_type": "stream",
     "text": [
      "22:10:12 - cmdstanpy - INFO - Chain [1] start processing\n",
      "22:10:15 - cmdstanpy - INFO - Chain [1] done processing\n"
     ]
    },
    {
     "name": "stdout",
     "output_type": "stream",
     "text": [
      "113103\n"
     ]
    },
    {
     "name": "stderr",
     "output_type": "stream",
     "text": [
      "22:10:18 - cmdstanpy - INFO - Chain [1] start processing\n",
      "22:10:24 - cmdstanpy - INFO - Chain [1] done processing\n"
     ]
    },
    {
     "name": "stdout",
     "output_type": "stream",
     "text": [
      "100833\n"
     ]
    },
    {
     "name": "stderr",
     "output_type": "stream",
     "text": [
      "22:10:27 - cmdstanpy - INFO - Chain [1] start processing\n",
      "22:10:29 - cmdstanpy - INFO - Chain [1] done processing\n"
     ]
    },
    {
     "name": "stdout",
     "output_type": "stream",
     "text": [
      "101305\n"
     ]
    },
    {
     "name": "stderr",
     "output_type": "stream",
     "text": [
      "22:10:32 - cmdstanpy - INFO - Chain [1] start processing\n",
      "22:10:33 - cmdstanpy - INFO - Chain [1] done processing\n"
     ]
    },
    {
     "name": "stdout",
     "output_type": "stream",
     "text": [
      "101701\n"
     ]
    },
    {
     "name": "stderr",
     "output_type": "stream",
     "text": [
      "22:10:34 - cmdstanpy - INFO - Chain [1] start processing\n",
      "22:10:36 - cmdstanpy - INFO - Chain [1] done processing\n"
     ]
    },
    {
     "name": "stdout",
     "output_type": "stream",
     "text": [
      "102258\n"
     ]
    },
    {
     "name": "stderr",
     "output_type": "stream",
     "text": [
      "22:10:38 - cmdstanpy - INFO - Chain [1] start processing\n",
      "22:10:41 - cmdstanpy - INFO - Chain [1] done processing\n"
     ]
    },
    {
     "name": "stdout",
     "output_type": "stream",
     "text": [
      "101617\n"
     ]
    },
    {
     "name": "stderr",
     "output_type": "stream",
     "text": [
      "22:10:43 - cmdstanpy - INFO - Chain [1] start processing\n",
      "22:10:43 - cmdstanpy - INFO - Chain [1] done processing\n"
     ]
    },
    {
     "name": "stdout",
     "output_type": "stream",
     "text": [
      "114633\n"
     ]
    },
    {
     "name": "stderr",
     "output_type": "stream",
     "text": [
      "22:10:45 - cmdstanpy - INFO - Chain [1] start processing\n",
      "22:10:47 - cmdstanpy - INFO - Chain [1] done processing\n"
     ]
    },
    {
     "name": "stdout",
     "output_type": "stream",
     "text": [
      "116485\n"
     ]
    },
    {
     "name": "stderr",
     "output_type": "stream",
     "text": [
      "22:10:49 - cmdstanpy - INFO - Chain [1] start processing\n",
      "22:10:49 - cmdstanpy - INFO - Chain [1] done processing\n"
     ]
    },
    {
     "name": "stdout",
     "output_type": "stream",
     "text": [
      "138254\n"
     ]
    },
    {
     "name": "stderr",
     "output_type": "stream",
     "text": [
      "22:10:51 - cmdstanpy - INFO - Chain [1] start processing\n",
      "22:10:55 - cmdstanpy - INFO - Chain [1] done processing\n"
     ]
    },
    {
     "name": "stdout",
     "output_type": "stream",
     "text": [
      "100493\n"
     ]
    },
    {
     "name": "stderr",
     "output_type": "stream",
     "text": [
      "22:10:57 - cmdstanpy - INFO - Chain [1] start processing\n",
      "22:11:01 - cmdstanpy - INFO - Chain [1] done processing\n"
     ]
    },
    {
     "name": "stdout",
     "output_type": "stream",
     "text": [
      "105024\n"
     ]
    },
    {
     "name": "stderr",
     "output_type": "stream",
     "text": [
      "22:11:03 - cmdstanpy - INFO - Chain [1] start processing\n",
      "22:11:03 - cmdstanpy - INFO - Chain [1] done processing\n",
      "C:\\Users\\acer\\AppData\\Local\\Temp\\ipykernel_29788\\818110145.py:23: RuntimeWarning: invalid value encountered in scalar power\n",
      "  cagr = (end_nav / start_nav) ** (1/year) - 1\n"
     ]
    },
    {
     "name": "stdout",
     "output_type": "stream",
     "text": [
      "100382\n"
     ]
    },
    {
     "name": "stderr",
     "output_type": "stream",
     "text": [
      "22:11:04 - cmdstanpy - INFO - Chain [1] start processing\n",
      "22:11:06 - cmdstanpy - INFO - Chain [1] done processing\n"
     ]
    },
    {
     "name": "stdout",
     "output_type": "stream",
     "text": [
      "100054\n"
     ]
    },
    {
     "name": "stderr",
     "output_type": "stream",
     "text": [
      "22:11:08 - cmdstanpy - INFO - Chain [1] start processing\n",
      "22:11:08 - cmdstanpy - INFO - Chain [1] done processing\n"
     ]
    },
    {
     "name": "stdout",
     "output_type": "stream",
     "text": [
      "101598\n"
     ]
    },
    {
     "name": "stderr",
     "output_type": "stream",
     "text": [
      "22:11:10 - cmdstanpy - INFO - Chain [1] start processing\n",
      "22:11:10 - cmdstanpy - INFO - Chain [1] done processing\n"
     ]
    },
    {
     "name": "stdout",
     "output_type": "stream",
     "text": [
      "102056\n"
     ]
    },
    {
     "name": "stderr",
     "output_type": "stream",
     "text": [
      "22:11:12 - cmdstanpy - INFO - Chain [1] start processing\n",
      "22:11:14 - cmdstanpy - INFO - Chain [1] done processing\n"
     ]
    },
    {
     "name": "stdout",
     "output_type": "stream",
     "text": [
      "100056\n"
     ]
    },
    {
     "name": "stderr",
     "output_type": "stream",
     "text": [
      "22:11:16 - cmdstanpy - INFO - Chain [1] start processing\n",
      "22:11:17 - cmdstanpy - INFO - Chain [1] done processing\n"
     ]
    },
    {
     "name": "stdout",
     "output_type": "stream",
     "text": [
      "112215\n",
      "100284\n"
     ]
    },
    {
     "name": "stderr",
     "output_type": "stream",
     "text": [
      "22:11:20 - cmdstanpy - INFO - Chain [1] start processing\n",
      "22:11:22 - cmdstanpy - INFO - Chain [1] done processing\n"
     ]
    },
    {
     "name": "stdout",
     "output_type": "stream",
     "text": [
      "115993\n"
     ]
    },
    {
     "name": "stderr",
     "output_type": "stream",
     "text": [
      "22:11:24 - cmdstanpy - INFO - Chain [1] start processing\n",
      "22:11:25 - cmdstanpy - INFO - Chain [1] done processing\n"
     ]
    },
    {
     "name": "stdout",
     "output_type": "stream",
     "text": [
      "104724\n"
     ]
    },
    {
     "name": "stderr",
     "output_type": "stream",
     "text": [
      "22:11:28 - cmdstanpy - INFO - Chain [1] start processing\n",
      "22:11:28 - cmdstanpy - INFO - Chain [1] done processing\n"
     ]
    },
    {
     "name": "stdout",
     "output_type": "stream",
     "text": [
      "145963\n"
     ]
    },
    {
     "name": "stderr",
     "output_type": "stream",
     "text": [
      "22:11:31 - cmdstanpy - INFO - Chain [1] start processing\n",
      "22:11:32 - cmdstanpy - INFO - Chain [1] done processing\n"
     ]
    },
    {
     "name": "stdout",
     "output_type": "stream",
     "text": [
      "100066\n"
     ]
    },
    {
     "name": "stderr",
     "output_type": "stream",
     "text": [
      "22:11:34 - cmdstanpy - INFO - Chain [1] start processing\n",
      "22:11:35 - cmdstanpy - INFO - Chain [1] done processing\n"
     ]
    },
    {
     "name": "stdout",
     "output_type": "stream",
     "text": [
      "100972\n"
     ]
    },
    {
     "name": "stderr",
     "output_type": "stream",
     "text": [
      "22:11:37 - cmdstanpy - INFO - Chain [1] start processing\n",
      "22:11:38 - cmdstanpy - INFO - Chain [1] done processing\n"
     ]
    },
    {
     "name": "stdout",
     "output_type": "stream",
     "text": [
      "100473\n"
     ]
    },
    {
     "name": "stderr",
     "output_type": "stream",
     "text": [
      "22:11:40 - cmdstanpy - INFO - Chain [1] start processing\n",
      "22:11:42 - cmdstanpy - INFO - Chain [1] done processing\n"
     ]
    },
    {
     "name": "stdout",
     "output_type": "stream",
     "text": [
      "100486\n"
     ]
    },
    {
     "name": "stderr",
     "output_type": "stream",
     "text": [
      "22:11:45 - cmdstanpy - INFO - Chain [1] start processing\n",
      "22:11:47 - cmdstanpy - INFO - Chain [1] done processing\n"
     ]
    },
    {
     "name": "stdout",
     "output_type": "stream",
     "text": [
      "101082\n"
     ]
    },
    {
     "name": "stderr",
     "output_type": "stream",
     "text": [
      "22:11:48 - cmdstanpy - INFO - Chain [1] start processing\n",
      "22:11:51 - cmdstanpy - INFO - Chain [1] done processing\n"
     ]
    },
    {
     "name": "stdout",
     "output_type": "stream",
     "text": [
      "100955\n"
     ]
    },
    {
     "name": "stderr",
     "output_type": "stream",
     "text": [
      "22:11:53 - cmdstanpy - INFO - Chain [1] start processing\n",
      "22:11:54 - cmdstanpy - INFO - Chain [1] done processing\n"
     ]
    },
    {
     "name": "stdout",
     "output_type": "stream",
     "text": [
      "100314\n"
     ]
    },
    {
     "name": "stderr",
     "output_type": "stream",
     "text": [
      "22:11:57 - cmdstanpy - INFO - Chain [1] start processing\n",
      "22:11:58 - cmdstanpy - INFO - Chain [1] done processing\n"
     ]
    },
    {
     "name": "stdout",
     "output_type": "stream",
     "text": [
      "100379\n"
     ]
    },
    {
     "name": "stderr",
     "output_type": "stream",
     "text": [
      "22:12:01 - cmdstanpy - INFO - Chain [1] start processing\n",
      "22:12:03 - cmdstanpy - INFO - Chain [1] done processing\n"
     ]
    },
    {
     "name": "stdout",
     "output_type": "stream",
     "text": [
      "102673\n"
     ]
    },
    {
     "name": "stderr",
     "output_type": "stream",
     "text": [
      "22:12:05 - cmdstanpy - INFO - Chain [1] start processing\n",
      "22:12:06 - cmdstanpy - INFO - Chain [1] done processing\n"
     ]
    },
    {
     "name": "stdout",
     "output_type": "stream",
     "text": [
      "101419\n"
     ]
    },
    {
     "name": "stderr",
     "output_type": "stream",
     "text": [
      "22:12:09 - cmdstanpy - INFO - Chain [1] start processing\n",
      "22:12:11 - cmdstanpy - INFO - Chain [1] done processing\n"
     ]
    },
    {
     "name": "stdout",
     "output_type": "stream",
     "text": [
      "100877\n"
     ]
    },
    {
     "name": "stderr",
     "output_type": "stream",
     "text": [
      "22:12:13 - cmdstanpy - INFO - Chain [1] start processing\n",
      "22:12:14 - cmdstanpy - INFO - Chain [1] done processing\n"
     ]
    },
    {
     "name": "stdout",
     "output_type": "stream",
     "text": [
      "100878\n"
     ]
    },
    {
     "name": "stderr",
     "output_type": "stream",
     "text": [
      "22:12:16 - cmdstanpy - INFO - Chain [1] start processing\n",
      "22:12:17 - cmdstanpy - INFO - Chain [1] done processing\n"
     ]
    },
    {
     "name": "stdout",
     "output_type": "stream",
     "text": [
      "100900\n"
     ]
    },
    {
     "name": "stderr",
     "output_type": "stream",
     "text": [
      "22:12:19 - cmdstanpy - INFO - Chain [1] start processing\n",
      "22:12:21 - cmdstanpy - INFO - Chain [1] done processing\n"
     ]
    },
    {
     "name": "stdout",
     "output_type": "stream",
     "text": [
      "100371\n"
     ]
    },
    {
     "name": "stderr",
     "output_type": "stream",
     "text": [
      "22:12:23 - cmdstanpy - INFO - Chain [1] start processing\n",
      "22:12:24 - cmdstanpy - INFO - Chain [1] done processing\n"
     ]
    },
    {
     "name": "stdout",
     "output_type": "stream",
     "text": [
      "125337\n"
     ]
    },
    {
     "name": "stderr",
     "output_type": "stream",
     "text": [
      "22:12:26 - cmdstanpy - INFO - Chain [1] start processing\n",
      "22:12:27 - cmdstanpy - INFO - Chain [1] done processing\n"
     ]
    },
    {
     "name": "stdout",
     "output_type": "stream",
     "text": [
      "100864\n"
     ]
    },
    {
     "name": "stderr",
     "output_type": "stream",
     "text": [
      "22:12:30 - cmdstanpy - INFO - Chain [1] start processing\n",
      "22:12:31 - cmdstanpy - INFO - Chain [1] done processing\n"
     ]
    },
    {
     "name": "stdout",
     "output_type": "stream",
     "text": [
      "102174\n"
     ]
    },
    {
     "name": "stderr",
     "output_type": "stream",
     "text": [
      "22:12:33 - cmdstanpy - INFO - Chain [1] start processing\n",
      "22:12:35 - cmdstanpy - INFO - Chain [1] done processing\n"
     ]
    },
    {
     "name": "stdout",
     "output_type": "stream",
     "text": [
      "102432\n"
     ]
    },
    {
     "name": "stderr",
     "output_type": "stream",
     "text": [
      "22:12:37 - cmdstanpy - INFO - Chain [1] start processing\n",
      "22:12:40 - cmdstanpy - INFO - Chain [1] done processing\n"
     ]
    },
    {
     "name": "stdout",
     "output_type": "stream",
     "text": [
      "100739\n"
     ]
    },
    {
     "name": "stderr",
     "output_type": "stream",
     "text": [
      "22:12:42 - cmdstanpy - INFO - Chain [1] start processing\n",
      "22:12:44 - cmdstanpy - INFO - Chain [1] done processing\n"
     ]
    },
    {
     "name": "stdout",
     "output_type": "stream",
     "text": [
      "100741\n"
     ]
    },
    {
     "name": "stderr",
     "output_type": "stream",
     "text": [
      "22:12:46 - cmdstanpy - INFO - Chain [1] start processing\n",
      "22:12:48 - cmdstanpy - INFO - Chain [1] done processing\n"
     ]
    },
    {
     "name": "stdout",
     "output_type": "stream",
     "text": [
      "133518\n"
     ]
    },
    {
     "name": "stderr",
     "output_type": "stream",
     "text": [
      "22:12:50 - cmdstanpy - INFO - Chain [1] start processing\n",
      "22:12:52 - cmdstanpy - INFO - Chain [1] done processing\n"
     ]
    },
    {
     "name": "stdout",
     "output_type": "stream",
     "text": [
      "101665\n"
     ]
    },
    {
     "name": "stderr",
     "output_type": "stream",
     "text": [
      "22:12:54 - cmdstanpy - INFO - Chain [1] start processing\n",
      "22:12:54 - cmdstanpy - INFO - Chain [1] done processing\n"
     ]
    },
    {
     "name": "stdout",
     "output_type": "stream",
     "text": [
      "100605\n"
     ]
    },
    {
     "name": "stderr",
     "output_type": "stream",
     "text": [
      "22:12:56 - cmdstanpy - INFO - Chain [1] start processing\n",
      "22:12:58 - cmdstanpy - INFO - Chain [1] done processing\n"
     ]
    },
    {
     "name": "stdout",
     "output_type": "stream",
     "text": [
      "110607\n"
     ]
    },
    {
     "name": "stderr",
     "output_type": "stream",
     "text": [
      "22:12:59 - cmdstanpy - INFO - Chain [1] start processing\n",
      "22:13:00 - cmdstanpy - INFO - Chain [1] done processing\n"
     ]
    },
    {
     "name": "stdout",
     "output_type": "stream",
     "text": [
      "100872\n"
     ]
    },
    {
     "name": "stderr",
     "output_type": "stream",
     "text": [
      "22:13:01 - cmdstanpy - INFO - Chain [1] start processing\n",
      "22:13:03 - cmdstanpy - INFO - Chain [1] done processing\n"
     ]
    },
    {
     "name": "stdout",
     "output_type": "stream",
     "text": [
      "100349\n"
     ]
    },
    {
     "name": "stderr",
     "output_type": "stream",
     "text": [
      "22:13:05 - cmdstanpy - INFO - Chain [1] start processing\n",
      "22:13:08 - cmdstanpy - INFO - Chain [1] done processing\n"
     ]
    },
    {
     "name": "stdout",
     "output_type": "stream",
     "text": [
      "100300\n"
     ]
    },
    {
     "name": "stderr",
     "output_type": "stream",
     "text": [
      "22:13:09 - cmdstanpy - INFO - Chain [1] start processing\n",
      "22:13:11 - cmdstanpy - INFO - Chain [1] done processing\n"
     ]
    },
    {
     "name": "stdout",
     "output_type": "stream",
     "text": [
      "107579\n"
     ]
    },
    {
     "name": "stderr",
     "output_type": "stream",
     "text": [
      "22:13:13 - cmdstanpy - INFO - Chain [1] start processing\n",
      "22:13:15 - cmdstanpy - INFO - Chain [1] done processing\n"
     ]
    },
    {
     "name": "stdout",
     "output_type": "stream",
     "text": [
      "101002\n"
     ]
    },
    {
     "name": "stderr",
     "output_type": "stream",
     "text": [
      "22:13:17 - cmdstanpy - INFO - Chain [1] start processing\n",
      "22:13:19 - cmdstanpy - INFO - Chain [1] done processing\n"
     ]
    },
    {
     "name": "stdout",
     "output_type": "stream",
     "text": [
      "102053\n"
     ]
    },
    {
     "name": "stderr",
     "output_type": "stream",
     "text": [
      "22:13:21 - cmdstanpy - INFO - Chain [1] start processing\n",
      "22:13:22 - cmdstanpy - INFO - Chain [1] done processing\n"
     ]
    },
    {
     "name": "stdout",
     "output_type": "stream",
     "text": [
      "112354\n"
     ]
    },
    {
     "name": "stderr",
     "output_type": "stream",
     "text": [
      "22:13:25 - cmdstanpy - INFO - Chain [1] start processing\n",
      "22:13:27 - cmdstanpy - INFO - Chain [1] done processing\n"
     ]
    },
    {
     "name": "stdout",
     "output_type": "stream",
     "text": [
      "101143\n"
     ]
    },
    {
     "name": "stderr",
     "output_type": "stream",
     "text": [
      "22:13:29 - cmdstanpy - INFO - Chain [1] start processing\n",
      "22:13:30 - cmdstanpy - INFO - Chain [1] done processing\n"
     ]
    },
    {
     "name": "stdout",
     "output_type": "stream",
     "text": [
      "107578\n"
     ]
    },
    {
     "name": "stderr",
     "output_type": "stream",
     "text": [
      "22:13:32 - cmdstanpy - INFO - Chain [1] start processing\n",
      "22:13:33 - cmdstanpy - INFO - Chain [1] done processing\n"
     ]
    },
    {
     "name": "stdout",
     "output_type": "stream",
     "text": [
      "135598\n"
     ]
    },
    {
     "name": "stderr",
     "output_type": "stream",
     "text": [
      "22:13:35 - cmdstanpy - INFO - Chain [1] start processing\n",
      "22:13:37 - cmdstanpy - INFO - Chain [1] done processing\n"
     ]
    },
    {
     "name": "stdout",
     "output_type": "stream",
     "text": [
      "100618\n"
     ]
    },
    {
     "name": "stderr",
     "output_type": "stream",
     "text": [
      "22:13:39 - cmdstanpy - INFO - Chain [1] start processing\n",
      "22:13:41 - cmdstanpy - INFO - Chain [1] done processing\n"
     ]
    },
    {
     "name": "stdout",
     "output_type": "stream",
     "text": [
      "100788\n"
     ]
    },
    {
     "name": "stderr",
     "output_type": "stream",
     "text": [
      "22:13:43 - cmdstanpy - INFO - Chain [1] start processing\n",
      "22:13:44 - cmdstanpy - INFO - Chain [1] done processing\n"
     ]
    },
    {
     "name": "stdout",
     "output_type": "stream",
     "text": [
      "101489\n"
     ]
    },
    {
     "name": "stderr",
     "output_type": "stream",
     "text": [
      "22:13:47 - cmdstanpy - INFO - Chain [1] start processing\n",
      "22:13:48 - cmdstanpy - INFO - Chain [1] done processing\n"
     ]
    },
    {
     "name": "stdout",
     "output_type": "stream",
     "text": [
      "100471\n"
     ]
    },
    {
     "name": "stderr",
     "output_type": "stream",
     "text": [
      "22:13:50 - cmdstanpy - INFO - Chain [1] start processing\n",
      "22:13:51 - cmdstanpy - INFO - Chain [1] done processing\n"
     ]
    },
    {
     "name": "stdout",
     "output_type": "stream",
     "text": [
      "101230\n"
     ]
    },
    {
     "name": "stderr",
     "output_type": "stream",
     "text": [
      "22:13:53 - cmdstanpy - INFO - Chain [1] start processing\n",
      "22:13:54 - cmdstanpy - INFO - Chain [1] done processing\n"
     ]
    },
    {
     "name": "stdout",
     "output_type": "stream",
     "text": [
      "104491\n"
     ]
    },
    {
     "name": "stderr",
     "output_type": "stream",
     "text": [
      "22:13:56 - cmdstanpy - INFO - Chain [1] start processing\n",
      "22:13:58 - cmdstanpy - INFO - Chain [1] done processing\n"
     ]
    },
    {
     "name": "stdout",
     "output_type": "stream",
     "text": [
      "100332\n"
     ]
    },
    {
     "name": "stderr",
     "output_type": "stream",
     "text": [
      "22:14:00 - cmdstanpy - INFO - Chain [1] start processing\n",
      "22:14:01 - cmdstanpy - INFO - Chain [1] done processing\n"
     ]
    },
    {
     "name": "stdout",
     "output_type": "stream",
     "text": [
      "101490\n"
     ]
    },
    {
     "name": "stderr",
     "output_type": "stream",
     "text": [
      "22:14:03 - cmdstanpy - INFO - Chain [1] start processing\n",
      "22:14:04 - cmdstanpy - INFO - Chain [1] done processing\n"
     ]
    },
    {
     "name": "stdout",
     "output_type": "stream",
     "text": [
      "100060\n"
     ]
    },
    {
     "name": "stderr",
     "output_type": "stream",
     "text": [
      "22:14:06 - cmdstanpy - INFO - Chain [1] start processing\n",
      "22:14:07 - cmdstanpy - INFO - Chain [1] done processing\n"
     ]
    },
    {
     "name": "stdout",
     "output_type": "stream",
     "text": [
      "112355\n"
     ]
    },
    {
     "name": "stderr",
     "output_type": "stream",
     "text": [
      "22:14:09 - cmdstanpy - INFO - Chain [1] start processing\n",
      "22:14:10 - cmdstanpy - INFO - Chain [1] done processing\n"
     ]
    },
    {
     "name": "stdout",
     "output_type": "stream",
     "text": [
      "100090\n"
     ]
    },
    {
     "name": "stderr",
     "output_type": "stream",
     "text": [
      "22:14:11 - cmdstanpy - INFO - Chain [1] start processing\n",
      "22:14:12 - cmdstanpy - INFO - Chain [1] done processing\n"
     ]
    },
    {
     "name": "stdout",
     "output_type": "stream",
     "text": [
      "109944\n"
     ]
    },
    {
     "name": "stderr",
     "output_type": "stream",
     "text": [
      "22:14:14 - cmdstanpy - INFO - Chain [1] start processing\n",
      "22:14:16 - cmdstanpy - INFO - Chain [1] done processing\n"
     ]
    },
    {
     "name": "stdout",
     "output_type": "stream",
     "text": [
      "104722\n"
     ]
    },
    {
     "name": "stderr",
     "output_type": "stream",
     "text": [
      "22:14:18 - cmdstanpy - INFO - Chain [1] start processing\n",
      "22:14:24 - cmdstanpy - INFO - Chain [1] done processing\n"
     ]
    },
    {
     "name": "stdout",
     "output_type": "stream",
     "text": [
      "100233\n"
     ]
    },
    {
     "name": "stderr",
     "output_type": "stream",
     "text": [
      "22:14:26 - cmdstanpy - INFO - Chain [1] start processing\n",
      "22:14:27 - cmdstanpy - INFO - Chain [1] done processing\n"
     ]
    },
    {
     "name": "stdout",
     "output_type": "stream",
     "text": [
      "100830\n"
     ]
    },
    {
     "name": "stderr",
     "output_type": "stream",
     "text": [
      "22:14:29 - cmdstanpy - INFO - Chain [1] start processing\n",
      "22:14:31 - cmdstanpy - INFO - Chain [1] done processing\n"
     ]
    },
    {
     "name": "stdout",
     "output_type": "stream",
     "text": [
      "139536\n"
     ]
    },
    {
     "name": "stderr",
     "output_type": "stream",
     "text": [
      "22:14:33 - cmdstanpy - INFO - Chain [1] start processing\n",
      "22:14:35 - cmdstanpy - INFO - Chain [1] done processing\n"
     ]
    },
    {
     "name": "stdout",
     "output_type": "stream",
     "text": [
      "102173\n"
     ]
    },
    {
     "name": "stderr",
     "output_type": "stream",
     "text": [
      "22:14:38 - cmdstanpy - INFO - Chain [1] start processing\n",
      "22:14:40 - cmdstanpy - INFO - Chain [1] done processing\n"
     ]
    },
    {
     "name": "stdout",
     "output_type": "stream",
     "text": [
      "103735\n"
     ]
    },
    {
     "name": "stderr",
     "output_type": "stream",
     "text": [
      "22:14:42 - cmdstanpy - INFO - Chain [1] start processing\n",
      "22:14:43 - cmdstanpy - INFO - Chain [1] done processing\n"
     ]
    },
    {
     "name": "stdout",
     "output_type": "stream",
     "text": [
      "133488\n"
     ]
    },
    {
     "name": "stderr",
     "output_type": "stream",
     "text": [
      "22:14:46 - cmdstanpy - INFO - Chain [1] start processing\n",
      "22:14:47 - cmdstanpy - INFO - Chain [1] done processing\n"
     ]
    },
    {
     "name": "stdout",
     "output_type": "stream",
     "text": [
      "100685\n"
     ]
    },
    {
     "name": "stderr",
     "output_type": "stream",
     "text": [
      "22:14:49 - cmdstanpy - INFO - Chain [1] start processing\n",
      "22:14:51 - cmdstanpy - INFO - Chain [1] done processing\n"
     ]
    },
    {
     "name": "stdout",
     "output_type": "stream",
     "text": [
      "100490\n"
     ]
    },
    {
     "name": "stderr",
     "output_type": "stream",
     "text": [
      "22:14:53 - cmdstanpy - INFO - Chain [1] start processing\n",
      "22:14:56 - cmdstanpy - INFO - Chain [1] done processing\n"
     ]
    },
    {
     "name": "stdout",
     "output_type": "stream",
     "text": [
      "113250\n"
     ]
    },
    {
     "name": "stderr",
     "output_type": "stream",
     "text": [
      "22:14:58 - cmdstanpy - INFO - Chain [1] start processing\n",
      "22:15:02 - cmdstanpy - INFO - Chain [1] done processing\n"
     ]
    },
    {
     "name": "stdout",
     "output_type": "stream",
     "text": [
      "100834\n",
      "101700\n"
     ]
    },
    {
     "name": "stderr",
     "output_type": "stream",
     "text": [
      "22:15:06 - cmdstanpy - INFO - Chain [1] start processing\n",
      "22:15:07 - cmdstanpy - INFO - Chain [1] done processing\n"
     ]
    },
    {
     "name": "stdout",
     "output_type": "stream",
     "text": [
      "100417\n"
     ]
    },
    {
     "name": "stderr",
     "output_type": "stream",
     "text": [
      "22:15:09 - cmdstanpy - INFO - Chain [1] start processing\n",
      "22:15:11 - cmdstanpy - INFO - Chain [1] done processing\n"
     ]
    },
    {
     "name": "stdout",
     "output_type": "stream",
     "text": [
      "101587\n"
     ]
    },
    {
     "name": "stderr",
     "output_type": "stream",
     "text": [
      "22:15:13 - cmdstanpy - INFO - Chain [1] start processing\n",
      "22:15:14 - cmdstanpy - INFO - Chain [1] done processing\n"
     ]
    },
    {
     "name": "stdout",
     "output_type": "stream",
     "text": [
      "100498\n"
     ]
    },
    {
     "name": "stderr",
     "output_type": "stream",
     "text": [
      "22:15:16 - cmdstanpy - INFO - Chain [1] start processing\n",
      "22:15:18 - cmdstanpy - INFO - Chain [1] done processing\n"
     ]
    },
    {
     "name": "stdout",
     "output_type": "stream",
     "text": [
      "101084\n"
     ]
    },
    {
     "name": "stderr",
     "output_type": "stream",
     "text": [
      "22:15:21 - cmdstanpy - INFO - Chain [1] start processing\n",
      "22:15:21 - cmdstanpy - INFO - Chain [1] done processing\n"
     ]
    },
    {
     "name": "stdout",
     "output_type": "stream",
     "text": [
      "107693\n",
      "100934\n"
     ]
    },
    {
     "name": "stderr",
     "output_type": "stream",
     "text": [
      "22:15:24 - cmdstanpy - INFO - Chain [1] start processing\n",
      "22:15:26 - cmdstanpy - INFO - Chain [1] done processing\n"
     ]
    },
    {
     "name": "stdout",
     "output_type": "stream",
     "text": [
      "102054\n"
     ]
    },
    {
     "name": "stderr",
     "output_type": "stream",
     "text": [
      "22:15:28 - cmdstanpy - INFO - Chain [1] start processing\n",
      "22:15:32 - cmdstanpy - INFO - Chain [1] done processing\n"
     ]
    },
    {
     "name": "stdout",
     "output_type": "stream",
     "text": [
      "101221\n"
     ]
    },
    {
     "name": "stderr",
     "output_type": "stream",
     "text": [
      "22:15:34 - cmdstanpy - INFO - Chain [1] start processing\n",
      "22:15:36 - cmdstanpy - INFO - Chain [1] done processing\n"
     ]
    },
    {
     "name": "stdout",
     "output_type": "stream",
     "text": [
      "115400\n"
     ]
    },
    {
     "name": "stderr",
     "output_type": "stream",
     "text": [
      "22:15:38 - cmdstanpy - INFO - Chain [1] start processing\n",
      "22:15:39 - cmdstanpy - INFO - Chain [1] done processing\n"
     ]
    },
    {
     "name": "stdout",
     "output_type": "stream",
     "text": [
      "100742\n"
     ]
    },
    {
     "name": "stderr",
     "output_type": "stream",
     "text": [
      "22:15:42 - cmdstanpy - INFO - Chain [1] start processing\n",
      "22:15:44 - cmdstanpy - INFO - Chain [1] done processing\n"
     ]
    },
    {
     "name": "stdout",
     "output_type": "stream",
     "text": [
      "101165\n"
     ]
    },
    {
     "name": "stderr",
     "output_type": "stream",
     "text": [
      "22:15:46 - cmdstanpy - INFO - Chain [1] start processing\n",
      "22:15:48 - cmdstanpy - INFO - Chain [1] done processing\n"
     ]
    },
    {
     "name": "stdout",
     "output_type": "stream",
     "text": [
      "103734\n"
     ]
    },
    {
     "data": {
      "text/plain": [
       "{101094.0: 46.43610498563169,\n",
       " 109264.0: 0.13876800418524127,\n",
       " 100477.0: 15.35910802382887,\n",
       " 100065.0: 6.187502190226968,\n",
       " 109255.0: -0.08677308053701704,\n",
       " 101551.0: 9.265841245967765,\n",
       " 101095.0: 46.60439870347,\n",
       " 111585.0: 5.483636722458685,\n",
       " 100684.0: 11.599835388938606,\n",
       " 110606.0: 15.100007112694946,\n",
       " 100999.0: 6.719602141324343,\n",
       " 100254.0: 12.606965365563362,\n",
       " 100614.0: 6.393776133564066,\n",
       " 100315.0: 5.602814298426462,\n",
       " 100218.0: -2.5701905002203818,\n",
       " 101672.0: 14.922681707470996,\n",
       " 115399.0: 0.061784951022758605,\n",
       " 100682.0: 9.192097877347894,\n",
       " 100494.0: 2.7175098398876774,\n",
       " 100363.0: 8.02369219900585,\n",
       " 100387.0: 5.739743944713971,\n",
       " 101160.0: -1.0,\n",
       " 101169.0: 8.208599257045602,\n",
       " 101206.0: 3.3786380001595617,\n",
       " 102201.0: 2.2348537874699925,\n",
       " 100787.0: 2.7219110325761964,\n",
       " 100881.0: 0.7030242425035915,\n",
       " 101003.0: 5.959090324563787,\n",
       " 100318.0: 5.6890519367388315,\n",
       " 100047.0: 3.7176884838771462,\n",
       " 101209.0: 20.234636934595596,\n",
       " 100064.0: 7.510324400000834,\n",
       " 100355.0: 10.45143716912602,\n",
       " 100651.0: 9.412438520002485,\n",
       " 113104.0: -0.10639832756026424,\n",
       " 100609.0: 3.095893877931011,\n",
       " 100476.0: 17.19364106081036,\n",
       " 100369.0: 5.131697506429211,\n",
       " 119334.0: 5.1155980420397595,\n",
       " 113251.0: 3.5326205459031534,\n",
       " 120491.0: 13.240332530985688,\n",
       " 115401.0: 0.03376155941083869,\n",
       " 113102.0: -0.0549505151888674,\n",
       " 120488.0: 13.475140590725342,\n",
       " 102677.0: -0.21490992547190668,\n",
       " 100956.0: 58.267212496559,\n",
       " 110608.0: 15.109523911667178,\n",
       " 103052.0: 0.24220979830609224,\n",
       " 109269.0: 4.698994981261961,\n",
       " 114630.0: 3.161605210398055,\n",
       " 100312.0: 9.169796387834861,\n",
       " 100650.0: 6.510437014088222,\n",
       " 118069.0: 7.607903217530798,\n",
       " 100321.0: -0.6183889243881469,\n",
       " 101185.0: 3.618917040102243,\n",
       " 100669.0: 5.841314995570923,\n",
       " 100606.0: -100.0,\n",
       " 107288.0: 12.832230395909505,\n",
       " 100657.0: 8.412097163890152,\n",
       " 100365.0: 4.472433233425965,\n",
       " 100317.0: 5.436958178265283,\n",
       " 101599.0: 3.227265974518101,\n",
       " 102055.0: 5.220133081661249,\n",
       " 101186.0: 4.228906969537238,\n",
       " 102851.0: 6.058155775590857,\n",
       " 100325.0: 5.427151226612081,\n",
       " 100646.0: 5.448988435105706,\n",
       " 100483.0: 17.536943926877235,\n",
       " 100220.0: 15.3603075094926,\n",
       " 101929.0: 5.414658639224412,\n",
       " 115402.0: 0.06468808285691185,\n",
       " 100089.0: 0.6849565696716464,\n",
       " 101600.0: 3.199072781322898,\n",
       " 100316.0: 6.030867735939394,\n",
       " 100678.0: 7.772769393508949,\n",
       " 100874.0: -0.04316480447550397,\n",
       " 101365.0: 5.312039868246554,\n",
       " 100386.0: 2.9936396679878463,\n",
       " 111709.0: 19.443864091758822,\n",
       " 100853.0: -0.060958675473710144,\n",
       " 100470.0: 4.469767424680349,\n",
       " 102261.0: 2.610651621521276,\n",
       " 100496.0: 13.622947561874522,\n",
       " 103736.0: 0.0061852433375531035,\n",
       " 108479.0: 8.301091806500583,\n",
       " 115290.0: 13.47329393605139,\n",
       " 100648.0: -0.45790455159335774,\n",
       " 100873.0: 4.81548851221163,\n",
       " 101743.0: -1.4231240382900467,\n",
       " 115992.0: 0.0003277720405536755,\n",
       " 101699.0: 6.698676245356516,\n",
       " 113249.0: 5.4601146502410325,\n",
       " 101864.0: 6.1292731847140125,\n",
       " 100622.0: 0.5314734197530369,\n",
       " 101933.0: 7.318451790023861,\n",
       " 101224.0: 4.437056836834508,\n",
       " 100725.0: 2.607100241567095,\n",
       " 101694.0: -4.589448019357867,\n",
       " 100372.0: -0.5717171120568576,\n",
       " 100621.0: 0.8803722904709987,\n",
       " 100504.0: 6.280183236776216,\n",
       " 101619.0: 4.87291556102345,\n",
       " 100620.0: 0.12469536480803622,\n",
       " 100052.0: 0.00608607142813522,\n",
       " 100943.0: 0.0019029931626279861,\n",
       " 113063.0: 7.496772014203179,\n",
       " 103051.0: 0.23549311836379427,\n",
       " 100971.0: 0.9947366071057617,\n",
       " 100484.0: 9.908553104806806,\n",
       " 100360.0: -0.5355428113525962,\n",
       " 100859.0: 5.415333447285864,\n",
       " 100608.0: 2.7652831948095313,\n",
       " 100613.0: -10.536338079163576,\n",
       " 100623.0: -1.3367663839594202,\n",
       " 100748.0: -47.50837300476923,\n",
       " 117141.0: -42.652540630664916,\n",
       " 103048.0: 4.00219652788647,\n",
       " 100644.0: 18.921766443340495,\n",
       " 100480.0: 13.767208909688367,\n",
       " 100041.0: -0.13534618714216018,\n",
       " 102676.0: -0.22342647813784478,\n",
       " 100487.0: -1.2148416977970533,\n",
       " 101691.0: 6.003749705627737,\n",
       " 100954.0: 1.1401475128650862,\n",
       " 100803.0: 118.76325118786295,\n",
       " 101481.0: 4.850158806701921,\n",
       " 101098.0: 6.930580129968944,\n",
       " 113096.0: 3.3797405224047283,\n",
       " 100049.0: 0.12938847380541407,\n",
       " 101698.0: 0.01101568256653973,\n",
       " 101314.0: 8.602213796677095,\n",
       " 119415.0: 4.657512311105028,\n",
       " 100503.0: 6.288166935530404,\n",
       " 101229.0: -0.6042986943955664,\n",
       " 102675.0: 0.2625673689065744,\n",
       " 101482.0: -0.07798910566160222,\n",
       " 100781.0: 3.9984378503631346,\n",
       " 142245.0: -1.0,\n",
       " 100485.0: 4.465602617536146,\n",
       " 100285.0: -1.0,\n",
       " 100351.0: 5.852649862186388,\n",
       " 100875.0: -0.025226679810275154,\n",
       " 100370.0: -0.4987314442969737,\n",
       " 101667.0: 0.4759818016408346,\n",
       " 100968.0: 7.535082794517289,\n",
       " 100087.0: 4.3121560424567384,\n",
       " 104489.0: -0.028134736422635864,\n",
       " 104635.0: 3.375710577790869,\n",
       " 101295.0: 10.277292658030834,\n",
       " 100055.0: 5.454995686322328,\n",
       " 112214.0: -19.092827151624792,\n",
       " 100495.0: 3.2593121146709647,\n",
       " 102065.0: 7.199906811619772,\n",
       " 100353.0: 8.843863285633557,\n",
       " 115398.0: 3.995790514497033,\n",
       " 100475.0: 11.664466069165403,\n",
       " 100749.0: -49.2011394610764,\n",
       " 101318.0: 0.6695422039316945,\n",
       " 100122.0: 9.044505010307269,\n",
       " 100782.0: 1.1310210541574772,\n",
       " 100740.0: 10.671696616606784,\n",
       " 100059.0: -72.47678715587334,\n",
       " 100499.0: 5.818199288024495,\n",
       " 100899.0: 6.3900653505143845,\n",
       " 101282.0: 8.87276342407124,\n",
       " 102753.0: 6.667963269323152,\n",
       " 100751.0: 4.7963951035297825,\n",
       " 101127.0: 11.610511956417714,\n",
       " 100291.0: 3.95722156503997,\n",
       " 100610.0: 3.2517335995843943,\n",
       " 100051.0: -0.115763186155593,\n",
       " 100472.0: 6.668103728132269,\n",
       " 102431.0: 18.301532668951737,\n",
       " 100780.0: -0.464385715040494,\n",
       " 100786.0: 3.126756319699675,\n",
       " 101042.0: 5.8920792940400535,\n",
       " 100593.0: 9.142550936134764,\n",
       " 100868.0: 3.5969271366106392,\n",
       " 101430.0: 5.578489990529101,\n",
       " 101692.0: 0.5829634218348589,\n",
       " 100829.0: 5.1715464151830925,\n",
       " 122390.0: 7.34379119909514,\n",
       " 100838.0: -0.0680356345119093,\n",
       " 125305.0: 8.204853769993715,\n",
       " 100723.0: 3.591087365489254,\n",
       " 101228.0: 12.313760288147634,\n",
       " 101351.0: 0.23950962537386822,\n",
       " 101001.0: 6.222873437938792,\n",
       " 100724.0: 3.6007353410413057,\n",
       " 111590.0: 5.695418267268182,\n",
       " 133839.0: 10.393055963413556,\n",
       " 101471.0: 13.385436740980673,\n",
       " 100952.0: 6.202234198694168,\n",
       " 122389.0: 11.203723310771775,\n",
       " 101951.0: 6.636638691937313,\n",
       " 100783.0: -64.93237166534458,\n",
       " 101605.0: 4.101162855653695,\n",
       " 100712.0: 316.74038335795336,\n",
       " 100123.0: 1.4682712964204203,\n",
       " 104726.0: 4.586340204659423,\n",
       " 100802.0: -138.7854024714895,\n",
       " 111589.0: 4.883998456828298,\n",
       " 100282.0: -1.0,\n",
       " 101081.0: -0.31401689096375307,\n",
       " 104488.0: 3.3608468979216655,\n",
       " 100711.0: -3.5001593241662965,\n",
       " 133517.0: 0.5094627888277525,\n",
       " 101696.0: 5.8351491177874415,\n",
       " 122388.0: 6.9039569235515685,\n",
       " 100418.0: 4.2171475991469975,\n",
       " 115270.0: 13.5092041574026,\n",
       " 101591.0: 6.661813109697179,\n",
       " 109942.0: -0.1738851178878842,\n",
       " 101315.0: 0.7990965847984199,\n",
       " 104728.0: 4.166343148181073,\n",
       " 100717.0: -1.0,\n",
       " 100084.0: 4.240056726623043,\n",
       " 100350.0: 11.371835622259452,\n",
       " 100645.0: 10.564844451704802,\n",
       " 100416.0: 2.516345798398123,\n",
       " 101000.0: -4.587743403393841,\n",
       " 101491.0: 9.349477017398966,\n",
       " 100497.0: 9.390795890939717,\n",
       " 101635.0: 16.331162513910733,\n",
       " 131579.0: 12.952585270952778,\n",
       " 100641.0: 3.707662485471852,\n",
       " 100474.0: 7.2513841353264885,\n",
       " 100664.0: 13.0969079879937,\n",
       " 101222.0: 4.1687595157739565,\n",
       " 100046.0: -0.14580886659075754,\n",
       " 112277.0: 0.18569996592043836,\n",
       " 100120.0: 10.616050130173482,\n",
       " 101083.0: 4.973504612904334,\n",
       " 102030.0: -1.0,\n",
       " 101593.0: 5.386758308668105,\n",
       " 124303.0: 4.367651021478336,\n",
       " 100915.0: 11.174691925991631,\n",
       " 102202.0: 2.233981836007004,\n",
       " 100053.0: -0.09374316125461135,\n",
       " 100970.0: 5.5474632081163655,\n",
       " 112680.0: 4.922670122770367,\n",
       " 100357.0: -0.08603481934199575,\n",
       " 102849.0: 5.5473076926243925,\n",
       " 101530.0: 10.751469773420297,\n",
       " 112369.0: -45.75607400950381,\n",
       " 101687.0: 18.394430367367963,\n",
       " 102752.0: 12.536991459180813,\n",
       " 100928.0: 8.042079561573123,\n",
       " 102262.0: 7.566833195140599,\n",
       " 100323.0: 9.969910757532418,\n",
       " 100063.0: 6.372951955659256,\n",
       " 112216.0: -63.4864232494564,\n",
       " 101742.0: 2.3423662170967363,\n",
       " 101350.0: 5.149436165176513,\n",
       " 104636.0: 13.740244659213552,\n",
       " 100301.0: 6.047289075982043,\n",
       " 100656.0: 8.623565770945362,\n",
       " 100663.0: 13.126213659728926,\n",
       " 101480.0: -1.0,\n",
       " 124233.0: 4.439472131570121,\n",
       " 101934.0: 6.211812300877462,\n",
       " 100917.0: -1.0,\n",
       " 119340.0: 3.6026392986530986,\n",
       " 119399.0: 1.1256502159235238,\n",
       " 100082.0: 10.808169778600906,\n",
       " 101281.0: 9.72969462337514,\n",
       " 101597.0: -1.4773848961309621,\n",
       " 100639.0: 5.574573713491082,\n",
       " 100941.0: 0.014041745551174323,\n",
       " 102260.0: 2.255416354935691,\n",
       " 100953.0: 1.0665247784106713,\n",
       " 100086.0: 1.1489731039639572,\n",
       " 102066.0: 7.182547810053341,\n",
       " 100319.0: 5.460653644208557,\n",
       " 101049.0: 6.282534801501405,\n",
       " 101364.0: -0.07161316477840574,\n",
       " 122640.0: 13.395841499026595,\n",
       " 112322.0: -34.214485609678505,\n",
       " 102257.0: -1.582895564299358,\n",
       " 100278.0: -1.0,\n",
       " 139534.0: 0.012317814818385564,\n",
       " 113142.0: 6.331060114990827,\n",
       " 112712.0: 0.0001400874245494066,\n",
       " 104723.0: 3.61091100369062,\n",
       " 100617.0: 7.792400532959731,\n",
       " 119400.0: 5.297529586776917,\n",
       " 100081.0: 11.829494975148137,\n",
       " 112211.0: 4.317386603780449e-06,\n",
       " 112278.0: -39.20264150484067,\n",
       " 109938.0: -1.0,\n",
       " 139535.0: 4.892292452509506,\n",
       " 102061.0: 6.88904281450009,\n",
       " 100044.0: -0.14147130042202472,\n",
       " 139344.0: -1.0,\n",
       " 109945.0: 7.669230228679003,\n",
       " 101372.0: 0.06009744836201758,\n",
       " 100856.0: 5.438436291512483,\n",
       " 100929.0: 8.54191265550115,\n",
       " 101950.0: 6.6615347580900375,\n",
       " 102252.0: 14.226136368478093,\n",
       " 100292.0: 6.027341460475211,\n",
       " 107589.0: 22.488052707656703,\n",
       " 133838.0: 6.478305974289511,\n",
       " 101547.0: 5.080711076498523,\n",
       " 119416.0: 0.03080413516671765,\n",
       " 100927.0: 7.608444577790907,\n",
       " 100602.0: 3.3292850517211425,\n",
       " 101548.0: 5.001990423281355,\n",
       " 100668.0: 4.813087484669687,\n",
       " 100597.0: 5.766359830130208,\n",
       " 109940.0: 4.764477032887937,\n",
       " 100359.0: -0.029204688970174697,\n",
       " 104492.0: 0.017695976279519243,\n",
       " 139538.0: 5.151633307789694,\n",
       " 104725.0: -0.24261702810642882,\n",
       " 100383.0: 0.6893786014560366,\n",
       " 125711.0: 13.780126471975995,\n",
       " 100048.0: -0.10221263339147413,\n",
       " 101361.0: 1.8579258506611573,\n",
       " 100262.0: 5.3591848984670065,\n",
       " 100175.0: 16.38573708760007,\n",
       " 101065.0: 18.779590122365143,\n",
       " 112213.0: 0.035625888560963936,\n",
       " 100601.0: 6.186063869935077,\n",
       " 101805.0: 4.419026999396802,\n",
       " 100264.0: 5.038757231324764,\n",
       " 101862.0: 10.537865467627539,\n",
       " 100630.0: 15.312951165950262,\n",
       " 101693.0: -14.303600848211317,\n",
       " 100348.0: 9.739108616123925,\n",
       " 100364.0: -1.6311783059100304,\n",
       " 104485.0: 0.46212004722885336,\n",
       " 100604.0: 9.807190846010382,\n",
       " 100038.0: 4.613132157879485,\n",
       " 113036.0: 4.4402480734849314,\n",
       " 109950.0: -0.00680795574572457,\n",
       " 113062.0: 7.596253802077735,\n",
       " 103490.0: 9.373353608887292,\n",
       " 100600.0: -3.2359914354395447,\n",
       " 109941.0: 108.11702908995117,\n",
       " 100354.0: 10.579279722867852,\n",
       " 100290.0: 15.41856183739252,\n",
       " 140463.0: 1.0625806742602606,\n",
       " 100366.0: 0.33397405538797553,\n",
       " 100836.0: 0.0,\n",
       " 100414.0: 9.625360694001618,\n",
       " 100998.0: 8.500993527885692,\n",
       " 115991.0: 4.188651909126251,\n",
       " 100289.0: 12.952460570512425,\n",
       " 100832.0: 17.709380559745846,\n",
       " 124305.0: 4.474023432542906,\n",
       " 102172.0: 6.6883692619367885,\n",
       " 100172.0: 4.45127069641249,\n",
       " 100173.0: 4.4456141670695,\n",
       " 112679.0: 6.403134623882045,\n",
       " 100590.0: -243.51721505865368,\n",
       " 109946.0: 5.106770883858891,\n",
       " 100481.0: 16.18290509566469,\n",
       " 100489.0: 3.0242346011509103,\n",
       " 100174.0: 17.527640577510304,\n",
       " 101066.0: 18.77769861670373,\n",
       " 100643.0: 8.58565912860274,\n",
       " 109939.0: -0.2636519521358349,\n",
       " 100367.0: 0.9295907230301603,\n",
       " 100171.0: 4.441461007530734,\n",
       " 100176.0: 16.973697847573987,\n",
       " 100631.0: 14.719135014713714,\n",
       " 101362.0: 5.428927639388048,\n",
       " 112682.0: -100.0,\n",
       " 101363.0: -0.07890015771102599,\n",
       " 100088.0: 1.4092755033761728,\n",
       " 100870.0: -1.0,\n",
       " 101702.0: 30.596733420025977,\n",
       " 100362.0: 5.673538234491926,\n",
       " 107657.0: -1.3758861796154043,\n",
       " 102751.0: 12.48646232373165,\n",
       " 100611.0: 5.394792014434668,\n",
       " 100037.0: 0.615147167012764,\n",
       " 107648.0: 5.48909138246505,\n",
       " 101304.0: 3.9591245285012677,\n",
       " 109936.0: 19.81961490906363,\n",
       " 100876.0: -0.03290762354343224,\n",
       " 103491.0: 9.37769541881237,\n",
       " 100612.0: 107.69692415136873,\n",
       " 115995.0: 0.057832810152746994,\n",
       " 116424.0: 4.515652964934969,\n",
       " 107646.0: 5.502233858335348,\n",
       " 135601.0: 8.873432653757774,\n",
       " 100062.0: -1.6387055245649762,\n",
       " 119333.0: 9.62126428595036,\n",
       " 100283.0: -1.0,\n",
       " 100281.0: 4.638627619378366,\n",
       " 139539.0: 2.9398043148407327,\n",
       " 100589.0: 47.486473117129634,\n",
       " 101697.0: 0.0,\n",
       " 104490.0: 19.243812259426175,\n",
       " 100222.0: 4.888324350705164,\n",
       " 101589.0: 1.1137964774466935,\n",
       " 101636.0: 11.731520356009817,\n",
       " 100482.0: 16.078607538863523,\n",
       " 100871.0: -1.0,\n",
       " 135600.0: 3.1869367237356006,\n",
       " 101932.0: 6.210905676649148,\n",
       " 100784.0: 3.9873145732580717,\n",
       " 100491.0: 4.478573939378605,\n",
       " 100279.0: -1.0,\n",
       " 101113.0: -2.978100213746171,\n",
       " 101114.0: 1.3212696586252237,\n",
       " 100801.0: 48.784309528180515,\n",
       " 100119.0: 13.679361129805034,\n",
       " 100997.0: 3.1233872974059995,\n",
       " 100286.0: 11.007399035609055,\n",
       " 100831.0: 18.79326196352249,\n",
       " 118484.0: 11.72008511703444,\n",
       " 125306.0: 1.6631193537295808,\n",
       " 100358.0: 9.937164579526293,\n",
       " 100298.0: 4.9834795811099175,\n",
       " 100299.0: 4.377567236748292,\n",
       " 101922.0: 11.162575048404877,\n",
       " 100085.0: 0.9900928968060052,\n",
       " 101303.0: 0.2894773743500556,\n",
       " 102251.0: 7.191693012724265,\n",
       " 101231.0: 5.06059177566438,\n",
       " 100280.0: 0.797775400036671,\n",
       " 133836.0: 9.992389912804933,\n",
       " 101935.0: 3.7785266302375886,\n",
       " 100067.0: 3.745582677265591,\n",
       " 112323.0: 2.5757359008874214,\n",
       " 112683.0: 3.927596665543742,\n",
       " 133520.0: 3.468323447934818,\n",
       " 100596.0: 2.230148724973624,\n",
       " 100079.0: 0.24204675723988878,\n",
       " 100121.0: 6.804286039365781,\n",
       " 100361.0: 11.86987849800698,\n",
       " 101349.0: 9.52876408356651,\n",
       " 101618.0: 0.41442468531631693,\n",
       " 112648.0: 0.15238561869679312,\n",
       " 133837.0: 7.140427365846369,\n",
       " 101317.0: 4.4345334748427945,\n",
       " 100080.0: 15.368314360503721,\n",
       " 100352.0: 8.343792625440404,\n",
       " 115994.0: 0.0033138148968658854,\n",
       " 104483.0: -0.04151780423071738,\n",
       " 100865.0: 9.919570274974788,\n",
       " 103050.0: 0.2384701102388309,\n",
       " 100042.0: 3.728967428222796,\n",
       " 142246.0: -1.0,\n",
       " 109935.0: -0.7957439750634565,\n",
       " 100261.0: 1.6088276737389995,\n",
       " 100835.0: 3.5852770319980243,\n",
       " 139537.0: 5.089211376426528,\n",
       " 107649.0: 1.0236385898368727,\n",
       " 102433.0: 14.626430688459724,\n",
       " 101609.0: 5.386605854387305,\n",
       " 100034.0: 2.8474672017193337,\n",
       " 100058.0: 5.070596161680574,\n",
       " 111710.0: 19.545402169285353,\n",
       " 109934.0: -0.2813392343970711,\n",
       " 103780.0: 4.096866374328467,\n",
       " 100263.0: 1.3475613496173766,\n",
       " 107647.0: 5.496975119983261,\n",
       " 120086.0: -0.21581056664446985,\n",
       " 100638.0: 6.381764436598614,\n",
       " 100077.0: 0.562504282399301,\n",
       " 101685.0: 4.806461937007711,\n",
       " 104727.0: 5.423786109713014,\n",
       " 112645.0: 22.723304072273585,\n",
       " 135599.0: 2.29520788920905,\n",
       " 100640.0: 5.587907959750571,\n",
       " 102058.0: 0.0,\n",
       " 100057.0: 1.7238554449233723,\n",
       " 101316.0: 4.441686136117307,\n",
       " 143603.0: 0.7157475398220425,\n",
       " 100828.0: -0.28813240650112926,\n",
       " 112408.0: 2.2224160297165563,\n",
       " 102848.0: 8.174307163738659,\n",
       " 100381.0: 44.436991636322645,\n",
       " 112212.0: -0.08739834562417892,\n",
       " 100078.0: 3.9602524152699603,\n",
       " 100385.0: 1.6739556482658458,\n",
       " 116484.0: -0.26424724984275283,\n",
       " 100619.0: 0.16789958693728124,\n",
       " 100750.0: 4.12341000812233,\n",
       " 100800.0: 48.10772532019823,\n",
       " 101313.0: 13.682989054131923,\n",
       " 119354.0: 12.601650799271823,\n",
       " 100124.0: 5.214577029646672,\n",
       " 113252.0: 0.2775636284348737,\n",
       " 113253.0: 0.4831864544173614,\n",
       " 104729.0: 4.285548689003216,\n",
       " 100265.0: 4.64772443801682,\n",
       " 100837.0: 3.188046559889357,\n",
       " 100043.0: 3.7228115910628468,\n",
       " 112210.0: 4.064859556953682,\n",
       " 101588.0: 4.799255489628673,\n",
       " 107656.0: 5.456562485018135,\n",
       " 112647.0: 22.31772330814856,\n",
       " 101952.0: 6.733925386895656,\n",
       " 100415.0: 9.145074535231213,\n",
       " 112681.0: -100.0,\n",
       " 100940.0: 5.182439264370764,\n",
       " 101306.0: 0.5344705073101919,\n",
       " 101744.0: -0.4065623237097804,\n",
       " 100356.0: 11.825973754310603,\n",
       " 101144.0: 10.909342502890507,\n",
       " 101659.0: 10.153384656075225,\n",
       " 100061.0: 4.534994750972254,\n",
       " 112684.0: -100.0,\n",
       " 101431.0: 0.16526842431814348,\n",
       " 101594.0: 12.197879641406907,\n",
       " 101686.0: 0.7688940690678603,\n",
       " 101688.0: 19.718813272453374,\n",
       " 120084.0: 5.480240394607128,\n",
       " 100177.0: 16.936527554754434,\n",
       " 113254.0: -0.3380937838953768,\n",
       " 104484.0: 0.03757353727629198,\n",
       " 104486.0: 3.715148651287903,\n",
       " 100313.0: 10.37986598979792,\n",
       " 100851.0: 3.6108268061866733,\n",
       " 100603.0: 2.963606394675322,\n",
       " 100607.0: -100.0,\n",
       " 100785.0: 3.3373148919393136,\n",
       " 100033.0: 8.25946077865698,\n",
       " 102259.0: 4.879488316613356,\n",
       " 122612.0: 5.034456493070372,\n",
       " 101184.0: -2.9778161560829686,\n",
       " 100858.0: 1.650342667310012,\n",
       " 101606.0: 5.909680788281935,\n",
       " 112217.0: -63.62775598770432,\n",
       " 109937.0: -0.3271992560327619,\n",
       " 109949.0: 5.55385364172396,\n",
       " 100869.0: -1.0,\n",
       " 100368.0: 2.8010867455044552,\n",
       " 113103.0: -0.02872681315315706,\n",
       " 100833.0: 0.01897785148301523,\n",
       " 101305.0: 0.2580914374783916,\n",
       " 101701.0: 3.736614454093745,\n",
       " 102258.0: -1.809356930930961,\n",
       " 101617.0: 0.42733153281981906,\n",
       " 114633.0: 4.131633223848397,\n",
       " 116485.0: 4.836555818357935,\n",
       " 138254.0: -0.6945043108877669,\n",
       " 100493.0: 4.27308510259361,\n",
       " 105024.0: 1.005435336981364,\n",
       " 100382.0: 44.901500496975984,\n",
       " 100054.0: -0.41731717426538584,\n",
       " 101598.0: -5.736538171268812,\n",
       " 102056.0: 2.6482702016157544,\n",
       " 100056.0: -0.1729481058951765,\n",
       " 112215.0: -63.350314454115185,\n",
       " 100284.0: -1.0,\n",
       " 115993.0: -0.07768354099936259,\n",
       " 104724.0: 5.37295946724099,\n",
       " 145963.0: 0.0032963326718871144,\n",
       " 100066.0: 8.937237834564815,\n",
       " 100972.0: 6.773997939371856,\n",
       " 100473.0: 13.882968096901438,\n",
       " 100486.0: -2.5119724872632143,\n",
       " 101082.0: 5.364967665728404,\n",
       " 100955.0: -0.30083392914015405,\n",
       " 100314.0: 6.887558074393407,\n",
       " 100379.0: 14.598218149404385,\n",
       " 102673.0: 3.8572491562512523,\n",
       " 101419.0: 6.055262535207251,\n",
       " 100877.0: -0.11649596982762356,\n",
       " 100878.0: 0.05565282996853327,\n",
       " 100900.0: 10.765679096861058,\n",
       " 100371.0: 5.497084807166064,\n",
       " 125337.0: 0.03104895276802022,\n",
       " 100864.0: 8.113336554135575,\n",
       " 102174.0: 1.8626752781684353,\n",
       " 102432.0: 18.625611371083718,\n",
       " 100739.0: 10.36300132834409,\n",
       " 100741.0: 5.7220452171441005,\n",
       " 133518.0: 0.5272737099020652,\n",
       " 101665.0: 5.0985348222788,\n",
       " 100605.0: 21.288853036664037,\n",
       " 110607.0: 15.849825693983588,\n",
       " 100872.0: 5.584187561238574,\n",
       " 100349.0: 12.26872267796768,\n",
       " 100300.0: 4.490317261833332,\n",
       " 107579.0: 9.617879198246548,\n",
       " 101002.0: 5.8608180652407915,\n",
       " 102053.0: 5.260626771413324,\n",
       " 112354.0: -12.214078802997253,\n",
       " 101143.0: 8.802136545549555,\n",
       " 107578.0: 11.42879206140599,\n",
       " 135598.0: 8.341392605936226,\n",
       " 100618.0: 3.691580941983874,\n",
       " 100788.0: 2.62475692984383,\n",
       " 101489.0: 7.598535207482704,\n",
       " 100471.0: 10.840400199019395,\n",
       " 101230.0: -0.5226859563279951,\n",
       " 104491.0: 5.553299210202289,\n",
       " 100332.0: 9.102211974097862,\n",
       " 101490.0: 7.597030020550788,\n",
       " 100060.0: -2.5350154433898875,\n",
       " 112355.0: -46.55510594403567,\n",
       " 100090.0: -5.503565127875387,\n",
       " 109944.0: -1.9849173577290102,\n",
       " 104722.0: -0.813640332829757,\n",
       " 100233.0: 0.027924859161054805,\n",
       " 100830.0: 5.433781595215992,\n",
       " 139536.0: 0.027213114229929225,\n",
       " 102173.0: 1.7549120157397846,\n",
       " 103735.0: 0.025552066479184177,\n",
       " 133488.0: 5.965470313495325,\n",
       " 100685.0: 9.107231419307249,\n",
       " 100490.0: 4.469116725181355,\n",
       " 113250.0: 5.501416656130753,\n",
       " 100834.0: -0.09407646649080004,\n",
       " 101700.0: 0.0,\n",
       " 100417.0: 3.436315226949027,\n",
       " 101587.0: 0.9283635487644437,\n",
       " 100498.0: 4.735116397571715,\n",
       " 101084.0: 1.1673637910762258,\n",
       " 107693.0: 20.226854705246854,\n",
       " 100934.0: -1.0,\n",
       " 102054.0: 5.595128109231351,\n",
       " 101221.0: 4.877455452816704,\n",
       " 115400.0: 0.051237536241788284,\n",
       " 100742.0: 6.233375020829346,\n",
       " 101165.0: 0.0021733225246789445,\n",
       " 103734.0: 3.5231785744217703}"
      ]
     },
     "execution_count": 96,
     "metadata": {},
     "output_type": "execute_result"
    }
   ],
   "source": [
    "# Example usage:\n",
    "scheme_codes = [\n",
    "    101094, 109264, 100477, 100065, 109255, 101551, 101095, 111585, 100684, 110606,\n",
    "    100999, 100254, 100614, 100315, 100218, 101672, 115399, 100682, 100494, 100363,\n",
    "    100387, 101160, 101169, 101206, 102201, 100787, 100881, 101003, 100318, 100047,\n",
    "    101209, 100064, 100355, 100651, 113104, 100609, 100476, 100369, 119334, 113251,\n",
    "    120491, 115401, 113102, 120488, 102677, 100956, 110608, 103052, 109269, 114630,\n",
    "    100312, 100650, 118069, 100321, 101185, 100669, 100606, 107288, 100657, 100365,\n",
    "    100317, 101599, 102055, 101186, 102851, 100325, 100646, 100483, 100220, 101929,\n",
    "    115402, 100089, 101600, 100316, 100678, 100874, 101365, 100386, 111709, 100853,\n",
    "    100470, 102261, 100496, 103736, 108479, 115290, 100648, 100873, 101743, 115992,\n",
    "    101699, 113249, 101864, 100622, 101933, 101224, 100725, 101694, 100372, 100621,\n",
    "    100504, 101619, 100620, 100052, 100943, 113063, 103051, 100971, 100484, 100360,\n",
    "    100859, 100608, 100613, 100623, 100748, 117141, 103048, 100644, 100480, 100041,\n",
    "    102676, 100487, 101691, 100954, 100803, 101481, 101098, 113096, 100049, 101698,\n",
    "    101314, 119415, 100503, 101229, 102675, 101482, 100781, 142245, 100485, 100285,\n",
    "    100351, 100875, 100370, 101667, 100968, 100087, 104489, 104635, 101295, 100055,\n",
    "    112214, 100495, 102065, 100353, 115398, 100475, 100749, 101318, 100122, 100782,\n",
    "    100740, 100059, 100499, 100899, 101282, 102753, 100751, 101127, 100291, 100610,\n",
    "    100051, 100472, 102431, 100780, 100786, 101042, 100593, 100868, 101430, 101692,\n",
    "    100829, 122390, 100838, 125305, 100723, 101228, 101351, 101001, 100724, 111590,\n",
    "    133839, 101471, 100952, 122389, 101951, 100783, 101605, 100712, 100123, 104726,\n",
    "    100802, 111589, 100282, 101081, 104488, 100711, 133517, 101696, 122388, 100418,\n",
    "    115270, 101591, 109942, 101315, 104728, 100717, 100084, 100350, 100645, 100416,\n",
    "    101000, 101491, 100497, 101635, 131579, 100641, 100474, 100664, 101222, 100046,\n",
    "    112277, 100120, 101083, 102030, 101593, 124303, 100915, 102202, 100053, 100970,\n",
    "    112680, 100357, 102849, 101530, 112369, 101687, 102752, 100928, 102262, 100323,\n",
    "    100063, 112216, 101742, 101350, 104636, 100301, 100656, 100663, 101480, 124233,\n",
    "    101934, 100917, 119340, 119399, 100082, 101281, 101597, 100639, 100941, 102260,\n",
    "    100953, 100086, 102066, 100319, 101049, 101364, 122640, 112322, 102257, 100278,\n",
    "    139534, 113142, 112712, 104723, 100617, 119400, 100081, 112211, 112278, 109938,\n",
    "    139535, 102061, 100044, 139344, 109945, 101372, 100856, 100929, 101950, 102252,\n",
    "    100292, 107589, 133838, 101547, 119416, 100927, 100602, 101548, 100668, 100597,\n",
    "    109940, 100359, 104492, 139538, 104725, 100383, 125711, 100048, 101361, 100262,\n",
    "    100175, 101065, 112213, 100601, 101805, 100264, 101862, 100630, 101693, 100348,\n",
    "    100364, 104485, 100604, 100038, 113036, 109950, 113062, 103490, 100600, 109941,\n",
    "    100354, 100290, 140463, 100366, 100836, 100414, 100998, 115991, 100289, 100832,\n",
    "    124305, 102172, 100172, 100173, 112679, 100590, 109946, 100481, 100489, 100174,\n",
    "    101066, 100643, 109939, 100367, 100171, 100176, 100631, 101362, 112682, 101363,\n",
    "    100088, 100870, 101702, 100362, 107657, 102751, 100611, 100037, 107648, 101304,\n",
    "    109936, 100876, 103491, 100612, 115995, 116424, 107646, 135601, 100062, 119333,\n",
    "    100283, 100281, 139539, 100589, 101697, 104490, 100222, 101589, 101636, 100482,\n",
    "    100871, 135600, 101932, 100784, 100491, 100279, 101113, 101114, 100801, 100119,\n",
    "    100997, 100286, 100831, 118484, 125306, 100358, 100298, 100299, 101922, 100085,\n",
    "    101303, 102251, 101231, 100280, 133836, 101935, 100067, 112323, 112683, 133520,\n",
    "    100596, 100079, 100121, 100361, 101349, 101618, 112648, 133837, 101317, 100080,\n",
    "    100352, 115994, 104483, 100865, 103050, 100042, 142246, 109935, 100261, 100835,\n",
    "    139537, 107649, 102433, 101609, 100034, 100058, 111710, 109934, 103780, 100263,\n",
    "    107647, 120086, 100638, 100077, 101685, 104727, 112645, 135599, 100640, 102058,\n",
    "    100057, 101316, 143603, 100828, 112408, 102848, 100381, 112212, 100078, 100385,\n",
    "    116484, 100619, 100750, 100800, 101313, 119354, 100124, 113252, 113253, 104729,\n",
    "    100265, 100837, 100043, 112210, 101588, 107656, 112647, 101952, 100415, 112681,\n",
    "    100940, 101306, 101744, 100356, 101144, 101659, 100061, 112684, 101431, 101594,\n",
    "    101686, 101688, 120084, 100177, 113254, 104484, 104486, 100313, 100851, 100603,\n",
    "    100607, 100785, 100033, 102259, 122612, 101184, 100858, 101606, 112217, 109937,\n",
    "    109949, 100869, 100368, 113103, 100833, 101305, 101701, 102258, 101617, 114633,\n",
    "    116485, 138254, 100493, 105024, 100382, 100054, 101598, 102056, 100056, 112215,\n",
    "    100284, 115993, 104724, 145963, 100066, 100972, 100473, 100486, 101082, 100955,\n",
    "    100314, 100379, 102673, 101419, 100877, 100878, 100900, 100371, 125337, 100864,\n",
    "    102174, 102432, 100739, 100741, 133518, 101665, 100605, 110607, 100872, 100349,\n",
    "    100300, 107579, 101002, 102053, 112354, 101143, 107578, 135598, 100618, 100788,\n",
    "    101489, 100471, 101230, 104491, 100332, 101490, 100060, 112355, 100090, 109944,\n",
    "    104722, 100233, 100830, 139536, 102173, 103735, 133488, 100685, 100490, 113250,\n",
    "    100834, 101700, 100417, 101587, 100498, 101084, 107693, 100934, 102054, 101221,\n",
    "    115400, 100742, 101165, 103734\n",
    "]\n",
    "\n",
    "scores_df = calculate_scores_for_scheme_codes(scheme_codes,1)\n",
    "#print(scores_df)\n",
    "scores_df"
   ]
  },
  {
   "cell_type": "code",
   "execution_count": 97,
   "id": "b21e8890",
   "metadata": {},
   "outputs": [
    {
     "data": {
      "text/plain": [
       "{101094.0: 46.43610498563169,\n",
       " 109264.0: 0.13876800418524127,\n",
       " 100477.0: 15.35910802382887,\n",
       " 100065.0: 6.187502190226968,\n",
       " 109255.0: -0.08677308053701704,\n",
       " 101551.0: 9.265841245967765,\n",
       " 101095.0: 46.60439870347,\n",
       " 111585.0: 5.483636722458685,\n",
       " 100684.0: 11.599835388938606,\n",
       " 110606.0: 15.100007112694946,\n",
       " 100999.0: 6.719602141324343,\n",
       " 100254.0: 12.606965365563362,\n",
       " 100614.0: 6.393776133564066,\n",
       " 100315.0: 5.602814298426462,\n",
       " 100218.0: -2.5701905002203818,\n",
       " 101672.0: 14.922681707470996,\n",
       " 115399.0: 0.061784951022758605,\n",
       " 100682.0: 9.192097877347894,\n",
       " 100494.0: 2.7175098398876774,\n",
       " 100363.0: 8.02369219900585,\n",
       " 100387.0: 5.739743944713971,\n",
       " 101160.0: -1.0,\n",
       " 101169.0: 8.208599257045602,\n",
       " 101206.0: 3.3786380001595617,\n",
       " 102201.0: 2.2348537874699925,\n",
       " 100787.0: 2.7219110325761964,\n",
       " 100881.0: 0.7030242425035915,\n",
       " 101003.0: 5.959090324563787,\n",
       " 100318.0: 5.6890519367388315,\n",
       " 100047.0: 3.7176884838771462,\n",
       " 101209.0: 20.234636934595596,\n",
       " 100064.0: 7.510324400000834,\n",
       " 100355.0: 10.45143716912602,\n",
       " 100651.0: 9.412438520002485,\n",
       " 113104.0: -0.10639832756026424,\n",
       " 100609.0: 3.095893877931011,\n",
       " 100476.0: 17.19364106081036,\n",
       " 100369.0: 5.131697506429211,\n",
       " 119334.0: 5.1155980420397595,\n",
       " 113251.0: 3.5326205459031534,\n",
       " 120491.0: 13.240332530985688,\n",
       " 115401.0: 0.03376155941083869,\n",
       " 113102.0: -0.0549505151888674,\n",
       " 120488.0: 13.475140590725342,\n",
       " 102677.0: -0.21490992547190668,\n",
       " 100956.0: 58.267212496559,\n",
       " 110608.0: 15.109523911667178,\n",
       " 103052.0: 0.24220979830609224,\n",
       " 109269.0: 4.698994981261961,\n",
       " 114630.0: 3.161605210398055,\n",
       " 100312.0: 9.169796387834861,\n",
       " 100650.0: 6.510437014088222,\n",
       " 118069.0: 7.607903217530798,\n",
       " 100321.0: -0.6183889243881469,\n",
       " 101185.0: 3.618917040102243,\n",
       " 100669.0: 5.841314995570923,\n",
       " 100606.0: -100.0,\n",
       " 107288.0: 12.832230395909505,\n",
       " 100657.0: 8.412097163890152,\n",
       " 100365.0: 4.472433233425965,\n",
       " 100317.0: 5.436958178265283,\n",
       " 101599.0: 3.227265974518101,\n",
       " 102055.0: 5.220133081661249,\n",
       " 101186.0: 4.228906969537238,\n",
       " 102851.0: 6.058155775590857,\n",
       " 100325.0: 5.427151226612081,\n",
       " 100646.0: 5.448988435105706,\n",
       " 100483.0: 17.536943926877235,\n",
       " 100220.0: 15.3603075094926,\n",
       " 101929.0: 5.414658639224412,\n",
       " 115402.0: 0.06468808285691185,\n",
       " 100089.0: 0.6849565696716464,\n",
       " 101600.0: 3.199072781322898,\n",
       " 100316.0: 6.030867735939394,\n",
       " 100678.0: 7.772769393508949,\n",
       " 100874.0: -0.04316480447550397,\n",
       " 101365.0: 5.312039868246554,\n",
       " 100386.0: 2.9936396679878463,\n",
       " 111709.0: 19.443864091758822,\n",
       " 100853.0: -0.060958675473710144,\n",
       " 100470.0: 4.469767424680349,\n",
       " 102261.0: 2.610651621521276,\n",
       " 100496.0: 13.622947561874522,\n",
       " 103736.0: 0.0061852433375531035,\n",
       " 108479.0: 8.301091806500583,\n",
       " 115290.0: 13.47329393605139,\n",
       " 100648.0: -0.45790455159335774,\n",
       " 100873.0: 4.81548851221163,\n",
       " 101743.0: -1.4231240382900467,\n",
       " 115992.0: 0.0003277720405536755,\n",
       " 101699.0: 6.698676245356516,\n",
       " 113249.0: 5.4601146502410325,\n",
       " 101864.0: 6.1292731847140125,\n",
       " 100622.0: 0.5314734197530369,\n",
       " 101933.0: 7.318451790023861,\n",
       " 101224.0: 4.437056836834508,\n",
       " 100725.0: 2.607100241567095,\n",
       " 101694.0: -4.589448019357867,\n",
       " 100372.0: -0.5717171120568576,\n",
       " 100621.0: 0.8803722904709987,\n",
       " 100504.0: 6.280183236776216,\n",
       " 101619.0: 4.87291556102345,\n",
       " 100620.0: 0.12469536480803622,\n",
       " 100052.0: 0.00608607142813522,\n",
       " 100943.0: 0.0019029931626279861,\n",
       " 113063.0: 7.496772014203179,\n",
       " 103051.0: 0.23549311836379427,\n",
       " 100971.0: 0.9947366071057617,\n",
       " 100484.0: 9.908553104806806,\n",
       " 100360.0: -0.5355428113525962,\n",
       " 100859.0: 5.415333447285864,\n",
       " 100608.0: 2.7652831948095313,\n",
       " 100613.0: -10.536338079163576,\n",
       " 100623.0: -1.3367663839594202,\n",
       " 100748.0: -47.50837300476923,\n",
       " 117141.0: -42.652540630664916,\n",
       " 103048.0: 4.00219652788647,\n",
       " 100644.0: 18.921766443340495,\n",
       " 100480.0: 13.767208909688367,\n",
       " 100041.0: -0.13534618714216018,\n",
       " 102676.0: -0.22342647813784478,\n",
       " 100487.0: -1.2148416977970533,\n",
       " 101691.0: 6.003749705627737,\n",
       " 100954.0: 1.1401475128650862,\n",
       " 100803.0: 118.76325118786295,\n",
       " 101481.0: 4.850158806701921,\n",
       " 101098.0: 6.930580129968944,\n",
       " 113096.0: 3.3797405224047283,\n",
       " 100049.0: 0.12938847380541407,\n",
       " 101698.0: 0.01101568256653973,\n",
       " 101314.0: 8.602213796677095,\n",
       " 119415.0: 4.657512311105028,\n",
       " 100503.0: 6.288166935530404,\n",
       " 101229.0: -0.6042986943955664,\n",
       " 102675.0: 0.2625673689065744,\n",
       " 101482.0: -0.07798910566160222,\n",
       " 100781.0: 3.9984378503631346,\n",
       " 142245.0: -1.0,\n",
       " 100485.0: 4.465602617536146,\n",
       " 100285.0: -1.0,\n",
       " 100351.0: 5.852649862186388,\n",
       " 100875.0: -0.025226679810275154,\n",
       " 100370.0: -0.4987314442969737,\n",
       " 101667.0: 0.4759818016408346,\n",
       " 100968.0: 7.535082794517289,\n",
       " 100087.0: 4.3121560424567384,\n",
       " 104489.0: -0.028134736422635864,\n",
       " 104635.0: 3.375710577790869,\n",
       " 101295.0: 10.277292658030834,\n",
       " 100055.0: 5.454995686322328,\n",
       " 112214.0: -19.092827151624792,\n",
       " 100495.0: 3.2593121146709647,\n",
       " 102065.0: 7.199906811619772,\n",
       " 100353.0: 8.843863285633557,\n",
       " 115398.0: 3.995790514497033,\n",
       " 100475.0: 11.664466069165403,\n",
       " 100749.0: -49.2011394610764,\n",
       " 101318.0: 0.6695422039316945,\n",
       " 100122.0: 9.044505010307269,\n",
       " 100782.0: 1.1310210541574772,\n",
       " 100740.0: 10.671696616606784,\n",
       " 100059.0: -72.47678715587334,\n",
       " 100499.0: 5.818199288024495,\n",
       " 100899.0: 6.3900653505143845,\n",
       " 101282.0: 8.87276342407124,\n",
       " 102753.0: 6.667963269323152,\n",
       " 100751.0: 4.7963951035297825,\n",
       " 101127.0: 11.610511956417714,\n",
       " 100291.0: 3.95722156503997,\n",
       " 100610.0: 3.2517335995843943,\n",
       " 100051.0: -0.115763186155593,\n",
       " 100472.0: 6.668103728132269,\n",
       " 102431.0: 18.301532668951737,\n",
       " 100780.0: -0.464385715040494,\n",
       " 100786.0: 3.126756319699675,\n",
       " 101042.0: 5.8920792940400535,\n",
       " 100593.0: 9.142550936134764,\n",
       " 100868.0: 3.5969271366106392,\n",
       " 101430.0: 5.578489990529101,\n",
       " 101692.0: 0.5829634218348589,\n",
       " 100829.0: 5.1715464151830925,\n",
       " 122390.0: 7.34379119909514,\n",
       " 100838.0: -0.0680356345119093,\n",
       " 125305.0: 8.204853769993715,\n",
       " 100723.0: 3.591087365489254,\n",
       " 101228.0: 12.313760288147634,\n",
       " 101351.0: 0.23950962537386822,\n",
       " 101001.0: 6.222873437938792,\n",
       " 100724.0: 3.6007353410413057,\n",
       " 111590.0: 5.695418267268182,\n",
       " 133839.0: 10.393055963413556,\n",
       " 101471.0: 13.385436740980673,\n",
       " 100952.0: 6.202234198694168,\n",
       " 122389.0: 11.203723310771775,\n",
       " 101951.0: 6.636638691937313,\n",
       " 100783.0: -64.93237166534458,\n",
       " 101605.0: 4.101162855653695,\n",
       " 100712.0: 316.74038335795336,\n",
       " 100123.0: 1.4682712964204203,\n",
       " 104726.0: 4.586340204659423,\n",
       " 100802.0: -138.7854024714895,\n",
       " 111589.0: 4.883998456828298,\n",
       " 100282.0: -1.0,\n",
       " 101081.0: -0.31401689096375307,\n",
       " 104488.0: 3.3608468979216655,\n",
       " 100711.0: -3.5001593241662965,\n",
       " 133517.0: 0.5094627888277525,\n",
       " 101696.0: 5.8351491177874415,\n",
       " 122388.0: 6.9039569235515685,\n",
       " 100418.0: 4.2171475991469975,\n",
       " 115270.0: 13.5092041574026,\n",
       " 101591.0: 6.661813109697179,\n",
       " 109942.0: -0.1738851178878842,\n",
       " 101315.0: 0.7990965847984199,\n",
       " 104728.0: 4.166343148181073,\n",
       " 100717.0: -1.0,\n",
       " 100084.0: 4.240056726623043,\n",
       " 100350.0: 11.371835622259452,\n",
       " 100645.0: 10.564844451704802,\n",
       " 100416.0: 2.516345798398123,\n",
       " 101000.0: -4.587743403393841,\n",
       " 101491.0: 9.349477017398966,\n",
       " 100497.0: 9.390795890939717,\n",
       " 101635.0: 16.331162513910733,\n",
       " 131579.0: 12.952585270952778,\n",
       " 100641.0: 3.707662485471852,\n",
       " 100474.0: 7.2513841353264885,\n",
       " 100664.0: 13.0969079879937,\n",
       " 101222.0: 4.1687595157739565,\n",
       " 100046.0: -0.14580886659075754,\n",
       " 112277.0: 0.18569996592043836,\n",
       " 100120.0: 10.616050130173482,\n",
       " 101083.0: 4.973504612904334,\n",
       " 102030.0: -1.0,\n",
       " 101593.0: 5.386758308668105,\n",
       " 124303.0: 4.367651021478336,\n",
       " 100915.0: 11.174691925991631,\n",
       " 102202.0: 2.233981836007004,\n",
       " 100053.0: -0.09374316125461135,\n",
       " 100970.0: 5.5474632081163655,\n",
       " 112680.0: 4.922670122770367,\n",
       " 100357.0: -0.08603481934199575,\n",
       " 102849.0: 5.5473076926243925,\n",
       " 101530.0: 10.751469773420297,\n",
       " 112369.0: -45.75607400950381,\n",
       " 101687.0: 18.394430367367963,\n",
       " 102752.0: 12.536991459180813,\n",
       " 100928.0: 8.042079561573123,\n",
       " 102262.0: 7.566833195140599,\n",
       " 100323.0: 9.969910757532418,\n",
       " 100063.0: 6.372951955659256,\n",
       " 112216.0: -63.4864232494564,\n",
       " 101742.0: 2.3423662170967363,\n",
       " 101350.0: 5.149436165176513,\n",
       " 104636.0: 13.740244659213552,\n",
       " 100301.0: 6.047289075982043,\n",
       " 100656.0: 8.623565770945362,\n",
       " 100663.0: 13.126213659728926,\n",
       " 101480.0: -1.0,\n",
       " 124233.0: 4.439472131570121,\n",
       " 101934.0: 6.211812300877462,\n",
       " 100917.0: -1.0,\n",
       " 119340.0: 3.6026392986530986,\n",
       " 119399.0: 1.1256502159235238,\n",
       " 100082.0: 10.808169778600906,\n",
       " 101281.0: 9.72969462337514,\n",
       " 101597.0: -1.4773848961309621,\n",
       " 100639.0: 5.574573713491082,\n",
       " 100941.0: 0.014041745551174323,\n",
       " 102260.0: 2.255416354935691,\n",
       " 100953.0: 1.0665247784106713,\n",
       " 100086.0: 1.1489731039639572,\n",
       " 102066.0: 7.182547810053341,\n",
       " 100319.0: 5.460653644208557,\n",
       " 101049.0: 6.282534801501405,\n",
       " 101364.0: -0.07161316477840574,\n",
       " 122640.0: 13.395841499026595,\n",
       " 112322.0: -34.214485609678505,\n",
       " 102257.0: -1.582895564299358,\n",
       " 100278.0: -1.0,\n",
       " 139534.0: 0.012317814818385564,\n",
       " 113142.0: 6.331060114990827,\n",
       " 112712.0: 0.0001400874245494066,\n",
       " 104723.0: 3.61091100369062,\n",
       " 100617.0: 7.792400532959731,\n",
       " 119400.0: 5.297529586776917,\n",
       " 100081.0: 11.829494975148137,\n",
       " 112211.0: 4.317386603780449e-06,\n",
       " 112278.0: -39.20264150484067,\n",
       " 109938.0: -1.0,\n",
       " 139535.0: 4.892292452509506,\n",
       " 102061.0: 6.88904281450009,\n",
       " 100044.0: -0.14147130042202472,\n",
       " 139344.0: -1.0,\n",
       " 109945.0: 7.669230228679003,\n",
       " 101372.0: 0.06009744836201758,\n",
       " 100856.0: 5.438436291512483,\n",
       " 100929.0: 8.54191265550115,\n",
       " 101950.0: 6.6615347580900375,\n",
       " 102252.0: 14.226136368478093,\n",
       " 100292.0: 6.027341460475211,\n",
       " 107589.0: 22.488052707656703,\n",
       " 133838.0: 6.478305974289511,\n",
       " 101547.0: 5.080711076498523,\n",
       " 119416.0: 0.03080413516671765,\n",
       " 100927.0: 7.608444577790907,\n",
       " 100602.0: 3.3292850517211425,\n",
       " 101548.0: 5.001990423281355,\n",
       " 100668.0: 4.813087484669687,\n",
       " 100597.0: 5.766359830130208,\n",
       " 109940.0: 4.764477032887937,\n",
       " 100359.0: -0.029204688970174697,\n",
       " 104492.0: 0.017695976279519243,\n",
       " 139538.0: 5.151633307789694,\n",
       " 104725.0: -0.24261702810642882,\n",
       " 100383.0: 0.6893786014560366,\n",
       " 125711.0: 13.780126471975995,\n",
       " 100048.0: -0.10221263339147413,\n",
       " 101361.0: 1.8579258506611573,\n",
       " 100262.0: 5.3591848984670065,\n",
       " 100175.0: 16.38573708760007,\n",
       " 101065.0: 18.779590122365143,\n",
       " 112213.0: 0.035625888560963936,\n",
       " 100601.0: 6.186063869935077,\n",
       " 101805.0: 4.419026999396802,\n",
       " 100264.0: 5.038757231324764,\n",
       " 101862.0: 10.537865467627539,\n",
       " 100630.0: 15.312951165950262,\n",
       " 101693.0: -14.303600848211317,\n",
       " 100348.0: 9.739108616123925,\n",
       " 100364.0: -1.6311783059100304,\n",
       " 104485.0: 0.46212004722885336,\n",
       " 100604.0: 9.807190846010382,\n",
       " 100038.0: 4.613132157879485,\n",
       " 113036.0: 4.4402480734849314,\n",
       " 109950.0: -0.00680795574572457,\n",
       " 113062.0: 7.596253802077735,\n",
       " 103490.0: 9.373353608887292,\n",
       " 100600.0: -3.2359914354395447,\n",
       " 109941.0: 108.11702908995117,\n",
       " 100354.0: 10.579279722867852,\n",
       " 100290.0: 15.41856183739252,\n",
       " 140463.0: 1.0625806742602606,\n",
       " 100366.0: 0.33397405538797553,\n",
       " 100836.0: 0.0,\n",
       " 100414.0: 9.625360694001618,\n",
       " 100998.0: 8.500993527885692,\n",
       " 115991.0: 4.188651909126251,\n",
       " 100289.0: 12.952460570512425,\n",
       " 100832.0: 17.709380559745846,\n",
       " 124305.0: 4.474023432542906,\n",
       " 102172.0: 6.6883692619367885,\n",
       " 100172.0: 4.45127069641249,\n",
       " 100173.0: 4.4456141670695,\n",
       " 112679.0: 6.403134623882045,\n",
       " 100590.0: -243.51721505865368,\n",
       " 109946.0: 5.106770883858891,\n",
       " 100481.0: 16.18290509566469,\n",
       " 100489.0: 3.0242346011509103,\n",
       " 100174.0: 17.527640577510304,\n",
       " 101066.0: 18.77769861670373,\n",
       " 100643.0: 8.58565912860274,\n",
       " 109939.0: -0.2636519521358349,\n",
       " 100367.0: 0.9295907230301603,\n",
       " 100171.0: 4.441461007530734,\n",
       " 100176.0: 16.973697847573987,\n",
       " 100631.0: 14.719135014713714,\n",
       " 101362.0: 5.428927639388048,\n",
       " 112682.0: -100.0,\n",
       " 101363.0: -0.07890015771102599,\n",
       " 100088.0: 1.4092755033761728,\n",
       " 100870.0: -1.0,\n",
       " 101702.0: 30.596733420025977,\n",
       " 100362.0: 5.673538234491926,\n",
       " 107657.0: -1.3758861796154043,\n",
       " 102751.0: 12.48646232373165,\n",
       " 100611.0: 5.394792014434668,\n",
       " 100037.0: 0.615147167012764,\n",
       " 107648.0: 5.48909138246505,\n",
       " 101304.0: 3.9591245285012677,\n",
       " 109936.0: 19.81961490906363,\n",
       " 100876.0: -0.03290762354343224,\n",
       " 103491.0: 9.37769541881237,\n",
       " 100612.0: 107.69692415136873,\n",
       " 115995.0: 0.057832810152746994,\n",
       " 116424.0: 4.515652964934969,\n",
       " 107646.0: 5.502233858335348,\n",
       " 135601.0: 8.873432653757774,\n",
       " 100062.0: -1.6387055245649762,\n",
       " 119333.0: 9.62126428595036,\n",
       " 100283.0: -1.0,\n",
       " 100281.0: 4.638627619378366,\n",
       " 139539.0: 2.9398043148407327,\n",
       " 100589.0: 47.486473117129634,\n",
       " 101697.0: 0.0,\n",
       " 104490.0: 19.243812259426175,\n",
       " 100222.0: 4.888324350705164,\n",
       " 101589.0: 1.1137964774466935,\n",
       " 101636.0: 11.731520356009817,\n",
       " 100482.0: 16.078607538863523,\n",
       " 100871.0: -1.0,\n",
       " 135600.0: 3.1869367237356006,\n",
       " 101932.0: 6.210905676649148,\n",
       " 100784.0: 3.9873145732580717,\n",
       " 100491.0: 4.478573939378605,\n",
       " 100279.0: -1.0,\n",
       " 101113.0: -2.978100213746171,\n",
       " 101114.0: 1.3212696586252237,\n",
       " 100801.0: 48.784309528180515,\n",
       " 100119.0: 13.679361129805034,\n",
       " 100997.0: 3.1233872974059995,\n",
       " 100286.0: 11.007399035609055,\n",
       " 100831.0: 18.79326196352249,\n",
       " 118484.0: 11.72008511703444,\n",
       " 125306.0: 1.6631193537295808,\n",
       " 100358.0: 9.937164579526293,\n",
       " 100298.0: 4.9834795811099175,\n",
       " 100299.0: 4.377567236748292,\n",
       " 101922.0: 11.162575048404877,\n",
       " 100085.0: 0.9900928968060052,\n",
       " 101303.0: 0.2894773743500556,\n",
       " 102251.0: 7.191693012724265,\n",
       " 101231.0: 5.06059177566438,\n",
       " 100280.0: 0.797775400036671,\n",
       " 133836.0: 9.992389912804933,\n",
       " 101935.0: 3.7785266302375886,\n",
       " 100067.0: 3.745582677265591,\n",
       " 112323.0: 2.5757359008874214,\n",
       " 112683.0: 3.927596665543742,\n",
       " 133520.0: 3.468323447934818,\n",
       " 100596.0: 2.230148724973624,\n",
       " 100079.0: 0.24204675723988878,\n",
       " 100121.0: 6.804286039365781,\n",
       " 100361.0: 11.86987849800698,\n",
       " 101349.0: 9.52876408356651,\n",
       " 101618.0: 0.41442468531631693,\n",
       " 112648.0: 0.15238561869679312,\n",
       " 133837.0: 7.140427365846369,\n",
       " 101317.0: 4.4345334748427945,\n",
       " 100080.0: 15.368314360503721,\n",
       " 100352.0: 8.343792625440404,\n",
       " 115994.0: 0.0033138148968658854,\n",
       " 104483.0: -0.04151780423071738,\n",
       " 100865.0: 9.919570274974788,\n",
       " 103050.0: 0.2384701102388309,\n",
       " 100042.0: 3.728967428222796,\n",
       " 142246.0: -1.0,\n",
       " 109935.0: -0.7957439750634565,\n",
       " 100261.0: 1.6088276737389995,\n",
       " 100835.0: 3.5852770319980243,\n",
       " 139537.0: 5.089211376426528,\n",
       " 107649.0: 1.0236385898368727,\n",
       " 102433.0: 14.626430688459724,\n",
       " 101609.0: 5.386605854387305,\n",
       " 100034.0: 2.8474672017193337,\n",
       " 100058.0: 5.070596161680574,\n",
       " 111710.0: 19.545402169285353,\n",
       " 109934.0: -0.2813392343970711,\n",
       " 103780.0: 4.096866374328467,\n",
       " 100263.0: 1.3475613496173766,\n",
       " 107647.0: 5.496975119983261,\n",
       " 120086.0: -0.21581056664446985,\n",
       " 100638.0: 6.381764436598614,\n",
       " 100077.0: 0.562504282399301,\n",
       " 101685.0: 4.806461937007711,\n",
       " 104727.0: 5.423786109713014,\n",
       " 112645.0: 22.723304072273585,\n",
       " 135599.0: 2.29520788920905,\n",
       " 100640.0: 5.587907959750571,\n",
       " 102058.0: 0.0,\n",
       " 100057.0: 1.7238554449233723,\n",
       " 101316.0: 4.441686136117307,\n",
       " 143603.0: 0.7157475398220425,\n",
       " 100828.0: -0.28813240650112926,\n",
       " 112408.0: 2.2224160297165563,\n",
       " 102848.0: 8.174307163738659,\n",
       " 100381.0: 44.436991636322645,\n",
       " 112212.0: -0.08739834562417892,\n",
       " 100078.0: 3.9602524152699603,\n",
       " 100385.0: 1.6739556482658458,\n",
       " 116484.0: -0.26424724984275283,\n",
       " 100619.0: 0.16789958693728124,\n",
       " 100750.0: 4.12341000812233,\n",
       " 100800.0: 48.10772532019823,\n",
       " 101313.0: 13.682989054131923,\n",
       " 119354.0: 12.601650799271823,\n",
       " 100124.0: 5.214577029646672,\n",
       " 113252.0: 0.2775636284348737,\n",
       " 113253.0: 0.4831864544173614,\n",
       " 104729.0: 4.285548689003216,\n",
       " 100265.0: 4.64772443801682,\n",
       " 100837.0: 3.188046559889357,\n",
       " 100043.0: 3.7228115910628468,\n",
       " 112210.0: 4.064859556953682,\n",
       " 101588.0: 4.799255489628673,\n",
       " 107656.0: 5.456562485018135,\n",
       " 112647.0: 22.31772330814856,\n",
       " 101952.0: 6.733925386895656,\n",
       " 100415.0: 9.145074535231213,\n",
       " 112681.0: -100.0,\n",
       " 100940.0: 5.182439264370764,\n",
       " 101306.0: 0.5344705073101919,\n",
       " 101744.0: -0.4065623237097804,\n",
       " 100356.0: 11.825973754310603,\n",
       " 101144.0: 10.909342502890507,\n",
       " 101659.0: 10.153384656075225,\n",
       " 100061.0: 4.534994750972254,\n",
       " 112684.0: -100.0,\n",
       " 101431.0: 0.16526842431814348,\n",
       " 101594.0: 12.197879641406907,\n",
       " 101686.0: 0.7688940690678603,\n",
       " 101688.0: 19.718813272453374,\n",
       " 120084.0: 5.480240394607128,\n",
       " 100177.0: 16.936527554754434,\n",
       " 113254.0: -0.3380937838953768,\n",
       " 104484.0: 0.03757353727629198,\n",
       " 104486.0: 3.715148651287903,\n",
       " 100313.0: 10.37986598979792,\n",
       " 100851.0: 3.6108268061866733,\n",
       " 100603.0: 2.963606394675322,\n",
       " 100607.0: -100.0,\n",
       " 100785.0: 3.3373148919393136,\n",
       " 100033.0: 8.25946077865698,\n",
       " 102259.0: 4.879488316613356,\n",
       " 122612.0: 5.034456493070372,\n",
       " 101184.0: -2.9778161560829686,\n",
       " 100858.0: 1.650342667310012,\n",
       " 101606.0: 5.909680788281935,\n",
       " 112217.0: -63.62775598770432,\n",
       " 109937.0: -0.3271992560327619,\n",
       " 109949.0: 5.55385364172396,\n",
       " 100869.0: -1.0,\n",
       " 100368.0: 2.8010867455044552,\n",
       " 113103.0: -0.02872681315315706,\n",
       " 100833.0: 0.01897785148301523,\n",
       " 101305.0: 0.2580914374783916,\n",
       " 101701.0: 3.736614454093745,\n",
       " 102258.0: -1.809356930930961,\n",
       " 101617.0: 0.42733153281981906,\n",
       " 114633.0: 4.131633223848397,\n",
       " 116485.0: 4.836555818357935,\n",
       " 138254.0: -0.6945043108877669,\n",
       " 100493.0: 4.27308510259361,\n",
       " 105024.0: 1.005435336981364,\n",
       " 100382.0: 44.901500496975984,\n",
       " 100054.0: -0.41731717426538584,\n",
       " 101598.0: -5.736538171268812,\n",
       " 102056.0: 2.6482702016157544,\n",
       " 100056.0: -0.1729481058951765,\n",
       " 112215.0: -63.350314454115185,\n",
       " 100284.0: -1.0,\n",
       " 115993.0: -0.07768354099936259,\n",
       " 104724.0: 5.37295946724099,\n",
       " 145963.0: 0.0032963326718871144,\n",
       " 100066.0: 8.937237834564815,\n",
       " 100972.0: 6.773997939371856,\n",
       " 100473.0: 13.882968096901438,\n",
       " 100486.0: -2.5119724872632143,\n",
       " 101082.0: 5.364967665728404,\n",
       " 100955.0: -0.30083392914015405,\n",
       " 100314.0: 6.887558074393407,\n",
       " 100379.0: 14.598218149404385,\n",
       " 102673.0: 3.8572491562512523,\n",
       " 101419.0: 6.055262535207251,\n",
       " 100877.0: -0.11649596982762356,\n",
       " 100878.0: 0.05565282996853327,\n",
       " 100900.0: 10.765679096861058,\n",
       " 100371.0: 5.497084807166064,\n",
       " 125337.0: 0.03104895276802022,\n",
       " 100864.0: 8.113336554135575,\n",
       " 102174.0: 1.8626752781684353,\n",
       " 102432.0: 18.625611371083718,\n",
       " 100739.0: 10.36300132834409,\n",
       " 100741.0: 5.7220452171441005,\n",
       " 133518.0: 0.5272737099020652,\n",
       " 101665.0: 5.0985348222788,\n",
       " 100605.0: 21.288853036664037,\n",
       " 110607.0: 15.849825693983588,\n",
       " 100872.0: 5.584187561238574,\n",
       " 100349.0: 12.26872267796768,\n",
       " 100300.0: 4.490317261833332,\n",
       " 107579.0: 9.617879198246548,\n",
       " 101002.0: 5.8608180652407915,\n",
       " 102053.0: 5.260626771413324,\n",
       " 112354.0: -12.214078802997253,\n",
       " 101143.0: 8.802136545549555,\n",
       " 107578.0: 11.42879206140599,\n",
       " 135598.0: 8.341392605936226,\n",
       " 100618.0: 3.691580941983874,\n",
       " 100788.0: 2.62475692984383,\n",
       " 101489.0: 7.598535207482704,\n",
       " 100471.0: 10.840400199019395,\n",
       " 101230.0: -0.5226859563279951,\n",
       " 104491.0: 5.553299210202289,\n",
       " 100332.0: 9.102211974097862,\n",
       " 101490.0: 7.597030020550788,\n",
       " 100060.0: -2.5350154433898875,\n",
       " 112355.0: -46.55510594403567,\n",
       " 100090.0: -5.503565127875387,\n",
       " 109944.0: -1.9849173577290102,\n",
       " 104722.0: -0.813640332829757,\n",
       " 100233.0: 0.027924859161054805,\n",
       " 100830.0: 5.433781595215992,\n",
       " 139536.0: 0.027213114229929225,\n",
       " 102173.0: 1.7549120157397846,\n",
       " 103735.0: 0.025552066479184177,\n",
       " 133488.0: 5.965470313495325,\n",
       " 100685.0: 9.107231419307249,\n",
       " 100490.0: 4.469116725181355,\n",
       " 113250.0: 5.501416656130753,\n",
       " 100834.0: -0.09407646649080004,\n",
       " 101700.0: 0.0,\n",
       " 100417.0: 3.436315226949027,\n",
       " 101587.0: 0.9283635487644437,\n",
       " 100498.0: 4.735116397571715,\n",
       " 101084.0: 1.1673637910762258,\n",
       " 107693.0: 20.226854705246854,\n",
       " 100934.0: -1.0,\n",
       " 102054.0: 5.595128109231351,\n",
       " 101221.0: 4.877455452816704,\n",
       " 115400.0: 0.051237536241788284,\n",
       " 100742.0: 6.233375020829346,\n",
       " 101165.0: 0.0021733225246789445,\n",
       " 103734.0: 3.5231785744217703}"
      ]
     },
     "execution_count": 97,
     "metadata": {},
     "output_type": "execute_result"
    }
   ],
   "source": [
    "scores_df"
   ]
  },
  {
   "cell_type": "code",
   "execution_count": 98,
   "id": "d23b7bee",
   "metadata": {},
   "outputs": [
    {
     "name": "stdout",
     "output_type": "stream",
     "text": [
      "Sorted scores:\n",
      "Scheme Code: 100590.0, Score: -243.51721505865368\n",
      "Scheme Code: 100802.0, Score: -138.7854024714895\n",
      "Scheme Code: 100606.0, Score: -100.0\n",
      "Scheme Code: 112682.0, Score: -100.0\n",
      "Scheme Code: 112681.0, Score: -100.0\n",
      "Scheme Code: 112684.0, Score: -100.0\n",
      "Scheme Code: 100607.0, Score: -100.0\n",
      "Scheme Code: 100059.0, Score: -72.47678715587334\n",
      "Scheme Code: 100783.0, Score: -64.93237166534458\n",
      "Scheme Code: 112217.0, Score: -63.62775598770432\n",
      "Scheme Code: 112216.0, Score: -63.4864232494564\n",
      "Scheme Code: 112215.0, Score: -63.350314454115185\n",
      "Scheme Code: 100749.0, Score: -49.2011394610764\n",
      "Scheme Code: 100748.0, Score: -47.50837300476923\n",
      "Scheme Code: 112355.0, Score: -46.55510594403567\n",
      "Scheme Code: 112369.0, Score: -45.75607400950381\n",
      "Scheme Code: 117141.0, Score: -42.652540630664916\n",
      "Scheme Code: 112278.0, Score: -39.20264150484067\n",
      "Scheme Code: 112322.0, Score: -34.214485609678505\n",
      "Scheme Code: 112214.0, Score: -19.092827151624792\n",
      "Scheme Code: 101693.0, Score: -14.303600848211317\n",
      "Scheme Code: 112354.0, Score: -12.214078802997253\n",
      "Scheme Code: 100613.0, Score: -10.536338079163576\n",
      "Scheme Code: 101598.0, Score: -5.736538171268812\n",
      "Scheme Code: 100090.0, Score: -5.503565127875387\n",
      "Scheme Code: 101694.0, Score: -4.589448019357867\n",
      "Scheme Code: 101000.0, Score: -4.587743403393841\n",
      "Scheme Code: 100711.0, Score: -3.5001593241662965\n",
      "Scheme Code: 100600.0, Score: -3.2359914354395447\n",
      "Scheme Code: 101113.0, Score: -2.978100213746171\n",
      "Scheme Code: 101184.0, Score: -2.9778161560829686\n",
      "Scheme Code: 100218.0, Score: -2.5701905002203818\n",
      "Scheme Code: 100060.0, Score: -2.5350154433898875\n",
      "Scheme Code: 100486.0, Score: -2.5119724872632143\n",
      "Scheme Code: 109944.0, Score: -1.9849173577290102\n",
      "Scheme Code: 102258.0, Score: -1.809356930930961\n",
      "Scheme Code: 100062.0, Score: -1.6387055245649762\n",
      "Scheme Code: 100364.0, Score: -1.6311783059100304\n",
      "Scheme Code: 102257.0, Score: -1.582895564299358\n",
      "Scheme Code: 101597.0, Score: -1.4773848961309621\n",
      "Scheme Code: 101743.0, Score: -1.4231240382900467\n",
      "Scheme Code: 107657.0, Score: -1.3758861796154043\n",
      "Scheme Code: 100623.0, Score: -1.3367663839594202\n",
      "Scheme Code: 100487.0, Score: -1.2148416977970533\n",
      "Scheme Code: 101160.0, Score: -1.0\n",
      "Scheme Code: 142245.0, Score: -1.0\n",
      "Scheme Code: 100285.0, Score: -1.0\n",
      "Scheme Code: 100282.0, Score: -1.0\n",
      "Scheme Code: 100717.0, Score: -1.0\n",
      "Scheme Code: 102030.0, Score: -1.0\n",
      "Scheme Code: 101480.0, Score: -1.0\n",
      "Scheme Code: 100917.0, Score: -1.0\n",
      "Scheme Code: 100278.0, Score: -1.0\n",
      "Scheme Code: 109938.0, Score: -1.0\n",
      "Scheme Code: 139344.0, Score: -1.0\n",
      "Scheme Code: 100870.0, Score: -1.0\n",
      "Scheme Code: 100283.0, Score: -1.0\n",
      "Scheme Code: 100871.0, Score: -1.0\n",
      "Scheme Code: 100279.0, Score: -1.0\n",
      "Scheme Code: 142246.0, Score: -1.0\n",
      "Scheme Code: 100869.0, Score: -1.0\n",
      "Scheme Code: 100284.0, Score: -1.0\n",
      "Scheme Code: 100934.0, Score: -1.0\n",
      "Scheme Code: 104722.0, Score: -0.813640332829757\n",
      "Scheme Code: 109935.0, Score: -0.7957439750634565\n",
      "Scheme Code: 138254.0, Score: -0.6945043108877669\n",
      "Scheme Code: 100321.0, Score: -0.6183889243881469\n",
      "Scheme Code: 101229.0, Score: -0.6042986943955664\n",
      "Scheme Code: 100372.0, Score: -0.5717171120568576\n",
      "Scheme Code: 100360.0, Score: -0.5355428113525962\n",
      "Scheme Code: 101230.0, Score: -0.5226859563279951\n",
      "Scheme Code: 100370.0, Score: -0.4987314442969737\n",
      "Scheme Code: 100780.0, Score: -0.464385715040494\n",
      "Scheme Code: 100648.0, Score: -0.45790455159335774\n",
      "Scheme Code: 100054.0, Score: -0.41731717426538584\n",
      "Scheme Code: 101744.0, Score: -0.4065623237097804\n",
      "Scheme Code: 113254.0, Score: -0.3380937838953768\n",
      "Scheme Code: 109937.0, Score: -0.3271992560327619\n",
      "Scheme Code: 101081.0, Score: -0.31401689096375307\n",
      "Scheme Code: 100955.0, Score: -0.30083392914015405\n",
      "Scheme Code: 100828.0, Score: -0.28813240650112926\n",
      "Scheme Code: 109934.0, Score: -0.2813392343970711\n",
      "Scheme Code: 116484.0, Score: -0.26424724984275283\n",
      "Scheme Code: 109939.0, Score: -0.2636519521358349\n",
      "Scheme Code: 104725.0, Score: -0.24261702810642882\n",
      "Scheme Code: 102676.0, Score: -0.22342647813784478\n",
      "Scheme Code: 120086.0, Score: -0.21581056664446985\n",
      "Scheme Code: 102677.0, Score: -0.21490992547190668\n",
      "Scheme Code: 109942.0, Score: -0.1738851178878842\n",
      "Scheme Code: 100056.0, Score: -0.1729481058951765\n",
      "Scheme Code: 100046.0, Score: -0.14580886659075754\n",
      "Scheme Code: 100044.0, Score: -0.14147130042202472\n",
      "Scheme Code: 100041.0, Score: -0.13534618714216018\n",
      "Scheme Code: 100877.0, Score: -0.11649596982762356\n",
      "Scheme Code: 100051.0, Score: -0.115763186155593\n",
      "Scheme Code: 113104.0, Score: -0.10639832756026424\n",
      "Scheme Code: 100048.0, Score: -0.10221263339147413\n",
      "Scheme Code: 100834.0, Score: -0.09407646649080004\n",
      "Scheme Code: 100053.0, Score: -0.09374316125461135\n",
      "Scheme Code: 112212.0, Score: -0.08739834562417892\n",
      "Scheme Code: 109255.0, Score: -0.08677308053701704\n",
      "Scheme Code: 100357.0, Score: -0.08603481934199575\n",
      "Scheme Code: 101363.0, Score: -0.07890015771102599\n",
      "Scheme Code: 101482.0, Score: -0.07798910566160222\n",
      "Scheme Code: 115993.0, Score: -0.07768354099936259\n",
      "Scheme Code: 101364.0, Score: -0.07161316477840574\n",
      "Scheme Code: 100838.0, Score: -0.0680356345119093\n",
      "Scheme Code: 100853.0, Score: -0.060958675473710144\n",
      "Scheme Code: 113102.0, Score: -0.0549505151888674\n",
      "Scheme Code: 100874.0, Score: -0.04316480447550397\n",
      "Scheme Code: 104483.0, Score: -0.04151780423071738\n",
      "Scheme Code: 100876.0, Score: -0.03290762354343224\n",
      "Scheme Code: 100359.0, Score: -0.029204688970174697\n",
      "Scheme Code: 113103.0, Score: -0.02872681315315706\n",
      "Scheme Code: 104489.0, Score: -0.028134736422635864\n",
      "Scheme Code: 100875.0, Score: -0.025226679810275154\n",
      "Scheme Code: 109950.0, Score: -0.00680795574572457\n",
      "Scheme Code: 100836.0, Score: 0.0\n",
      "Scheme Code: 101697.0, Score: 0.0\n",
      "Scheme Code: 102058.0, Score: 0.0\n",
      "Scheme Code: 101700.0, Score: 0.0\n",
      "Scheme Code: 112211.0, Score: 4.317386603780449e-06\n",
      "Scheme Code: 112712.0, Score: 0.0001400874245494066\n",
      "Scheme Code: 115992.0, Score: 0.0003277720405536755\n",
      "Scheme Code: 100943.0, Score: 0.0019029931626279861\n",
      "Scheme Code: 101165.0, Score: 0.0021733225246789445\n",
      "Scheme Code: 145963.0, Score: 0.0032963326718871144\n",
      "Scheme Code: 115994.0, Score: 0.0033138148968658854\n",
      "Scheme Code: 100052.0, Score: 0.00608607142813522\n",
      "Scheme Code: 103736.0, Score: 0.0061852433375531035\n",
      "Scheme Code: 101698.0, Score: 0.01101568256653973\n",
      "Scheme Code: 139534.0, Score: 0.012317814818385564\n",
      "Scheme Code: 100941.0, Score: 0.014041745551174323\n",
      "Scheme Code: 104492.0, Score: 0.017695976279519243\n",
      "Scheme Code: 100833.0, Score: 0.01897785148301523\n",
      "Scheme Code: 103735.0, Score: 0.025552066479184177\n",
      "Scheme Code: 139536.0, Score: 0.027213114229929225\n",
      "Scheme Code: 100233.0, Score: 0.027924859161054805\n",
      "Scheme Code: 119416.0, Score: 0.03080413516671765\n",
      "Scheme Code: 125337.0, Score: 0.03104895276802022\n",
      "Scheme Code: 115401.0, Score: 0.03376155941083869\n",
      "Scheme Code: 112213.0, Score: 0.035625888560963936\n",
      "Scheme Code: 104484.0, Score: 0.03757353727629198\n",
      "Scheme Code: 115400.0, Score: 0.051237536241788284\n",
      "Scheme Code: 100878.0, Score: 0.05565282996853327\n",
      "Scheme Code: 115995.0, Score: 0.057832810152746994\n",
      "Scheme Code: 101372.0, Score: 0.06009744836201758\n",
      "Scheme Code: 115399.0, Score: 0.061784951022758605\n",
      "Scheme Code: 115402.0, Score: 0.06468808285691185\n",
      "Scheme Code: 100620.0, Score: 0.12469536480803622\n",
      "Scheme Code: 100049.0, Score: 0.12938847380541407\n",
      "Scheme Code: 109264.0, Score: 0.13876800418524127\n",
      "Scheme Code: 112648.0, Score: 0.15238561869679312\n",
      "Scheme Code: 101431.0, Score: 0.16526842431814348\n",
      "Scheme Code: 100619.0, Score: 0.16789958693728124\n",
      "Scheme Code: 112277.0, Score: 0.18569996592043836\n",
      "Scheme Code: 103051.0, Score: 0.23549311836379427\n",
      "Scheme Code: 103050.0, Score: 0.2384701102388309\n",
      "Scheme Code: 101351.0, Score: 0.23950962537386822\n",
      "Scheme Code: 100079.0, Score: 0.24204675723988878\n",
      "Scheme Code: 103052.0, Score: 0.24220979830609224\n",
      "Scheme Code: 101305.0, Score: 0.2580914374783916\n",
      "Scheme Code: 102675.0, Score: 0.2625673689065744\n",
      "Scheme Code: 113252.0, Score: 0.2775636284348737\n",
      "Scheme Code: 101303.0, Score: 0.2894773743500556\n",
      "Scheme Code: 100366.0, Score: 0.33397405538797553\n",
      "Scheme Code: 101618.0, Score: 0.41442468531631693\n",
      "Scheme Code: 101617.0, Score: 0.42733153281981906\n",
      "Scheme Code: 104485.0, Score: 0.46212004722885336\n",
      "Scheme Code: 101667.0, Score: 0.4759818016408346\n",
      "Scheme Code: 113253.0, Score: 0.4831864544173614\n",
      "Scheme Code: 133517.0, Score: 0.5094627888277525\n",
      "Scheme Code: 133518.0, Score: 0.5272737099020652\n",
      "Scheme Code: 100622.0, Score: 0.5314734197530369\n",
      "Scheme Code: 101306.0, Score: 0.5344705073101919\n",
      "Scheme Code: 100077.0, Score: 0.562504282399301\n",
      "Scheme Code: 101692.0, Score: 0.5829634218348589\n",
      "Scheme Code: 100037.0, Score: 0.615147167012764\n",
      "Scheme Code: 101318.0, Score: 0.6695422039316945\n",
      "Scheme Code: 100089.0, Score: 0.6849565696716464\n",
      "Scheme Code: 100383.0, Score: 0.6893786014560366\n",
      "Scheme Code: 100881.0, Score: 0.7030242425035915\n",
      "Scheme Code: 143603.0, Score: 0.7157475398220425\n",
      "Scheme Code: 101686.0, Score: 0.7688940690678603\n",
      "Scheme Code: 100280.0, Score: 0.797775400036671\n",
      "Scheme Code: 101315.0, Score: 0.7990965847984199\n",
      "Scheme Code: 100621.0, Score: 0.8803722904709987\n",
      "Scheme Code: 101587.0, Score: 0.9283635487644437\n",
      "Scheme Code: 100367.0, Score: 0.9295907230301603\n",
      "Scheme Code: 100085.0, Score: 0.9900928968060052\n",
      "Scheme Code: 100971.0, Score: 0.9947366071057617\n",
      "Scheme Code: 105024.0, Score: 1.005435336981364\n",
      "Scheme Code: 107649.0, Score: 1.0236385898368727\n",
      "Scheme Code: 140463.0, Score: 1.0625806742602606\n",
      "Scheme Code: 100953.0, Score: 1.0665247784106713\n",
      "Scheme Code: 101589.0, Score: 1.1137964774466935\n",
      "Scheme Code: 119399.0, Score: 1.1256502159235238\n",
      "Scheme Code: 100782.0, Score: 1.1310210541574772\n",
      "Scheme Code: 100954.0, Score: 1.1401475128650862\n",
      "Scheme Code: 100086.0, Score: 1.1489731039639572\n",
      "Scheme Code: 101084.0, Score: 1.1673637910762258\n",
      "Scheme Code: 101114.0, Score: 1.3212696586252237\n",
      "Scheme Code: 100263.0, Score: 1.3475613496173766\n",
      "Scheme Code: 100088.0, Score: 1.4092755033761728\n",
      "Scheme Code: 100123.0, Score: 1.4682712964204203\n",
      "Scheme Code: 100261.0, Score: 1.6088276737389995\n",
      "Scheme Code: 100858.0, Score: 1.650342667310012\n",
      "Scheme Code: 125306.0, Score: 1.6631193537295808\n",
      "Scheme Code: 100385.0, Score: 1.6739556482658458\n",
      "Scheme Code: 100057.0, Score: 1.7238554449233723\n",
      "Scheme Code: 102173.0, Score: 1.7549120157397846\n",
      "Scheme Code: 101361.0, Score: 1.8579258506611573\n",
      "Scheme Code: 102174.0, Score: 1.8626752781684353\n",
      "Scheme Code: 112408.0, Score: 2.2224160297165563\n",
      "Scheme Code: 100596.0, Score: 2.230148724973624\n",
      "Scheme Code: 102202.0, Score: 2.233981836007004\n",
      "Scheme Code: 102201.0, Score: 2.2348537874699925\n",
      "Scheme Code: 102260.0, Score: 2.255416354935691\n",
      "Scheme Code: 135599.0, Score: 2.29520788920905\n",
      "Scheme Code: 101742.0, Score: 2.3423662170967363\n",
      "Scheme Code: 100416.0, Score: 2.516345798398123\n",
      "Scheme Code: 112323.0, Score: 2.5757359008874214\n",
      "Scheme Code: 100725.0, Score: 2.607100241567095\n",
      "Scheme Code: 102261.0, Score: 2.610651621521276\n",
      "Scheme Code: 100788.0, Score: 2.62475692984383\n",
      "Scheme Code: 102056.0, Score: 2.6482702016157544\n",
      "Scheme Code: 100494.0, Score: 2.7175098398876774\n",
      "Scheme Code: 100787.0, Score: 2.7219110325761964\n",
      "Scheme Code: 100608.0, Score: 2.7652831948095313\n",
      "Scheme Code: 100368.0, Score: 2.8010867455044552\n",
      "Scheme Code: 100034.0, Score: 2.8474672017193337\n",
      "Scheme Code: 139539.0, Score: 2.9398043148407327\n",
      "Scheme Code: 100603.0, Score: 2.963606394675322\n",
      "Scheme Code: 100386.0, Score: 2.9936396679878463\n",
      "Scheme Code: 100489.0, Score: 3.0242346011509103\n",
      "Scheme Code: 100609.0, Score: 3.095893877931011\n",
      "Scheme Code: 100997.0, Score: 3.1233872974059995\n",
      "Scheme Code: 100786.0, Score: 3.126756319699675\n",
      "Scheme Code: 114630.0, Score: 3.161605210398055\n",
      "Scheme Code: 135600.0, Score: 3.1869367237356006\n",
      "Scheme Code: 100837.0, Score: 3.188046559889357\n",
      "Scheme Code: 101600.0, Score: 3.199072781322898\n",
      "Scheme Code: 101599.0, Score: 3.227265974518101\n",
      "Scheme Code: 100610.0, Score: 3.2517335995843943\n",
      "Scheme Code: 100495.0, Score: 3.2593121146709647\n",
      "Scheme Code: 100602.0, Score: 3.3292850517211425\n",
      "Scheme Code: 100785.0, Score: 3.3373148919393136\n",
      "Scheme Code: 104488.0, Score: 3.3608468979216655\n",
      "Scheme Code: 104635.0, Score: 3.375710577790869\n",
      "Scheme Code: 101206.0, Score: 3.3786380001595617\n",
      "Scheme Code: 113096.0, Score: 3.3797405224047283\n",
      "Scheme Code: 100417.0, Score: 3.436315226949027\n",
      "Scheme Code: 133520.0, Score: 3.468323447934818\n",
      "Scheme Code: 103734.0, Score: 3.5231785744217703\n",
      "Scheme Code: 113251.0, Score: 3.5326205459031534\n",
      "Scheme Code: 100835.0, Score: 3.5852770319980243\n",
      "Scheme Code: 100723.0, Score: 3.591087365489254\n",
      "Scheme Code: 100868.0, Score: 3.5969271366106392\n",
      "Scheme Code: 100724.0, Score: 3.6007353410413057\n",
      "Scheme Code: 119340.0, Score: 3.6026392986530986\n",
      "Scheme Code: 100851.0, Score: 3.6108268061866733\n",
      "Scheme Code: 104723.0, Score: 3.61091100369062\n",
      "Scheme Code: 101185.0, Score: 3.618917040102243\n",
      "Scheme Code: 100618.0, Score: 3.691580941983874\n",
      "Scheme Code: 100641.0, Score: 3.707662485471852\n",
      "Scheme Code: 104486.0, Score: 3.715148651287903\n",
      "Scheme Code: 100047.0, Score: 3.7176884838771462\n",
      "Scheme Code: 100043.0, Score: 3.7228115910628468\n",
      "Scheme Code: 100042.0, Score: 3.728967428222796\n",
      "Scheme Code: 101701.0, Score: 3.736614454093745\n",
      "Scheme Code: 100067.0, Score: 3.745582677265591\n",
      "Scheme Code: 101935.0, Score: 3.7785266302375886\n",
      "Scheme Code: 102673.0, Score: 3.8572491562512523\n",
      "Scheme Code: 112683.0, Score: 3.927596665543742\n",
      "Scheme Code: 100291.0, Score: 3.95722156503997\n",
      "Scheme Code: 101304.0, Score: 3.9591245285012677\n",
      "Scheme Code: 100078.0, Score: 3.9602524152699603\n",
      "Scheme Code: 100784.0, Score: 3.9873145732580717\n",
      "Scheme Code: 115398.0, Score: 3.995790514497033\n",
      "Scheme Code: 100781.0, Score: 3.9984378503631346\n",
      "Scheme Code: 103048.0, Score: 4.00219652788647\n",
      "Scheme Code: 112210.0, Score: 4.064859556953682\n",
      "Scheme Code: 103780.0, Score: 4.096866374328467\n",
      "Scheme Code: 101605.0, Score: 4.101162855653695\n",
      "Scheme Code: 100750.0, Score: 4.12341000812233\n",
      "Scheme Code: 114633.0, Score: 4.131633223848397\n",
      "Scheme Code: 104728.0, Score: 4.166343148181073\n",
      "Scheme Code: 101222.0, Score: 4.1687595157739565\n",
      "Scheme Code: 115991.0, Score: 4.188651909126251\n",
      "Scheme Code: 100418.0, Score: 4.2171475991469975\n",
      "Scheme Code: 101186.0, Score: 4.228906969537238\n",
      "Scheme Code: 100084.0, Score: 4.240056726623043\n",
      "Scheme Code: 100493.0, Score: 4.27308510259361\n",
      "Scheme Code: 104729.0, Score: 4.285548689003216\n",
      "Scheme Code: 100087.0, Score: 4.3121560424567384\n",
      "Scheme Code: 124303.0, Score: 4.367651021478336\n",
      "Scheme Code: 100299.0, Score: 4.377567236748292\n",
      "Scheme Code: 101805.0, Score: 4.419026999396802\n",
      "Scheme Code: 101317.0, Score: 4.4345334748427945\n",
      "Scheme Code: 101224.0, Score: 4.437056836834508\n",
      "Scheme Code: 124233.0, Score: 4.439472131570121\n",
      "Scheme Code: 113036.0, Score: 4.4402480734849314\n",
      "Scheme Code: 100171.0, Score: 4.441461007530734\n",
      "Scheme Code: 101316.0, Score: 4.441686136117307\n",
      "Scheme Code: 100173.0, Score: 4.4456141670695\n",
      "Scheme Code: 100172.0, Score: 4.45127069641249\n",
      "Scheme Code: 100485.0, Score: 4.465602617536146\n",
      "Scheme Code: 100490.0, Score: 4.469116725181355\n",
      "Scheme Code: 100470.0, Score: 4.469767424680349\n",
      "Scheme Code: 100365.0, Score: 4.472433233425965\n",
      "Scheme Code: 124305.0, Score: 4.474023432542906\n",
      "Scheme Code: 100491.0, Score: 4.478573939378605\n",
      "Scheme Code: 100300.0, Score: 4.490317261833332\n",
      "Scheme Code: 116424.0, Score: 4.515652964934969\n",
      "Scheme Code: 100061.0, Score: 4.534994750972254\n",
      "Scheme Code: 104726.0, Score: 4.586340204659423\n",
      "Scheme Code: 100038.0, Score: 4.613132157879485\n",
      "Scheme Code: 100281.0, Score: 4.638627619378366\n",
      "Scheme Code: 100265.0, Score: 4.64772443801682\n",
      "Scheme Code: 119415.0, Score: 4.657512311105028\n",
      "Scheme Code: 109269.0, Score: 4.698994981261961\n",
      "Scheme Code: 100498.0, Score: 4.735116397571715\n",
      "Scheme Code: 109940.0, Score: 4.764477032887937\n",
      "Scheme Code: 100751.0, Score: 4.7963951035297825\n",
      "Scheme Code: 101588.0, Score: 4.799255489628673\n",
      "Scheme Code: 101685.0, Score: 4.806461937007711\n",
      "Scheme Code: 100668.0, Score: 4.813087484669687\n",
      "Scheme Code: 100873.0, Score: 4.81548851221163\n",
      "Scheme Code: 116485.0, Score: 4.836555818357935\n",
      "Scheme Code: 101481.0, Score: 4.850158806701921\n",
      "Scheme Code: 101619.0, Score: 4.87291556102345\n",
      "Scheme Code: 101221.0, Score: 4.877455452816704\n",
      "Scheme Code: 102259.0, Score: 4.879488316613356\n",
      "Scheme Code: 111589.0, Score: 4.883998456828298\n",
      "Scheme Code: 100222.0, Score: 4.888324350705164\n",
      "Scheme Code: 139535.0, Score: 4.892292452509506\n",
      "Scheme Code: 112680.0, Score: 4.922670122770367\n",
      "Scheme Code: 101083.0, Score: 4.973504612904334\n",
      "Scheme Code: 100298.0, Score: 4.9834795811099175\n",
      "Scheme Code: 101548.0, Score: 5.001990423281355\n",
      "Scheme Code: 122612.0, Score: 5.034456493070372\n",
      "Scheme Code: 100264.0, Score: 5.038757231324764\n",
      "Scheme Code: 101231.0, Score: 5.06059177566438\n",
      "Scheme Code: 100058.0, Score: 5.070596161680574\n",
      "Scheme Code: 101547.0, Score: 5.080711076498523\n",
      "Scheme Code: 139537.0, Score: 5.089211376426528\n",
      "Scheme Code: 101665.0, Score: 5.0985348222788\n",
      "Scheme Code: 109946.0, Score: 5.106770883858891\n",
      "Scheme Code: 119334.0, Score: 5.1155980420397595\n",
      "Scheme Code: 100369.0, Score: 5.131697506429211\n",
      "Scheme Code: 101350.0, Score: 5.149436165176513\n",
      "Scheme Code: 139538.0, Score: 5.151633307789694\n",
      "Scheme Code: 100829.0, Score: 5.1715464151830925\n",
      "Scheme Code: 100940.0, Score: 5.182439264370764\n",
      "Scheme Code: 100124.0, Score: 5.214577029646672\n",
      "Scheme Code: 102055.0, Score: 5.220133081661249\n",
      "Scheme Code: 102053.0, Score: 5.260626771413324\n",
      "Scheme Code: 119400.0, Score: 5.297529586776917\n",
      "Scheme Code: 101365.0, Score: 5.312039868246554\n",
      "Scheme Code: 100262.0, Score: 5.3591848984670065\n",
      "Scheme Code: 101082.0, Score: 5.364967665728404\n",
      "Scheme Code: 104724.0, Score: 5.37295946724099\n",
      "Scheme Code: 101609.0, Score: 5.386605854387305\n",
      "Scheme Code: 101593.0, Score: 5.386758308668105\n",
      "Scheme Code: 100611.0, Score: 5.394792014434668\n",
      "Scheme Code: 101929.0, Score: 5.414658639224412\n",
      "Scheme Code: 100859.0, Score: 5.415333447285864\n",
      "Scheme Code: 104727.0, Score: 5.423786109713014\n",
      "Scheme Code: 100325.0, Score: 5.427151226612081\n",
      "Scheme Code: 101362.0, Score: 5.428927639388048\n",
      "Scheme Code: 100830.0, Score: 5.433781595215992\n",
      "Scheme Code: 100317.0, Score: 5.436958178265283\n",
      "Scheme Code: 100856.0, Score: 5.438436291512483\n",
      "Scheme Code: 100646.0, Score: 5.448988435105706\n",
      "Scheme Code: 100055.0, Score: 5.454995686322328\n",
      "Scheme Code: 107656.0, Score: 5.456562485018135\n",
      "Scheme Code: 113249.0, Score: 5.4601146502410325\n",
      "Scheme Code: 100319.0, Score: 5.460653644208557\n",
      "Scheme Code: 120084.0, Score: 5.480240394607128\n",
      "Scheme Code: 111585.0, Score: 5.483636722458685\n",
      "Scheme Code: 107648.0, Score: 5.48909138246505\n",
      "Scheme Code: 107647.0, Score: 5.496975119983261\n",
      "Scheme Code: 100371.0, Score: 5.497084807166064\n",
      "Scheme Code: 113250.0, Score: 5.501416656130753\n",
      "Scheme Code: 107646.0, Score: 5.502233858335348\n",
      "Scheme Code: 102849.0, Score: 5.5473076926243925\n",
      "Scheme Code: 100970.0, Score: 5.5474632081163655\n",
      "Scheme Code: 104491.0, Score: 5.553299210202289\n",
      "Scheme Code: 109949.0, Score: 5.55385364172396\n",
      "Scheme Code: 100639.0, Score: 5.574573713491082\n",
      "Scheme Code: 101430.0, Score: 5.578489990529101\n",
      "Scheme Code: 100872.0, Score: 5.584187561238574\n",
      "Scheme Code: 100640.0, Score: 5.587907959750571\n",
      "Scheme Code: 102054.0, Score: 5.595128109231351\n",
      "Scheme Code: 100315.0, Score: 5.602814298426462\n",
      "Scheme Code: 100362.0, Score: 5.673538234491926\n",
      "Scheme Code: 100318.0, Score: 5.6890519367388315\n",
      "Scheme Code: 111590.0, Score: 5.695418267268182\n",
      "Scheme Code: 100741.0, Score: 5.7220452171441005\n",
      "Scheme Code: 100387.0, Score: 5.739743944713971\n",
      "Scheme Code: 100597.0, Score: 5.766359830130208\n",
      "Scheme Code: 100499.0, Score: 5.818199288024495\n",
      "Scheme Code: 101696.0, Score: 5.8351491177874415\n",
      "Scheme Code: 100669.0, Score: 5.841314995570923\n",
      "Scheme Code: 100351.0, Score: 5.852649862186388\n",
      "Scheme Code: 101002.0, Score: 5.8608180652407915\n",
      "Scheme Code: 101042.0, Score: 5.8920792940400535\n",
      "Scheme Code: 101606.0, Score: 5.909680788281935\n",
      "Scheme Code: 101003.0, Score: 5.959090324563787\n",
      "Scheme Code: 133488.0, Score: 5.965470313495325\n",
      "Scheme Code: 101691.0, Score: 6.003749705627737\n",
      "Scheme Code: 100292.0, Score: 6.027341460475211\n",
      "Scheme Code: 100316.0, Score: 6.030867735939394\n",
      "Scheme Code: 100301.0, Score: 6.047289075982043\n",
      "Scheme Code: 101419.0, Score: 6.055262535207251\n",
      "Scheme Code: 102851.0, Score: 6.058155775590857\n",
      "Scheme Code: 101864.0, Score: 6.1292731847140125\n",
      "Scheme Code: 100601.0, Score: 6.186063869935077\n",
      "Scheme Code: 100065.0, Score: 6.187502190226968\n",
      "Scheme Code: 100952.0, Score: 6.202234198694168\n",
      "Scheme Code: 101932.0, Score: 6.210905676649148\n",
      "Scheme Code: 101934.0, Score: 6.211812300877462\n",
      "Scheme Code: 101001.0, Score: 6.222873437938792\n",
      "Scheme Code: 100742.0, Score: 6.233375020829346\n",
      "Scheme Code: 100504.0, Score: 6.280183236776216\n",
      "Scheme Code: 101049.0, Score: 6.282534801501405\n",
      "Scheme Code: 100503.0, Score: 6.288166935530404\n",
      "Scheme Code: 113142.0, Score: 6.331060114990827\n",
      "Scheme Code: 100063.0, Score: 6.372951955659256\n",
      "Scheme Code: 100638.0, Score: 6.381764436598614\n",
      "Scheme Code: 100899.0, Score: 6.3900653505143845\n",
      "Scheme Code: 100614.0, Score: 6.393776133564066\n",
      "Scheme Code: 112679.0, Score: 6.403134623882045\n",
      "Scheme Code: 133838.0, Score: 6.478305974289511\n",
      "Scheme Code: 100650.0, Score: 6.510437014088222\n",
      "Scheme Code: 101951.0, Score: 6.636638691937313\n",
      "Scheme Code: 101950.0, Score: 6.6615347580900375\n",
      "Scheme Code: 101591.0, Score: 6.661813109697179\n",
      "Scheme Code: 102753.0, Score: 6.667963269323152\n",
      "Scheme Code: 100472.0, Score: 6.668103728132269\n",
      "Scheme Code: 102172.0, Score: 6.6883692619367885\n",
      "Scheme Code: 101699.0, Score: 6.698676245356516\n",
      "Scheme Code: 100999.0, Score: 6.719602141324343\n",
      "Scheme Code: 101952.0, Score: 6.733925386895656\n",
      "Scheme Code: 100972.0, Score: 6.773997939371856\n",
      "Scheme Code: 100121.0, Score: 6.804286039365781\n",
      "Scheme Code: 100314.0, Score: 6.887558074393407\n",
      "Scheme Code: 102061.0, Score: 6.88904281450009\n",
      "Scheme Code: 122388.0, Score: 6.9039569235515685\n",
      "Scheme Code: 101098.0, Score: 6.930580129968944\n",
      "Scheme Code: 133837.0, Score: 7.140427365846369\n",
      "Scheme Code: 102066.0, Score: 7.182547810053341\n",
      "Scheme Code: 102251.0, Score: 7.191693012724265\n",
      "Scheme Code: 102065.0, Score: 7.199906811619772\n",
      "Scheme Code: 100474.0, Score: 7.2513841353264885\n",
      "Scheme Code: 101933.0, Score: 7.318451790023861\n",
      "Scheme Code: 122390.0, Score: 7.34379119909514\n",
      "Scheme Code: 113063.0, Score: 7.496772014203179\n",
      "Scheme Code: 100064.0, Score: 7.510324400000834\n",
      "Scheme Code: 100968.0, Score: 7.535082794517289\n",
      "Scheme Code: 102262.0, Score: 7.566833195140599\n",
      "Scheme Code: 113062.0, Score: 7.596253802077735\n",
      "Scheme Code: 101490.0, Score: 7.597030020550788\n",
      "Scheme Code: 101489.0, Score: 7.598535207482704\n",
      "Scheme Code: 118069.0, Score: 7.607903217530798\n",
      "Scheme Code: 100927.0, Score: 7.608444577790907\n",
      "Scheme Code: 109945.0, Score: 7.669230228679003\n",
      "Scheme Code: 100678.0, Score: 7.772769393508949\n",
      "Scheme Code: 100617.0, Score: 7.792400532959731\n",
      "Scheme Code: 100363.0, Score: 8.02369219900585\n",
      "Scheme Code: 100928.0, Score: 8.042079561573123\n",
      "Scheme Code: 100864.0, Score: 8.113336554135575\n",
      "Scheme Code: 102848.0, Score: 8.174307163738659\n",
      "Scheme Code: 125305.0, Score: 8.204853769993715\n",
      "Scheme Code: 101169.0, Score: 8.208599257045602\n",
      "Scheme Code: 100033.0, Score: 8.25946077865698\n",
      "Scheme Code: 108479.0, Score: 8.301091806500583\n",
      "Scheme Code: 135598.0, Score: 8.341392605936226\n",
      "Scheme Code: 100352.0, Score: 8.343792625440404\n",
      "Scheme Code: 100657.0, Score: 8.412097163890152\n",
      "Scheme Code: 100998.0, Score: 8.500993527885692\n",
      "Scheme Code: 100929.0, Score: 8.54191265550115\n",
      "Scheme Code: 100643.0, Score: 8.58565912860274\n",
      "Scheme Code: 101314.0, Score: 8.602213796677095\n",
      "Scheme Code: 100656.0, Score: 8.623565770945362\n",
      "Scheme Code: 101143.0, Score: 8.802136545549555\n",
      "Scheme Code: 100353.0, Score: 8.843863285633557\n",
      "Scheme Code: 101282.0, Score: 8.87276342407124\n",
      "Scheme Code: 135601.0, Score: 8.873432653757774\n",
      "Scheme Code: 100066.0, Score: 8.937237834564815\n",
      "Scheme Code: 100122.0, Score: 9.044505010307269\n",
      "Scheme Code: 100332.0, Score: 9.102211974097862\n",
      "Scheme Code: 100685.0, Score: 9.107231419307249\n",
      "Scheme Code: 100593.0, Score: 9.142550936134764\n",
      "Scheme Code: 100415.0, Score: 9.145074535231213\n",
      "Scheme Code: 100312.0, Score: 9.169796387834861\n",
      "Scheme Code: 100682.0, Score: 9.192097877347894\n",
      "Scheme Code: 101551.0, Score: 9.265841245967765\n",
      "Scheme Code: 101491.0, Score: 9.349477017398966\n",
      "Scheme Code: 103490.0, Score: 9.373353608887292\n",
      "Scheme Code: 103491.0, Score: 9.37769541881237\n",
      "Scheme Code: 100497.0, Score: 9.390795890939717\n",
      "Scheme Code: 100651.0, Score: 9.412438520002485\n",
      "Scheme Code: 101349.0, Score: 9.52876408356651\n",
      "Scheme Code: 107579.0, Score: 9.617879198246548\n",
      "Scheme Code: 119333.0, Score: 9.62126428595036\n",
      "Scheme Code: 100414.0, Score: 9.625360694001618\n",
      "Scheme Code: 101281.0, Score: 9.72969462337514\n",
      "Scheme Code: 100348.0, Score: 9.739108616123925\n",
      "Scheme Code: 100604.0, Score: 9.807190846010382\n",
      "Scheme Code: 100484.0, Score: 9.908553104806806\n",
      "Scheme Code: 100865.0, Score: 9.919570274974788\n",
      "Scheme Code: 100358.0, Score: 9.937164579526293\n",
      "Scheme Code: 100323.0, Score: 9.969910757532418\n",
      "Scheme Code: 133836.0, Score: 9.992389912804933\n",
      "Scheme Code: 101659.0, Score: 10.153384656075225\n",
      "Scheme Code: 101295.0, Score: 10.277292658030834\n",
      "Scheme Code: 100739.0, Score: 10.36300132834409\n",
      "Scheme Code: 100313.0, Score: 10.37986598979792\n",
      "Scheme Code: 133839.0, Score: 10.393055963413556\n",
      "Scheme Code: 100355.0, Score: 10.45143716912602\n",
      "Scheme Code: 101862.0, Score: 10.537865467627539\n",
      "Scheme Code: 100645.0, Score: 10.564844451704802\n",
      "Scheme Code: 100354.0, Score: 10.579279722867852\n",
      "Scheme Code: 100120.0, Score: 10.616050130173482\n",
      "Scheme Code: 100740.0, Score: 10.671696616606784\n",
      "Scheme Code: 101530.0, Score: 10.751469773420297\n",
      "Scheme Code: 100900.0, Score: 10.765679096861058\n",
      "Scheme Code: 100082.0, Score: 10.808169778600906\n",
      "Scheme Code: 100471.0, Score: 10.840400199019395\n",
      "Scheme Code: 101144.0, Score: 10.909342502890507\n",
      "Scheme Code: 100286.0, Score: 11.007399035609055\n",
      "Scheme Code: 101922.0, Score: 11.162575048404877\n",
      "Scheme Code: 100915.0, Score: 11.174691925991631\n",
      "Scheme Code: 122389.0, Score: 11.203723310771775\n",
      "Scheme Code: 100350.0, Score: 11.371835622259452\n",
      "Scheme Code: 107578.0, Score: 11.42879206140599\n",
      "Scheme Code: 100684.0, Score: 11.599835388938606\n",
      "Scheme Code: 101127.0, Score: 11.610511956417714\n",
      "Scheme Code: 100475.0, Score: 11.664466069165403\n",
      "Scheme Code: 118484.0, Score: 11.72008511703444\n",
      "Scheme Code: 101636.0, Score: 11.731520356009817\n",
      "Scheme Code: 100356.0, Score: 11.825973754310603\n",
      "Scheme Code: 100081.0, Score: 11.829494975148137\n",
      "Scheme Code: 100361.0, Score: 11.86987849800698\n",
      "Scheme Code: 101594.0, Score: 12.197879641406907\n",
      "Scheme Code: 100349.0, Score: 12.26872267796768\n",
      "Scheme Code: 101228.0, Score: 12.313760288147634\n",
      "Scheme Code: 102751.0, Score: 12.48646232373165\n",
      "Scheme Code: 102752.0, Score: 12.536991459180813\n",
      "Scheme Code: 119354.0, Score: 12.601650799271823\n",
      "Scheme Code: 100254.0, Score: 12.606965365563362\n",
      "Scheme Code: 107288.0, Score: 12.832230395909505\n",
      "Scheme Code: 100289.0, Score: 12.952460570512425\n",
      "Scheme Code: 131579.0, Score: 12.952585270952778\n",
      "Scheme Code: 100664.0, Score: 13.0969079879937\n",
      "Scheme Code: 100663.0, Score: 13.126213659728926\n",
      "Scheme Code: 120491.0, Score: 13.240332530985688\n",
      "Scheme Code: 101471.0, Score: 13.385436740980673\n",
      "Scheme Code: 122640.0, Score: 13.395841499026595\n",
      "Scheme Code: 115290.0, Score: 13.47329393605139\n",
      "Scheme Code: 120488.0, Score: 13.475140590725342\n",
      "Scheme Code: 115270.0, Score: 13.5092041574026\n",
      "Scheme Code: 100496.0, Score: 13.622947561874522\n",
      "Scheme Code: 100119.0, Score: 13.679361129805034\n",
      "Scheme Code: 101313.0, Score: 13.682989054131923\n",
      "Scheme Code: 104636.0, Score: 13.740244659213552\n",
      "Scheme Code: 100480.0, Score: 13.767208909688367\n",
      "Scheme Code: 125711.0, Score: 13.780126471975995\n",
      "Scheme Code: 100473.0, Score: 13.882968096901438\n",
      "Scheme Code: 102252.0, Score: 14.226136368478093\n",
      "Scheme Code: 100379.0, Score: 14.598218149404385\n",
      "Scheme Code: 102433.0, Score: 14.626430688459724\n",
      "Scheme Code: 100631.0, Score: 14.719135014713714\n",
      "Scheme Code: 101672.0, Score: 14.922681707470996\n",
      "Scheme Code: 110606.0, Score: 15.100007112694946\n",
      "Scheme Code: 110608.0, Score: 15.109523911667178\n",
      "Scheme Code: 100630.0, Score: 15.312951165950262\n",
      "Scheme Code: 100477.0, Score: 15.35910802382887\n",
      "Scheme Code: 100220.0, Score: 15.3603075094926\n",
      "Scheme Code: 100080.0, Score: 15.368314360503721\n",
      "Scheme Code: 100290.0, Score: 15.41856183739252\n",
      "Scheme Code: 110607.0, Score: 15.849825693983588\n",
      "Scheme Code: 100482.0, Score: 16.078607538863523\n",
      "Scheme Code: 100481.0, Score: 16.18290509566469\n",
      "Scheme Code: 101635.0, Score: 16.331162513910733\n",
      "Scheme Code: 100175.0, Score: 16.38573708760007\n",
      "Scheme Code: 100177.0, Score: 16.936527554754434\n",
      "Scheme Code: 100176.0, Score: 16.973697847573987\n",
      "Scheme Code: 100476.0, Score: 17.19364106081036\n",
      "Scheme Code: 100174.0, Score: 17.527640577510304\n",
      "Scheme Code: 100483.0, Score: 17.536943926877235\n",
      "Scheme Code: 100832.0, Score: 17.709380559745846\n",
      "Scheme Code: 102431.0, Score: 18.301532668951737\n",
      "Scheme Code: 101687.0, Score: 18.394430367367963\n",
      "Scheme Code: 102432.0, Score: 18.625611371083718\n",
      "Scheme Code: 101066.0, Score: 18.77769861670373\n",
      "Scheme Code: 101065.0, Score: 18.779590122365143\n",
      "Scheme Code: 100831.0, Score: 18.79326196352249\n",
      "Scheme Code: 100644.0, Score: 18.921766443340495\n",
      "Scheme Code: 104490.0, Score: 19.243812259426175\n",
      "Scheme Code: 111709.0, Score: 19.443864091758822\n",
      "Scheme Code: 111710.0, Score: 19.545402169285353\n",
      "Scheme Code: 101688.0, Score: 19.718813272453374\n",
      "Scheme Code: 109936.0, Score: 19.81961490906363\n",
      "Scheme Code: 107693.0, Score: 20.226854705246854\n",
      "Scheme Code: 101209.0, Score: 20.234636934595596\n",
      "Scheme Code: 100605.0, Score: 21.288853036664037\n",
      "Scheme Code: 112647.0, Score: 22.31772330814856\n",
      "Scheme Code: 107589.0, Score: 22.488052707656703\n",
      "Scheme Code: 112645.0, Score: 22.723304072273585\n",
      "Scheme Code: 101702.0, Score: 30.596733420025977\n",
      "Scheme Code: 100381.0, Score: 44.436991636322645\n",
      "Scheme Code: 100382.0, Score: 44.901500496975984\n",
      "Scheme Code: 101094.0, Score: 46.43610498563169\n",
      "Scheme Code: 101095.0, Score: 46.60439870347\n",
      "Scheme Code: 100589.0, Score: 47.486473117129634\n",
      "Scheme Code: 100800.0, Score: 48.10772532019823\n",
      "Scheme Code: 100801.0, Score: 48.784309528180515\n",
      "Scheme Code: 100956.0, Score: 58.267212496559\n",
      "Scheme Code: 100612.0, Score: 107.69692415136873\n",
      "Scheme Code: 109941.0, Score: 108.11702908995117\n",
      "Scheme Code: 100803.0, Score: 118.76325118786295\n",
      "Scheme Code: 100712.0, Score: 316.74038335795336\n"
     ]
    }
   ],
   "source": [
    "# Sort the dictionary based on values in ascending order\n",
    "sorted_scores = dict(sorted(scores_df.items(), key=lambda item: item[1]))\n",
    "\n",
    "print(\"Sorted scores:\")\n",
    "for key, value in sorted_scores.items():\n",
    "    print(f\"Scheme Code: {key}, Score: {value}\")"
   ]
  },
  {
   "cell_type": "code",
   "execution_count": null,
   "id": "9b4c2b5a",
   "metadata": {},
   "outputs": [],
   "source": []
  }
 ],
 "metadata": {
  "kernelspec": {
   "display_name": "Python 3 (ipykernel)",
   "language": "python",
   "name": "python3"
  },
  "language_info": {
   "codemirror_mode": {
    "name": "ipython",
    "version": 3
   },
   "file_extension": ".py",
   "mimetype": "text/x-python",
   "name": "python",
   "nbconvert_exporter": "python",
   "pygments_lexer": "ipython3",
   "version": "3.10.13"
  }
 },
 "nbformat": 4,
 "nbformat_minor": 5
}
